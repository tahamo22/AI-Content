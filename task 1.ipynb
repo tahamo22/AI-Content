{
  "nbformat": 4,
  "nbformat_minor": 0,
  "metadata": {
    "colab": {
      "provenance": []
    },
    "kernelspec": {
      "name": "python3",
      "display_name": "Python 3"
    },
    "language_info": {
      "name": "python"
    }
  },
  "cells": [
    {
      "cell_type": "code",
      "source": [
        "base = float(input(\"enter the base of triangle in cm \"))\n",
        "hight = float(input(\"enter the hight of triangle in cm \"))\n",
        "area = 0.5*base*hight\n",
        "print(\"the area of triangle is \", area ,\"cm squar\" )"
      ],
      "metadata": {
        "colab": {
          "base_uri": "https://localhost:8080/"
        },
        "id": "FSm1b8xeXzwJ",
        "outputId": "49dc5908-bbe4-496d-9afe-a7f57971e2c7"
      },
      "execution_count": 18,
      "outputs": [
        {
          "output_type": "stream",
          "name": "stdout",
          "text": [
            "enter the base of triangle in cm 12\n",
            "enter the hight of triangle in cm 2\n",
            "the area of triangle is  12.0 cm squar\n"
          ]
        }
      ]
    },
    {
      "cell_type": "code",
      "source": [
        "n1 : int = 5\n",
        "n2 : int = 10\n",
        "\n",
        "temp = n1\n",
        "n1 = n2\n",
        "n2 = temp\n",
        "\n",
        "print(\"n1 =\", n1)\n",
        "print(\"n2 =\", n2)"
      ],
      "metadata": {
        "colab": {
          "base_uri": "https://localhost:8080/"
        },
        "id": "LnvJ0IcoZwya",
        "outputId": "e63c4847-3635-47cb-f5d2-fb97f20a59db"
      },
      "execution_count": 14,
      "outputs": [
        {
          "output_type": "stream",
          "name": "stdout",
          "text": [
            "n1 = 10\n",
            "n2 = 5\n"
          ]
        }
      ]
    },
    {
      "cell_type": "code",
      "source": [
        "km = float(input(\" enter the number in kilometer \"))\n",
        "miles = km * 0.621371\n",
        "print(\"the number in miles is \" , miles)"
      ],
      "metadata": {
        "colab": {
          "base_uri": "https://localhost:8080/"
        },
        "id": "fdr-a-Vyb2t_",
        "outputId": "80d97050-a010-42b8-9a40-521c9dc9cf22"
      },
      "execution_count": 17,
      "outputs": [
        {
          "output_type": "stream",
          "name": "stdout",
          "text": [
            " enter the number in kilometer 10\n",
            "the number in miles is  6.21371\n"
          ]
        }
      ]
    }
  ]
}
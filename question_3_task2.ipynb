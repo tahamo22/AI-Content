{
  "nbformat": 4,
  "nbformat_minor": 0,
  "metadata": {
    "colab": {
      "provenance": []
    },
    "kernelspec": {
      "name": "python3",
      "display_name": "Python 3"
    },
    "language_info": {
      "name": "python"
    }
  },
  "cells": [
    {
      "cell_type": "code",
      "source": [
        "first=int(input(\"enter first age  \"))\n",
        "second=int(input(\"enter second age  \"))\n",
        "third=int(input(\"enter third age  \"))\n",
        "if first>second and first>third:\n",
        "  print(\"first is oldest\",\"(\",first,\")\")\n",
        "elif second>first and second>third:\n",
        "  print(\"second is oldest\",\"(\",second,\")\")\n",
        "else:\n",
        "  print(\"third is oldest\",\"(\",third,\")\")\n",
        "if first<second and first<third:\n",
        "    print(\"first is youngest\",\"(\",first,\")\")\n",
        "elif second<first and second<third:\n",
        "    print(\"second is youngest\",\"(\",second,\")\")\n",
        "else:\n",
        "    print(\"third is youngest\",\"(\",third,\")\")"
      ],
      "metadata": {
        "colab": {
          "base_uri": "https://localhost:8080/"
        },
        "id": "aTOGvPNNzOde",
        "outputId": "325f44f8-4a32-418c-cb56-4480f27ed87e"
      },
      "execution_count": null,
      "outputs": [
        {
          "output_type": "stream",
          "name": "stdout",
          "text": [
            "enter first age  12\n",
            "enter second age  34\n",
            "enter third age  33\n",
            "second is oldest ( 34 )\n",
            "first is youngest ( 12 )\n"
          ]
        }
      ]
    }
  ]
}
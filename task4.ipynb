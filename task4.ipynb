{
  "cells": [
    {
      "cell_type": "markdown",
      "metadata": {
        "id": "view-in-github",
        "colab_type": "text"
      },
      "source": [
        "<a href=\"https://colab.research.google.com/github/tahamo22/AI-Course-instant/blob/main/task4.ipynb\" target=\"_parent\"><img src=\"https://colab.research.google.com/assets/colab-badge.svg\" alt=\"Open In Colab\"/></a>"
      ]
    },
    {
      "cell_type": "markdown",
      "id": "759d04ba",
      "metadata": {
        "id": "759d04ba"
      },
      "source": [
        "**1-Write a Python program to calculate the length of a string using 2 ways"
      ]
    },
    {
      "cell_type": "code",
      "source": [
        "x=input(\"enter a string \")\n",
        "count=0\n",
        "for i in x:\n",
        "    count+=1\n",
        "print(count)"
      ],
      "metadata": {
        "id": "tTeMQzKLsZ5l",
        "outputId": "1e179c24-13db-47e0-a18c-04230df6ca8b",
        "colab": {
          "base_uri": "https://localhost:8080/"
        }
      },
      "id": "tTeMQzKLsZ5l",
      "execution_count": null,
      "outputs": [
        {
          "output_type": "stream",
          "name": "stdout",
          "text": [
            "enter a string tahamo\n",
            "6\n"
          ]
        }
      ]
    },
    {
      "cell_type": "code",
      "execution_count": null,
      "id": "e434c950",
      "metadata": {
        "id": "e434c950",
        "outputId": "f5e0f5d9-92e6-4ffa-f577-6f5786c9fd03",
        "colab": {
          "base_uri": "https://localhost:8080/"
        }
      },
      "outputs": [
        {
          "output_type": "stream",
          "name": "stdout",
          "text": [
            "enter a string taha\n",
            "4\n"
          ]
        }
      ],
      "source": [
        "x=input(\"enter a string \")\n",
        "print(len(x))"
      ]
    },
    {
      "cell_type": "markdown",
      "id": "d7cc9da7",
      "metadata": {
        "id": "d7cc9da7"
      },
      "source": [
        "**2-Write a Python program to get a string made of the first 2 and last 2 characters of a given string. If the string length is less than 2, return the empty string instead (\"##Sample String : 'w3resource'\n",
        "Expected Result : 'w3ce'\n",
        "##Sample String : 'w3'\n",
        "Expected Result : 'w3w3'\n",
        "##Sample String : ' w'\n",
        "Expected Result : Empty String)"
      ]
    },
    {
      "cell_type": "code",
      "source": [
        "x=input(\"enter a string \")\n",
        "if len(x)<2:\n",
        "    print(\"empty string\")\n",
        "else:\n",
        "    print(x[:2]+x[-2:])"
      ],
      "metadata": {
        "id": "YO4KGSUOuA2v",
        "outputId": "2c0eb3db-b638-46bc-952e-cebbdc5f81a2",
        "colab": {
          "base_uri": "https://localhost:8080/"
        }
      },
      "id": "YO4KGSUOuA2v",
      "execution_count": null,
      "outputs": [
        {
          "output_type": "stream",
          "name": "stdout",
          "text": [
            "enter a string tah\n",
            "taah\n"
          ]
        }
      ]
    },
    {
      "cell_type": "markdown",
      "id": "1534f956",
      "metadata": {
        "id": "1534f956"
      },
      "source": [
        "**3-Write a Python program to add 'ing' at the end of a given string (length should be at least 3). If the given string already ends with 'ing', add 'ly' instead. If the string length of the given string is less than 3, leave it unchanged. (Sample String : 'abc'\n",
        "Expected Result : 'abcing')"
      ]
    },
    {
      "cell_type": "code",
      "execution_count": null,
      "id": "7ff8cec4",
      "metadata": {
        "id": "7ff8cec4",
        "outputId": "41722231-e9ef-4942-d2f5-d2aea0fc8450",
        "colab": {
          "base_uri": "https://localhost:8080/"
        }
      },
      "outputs": [
        {
          "output_type": "stream",
          "name": "stdout",
          "text": [
            "enter a string going\n",
            "goly\n"
          ]
        }
      ],
      "source": [
        "x=input(\"enter a string \")\n",
        "if len(x)<3:\n",
        "    print(x)\n",
        "elif x[-3:]==\"ing\":\n",
        "     x=x.replace(x[-3:],\"ly\")\n",
        "     print(x)\n",
        "else:\n",
        "    print(x+\"ing\")"
      ]
    },
    {
      "cell_type": "markdown",
      "id": "1c0a6627",
      "metadata": {
        "id": "1c0a6627"
      },
      "source": [
        "**4-Write a Python function that takes a list of words and return the longest word and the length of the longest one\n",
        "(Longest word: Exercises\n",
        "Length of the longest word: 9)"
      ]
    },
    {
      "cell_type": "code",
      "execution_count": null,
      "id": "397341d9",
      "metadata": {
        "id": "397341d9",
        "outputId": "d75f0d6e-3610-43b6-fd1d-fc9848430974",
        "colab": {
          "base_uri": "https://localhost:8080/"
        }
      },
      "outputs": [
        {
          "output_type": "stream",
          "name": "stdout",
          "text": [
            "Enter a list words: taha mohamed ahmed\n",
            "Longest word:  mohamed\n",
            "Length of the longest word:  7\n"
          ]
        }
      ],
      "source": [
        "list1=input(\"Enter a list words: \")\n",
        "list1=list(map(str,list1.split()))\n",
        "longest_word=max(list1,key=len)\n",
        "print(\"Longest word: \",longest_word)\n",
        "print(\"Length of the longest word: \",len(longest_word))\n"
      ]
    },
    {
      "cell_type": "markdown",
      "id": "53a03a6a",
      "metadata": {
        "id": "53a03a6a"
      },
      "source": [
        "**5-Write a Python program to change a given string to a newly string where the first and last chars have been exchanged using 2 ways (Sample String:abca  Expected Result:ebce)"
      ]
    },
    {
      "cell_type": "code",
      "source": [
        "x=input(\"enter a string \")\n",
        "x=x[-1]+x[1:-1]+x[0]\n",
        "print(x)"
      ],
      "metadata": {
        "id": "HPjdMHPa5dCM",
        "outputId": "c9c55ca3-86ac-4ae2-d170-80eda9dc89b9",
        "colab": {
          "base_uri": "https://localhost:8080/"
        }
      },
      "id": "HPjdMHPa5dCM",
      "execution_count": null,
      "outputs": [
        {
          "output_type": "stream",
          "name": "stdout",
          "text": [
            "enter a string mohamed\n",
            "dohamem\n"
          ]
        }
      ]
    },
    {
      "cell_type": "code",
      "execution_count": null,
      "id": "285788b4",
      "metadata": {
        "id": "285788b4",
        "outputId": "5e52fcbd-9af9-4778-e024-e6ebf91f8b9d",
        "colab": {
          "base_uri": "https://localhost:8080/"
        }
      },
      "outputs": [
        {
          "output_type": "stream",
          "name": "stdout",
          "text": [
            "enter a string taha\n",
            "['t', 'a', 'h', 'a']\n",
            "['a', 'a', 'h', 't']\n",
            "aaht\n"
          ]
        }
      ],
      "source": [
        "text=(input(\"enter a string \"))\n",
        "lst=list(text)\n",
        "lst[0],lst[-1]=lst[-1],lst[0]\n",
        "text=\"\".join(lst)\n",
        "print(text)"
      ]
    },
    {
      "cell_type": "markdown",
      "id": "25f89808",
      "metadata": {
        "id": "25f89808"
      },
      "source": [
        "**6-Write a Python program to remove characters that have odd index values in a given string (Sample String:abca Expected Result:ac)"
      ]
    },
    {
      "cell_type": "code",
      "execution_count": null,
      "id": "05959bd7",
      "metadata": {
        "id": "05959bd7",
        "outputId": "cd7a05a8-74b9-4116-dab2-dd6076cb1aa4",
        "colab": {
          "base_uri": "https://localhost:8080/"
        }
      },
      "outputs": [
        {
          "output_type": "stream",
          "name": "stdout",
          "text": [
            "enter a string taha\n",
            "th\n"
          ]
        }
      ],
      "source": [
        "x=input(\"enter a string \")\n",
        "print(x[::2])"
      ]
    },
    {
      "cell_type": "markdown",
      "id": "eb16e898",
      "metadata": {
        "id": "eb16e898"
      },
      "source": [
        "**7-Write a Python program to count the occurrences of each word in a given sentence (Sample String:amr and ahmed are frindes but amr is the tallest Expected Result:2)"
      ]
    },
    {
      "cell_type": "code",
      "execution_count": null,
      "id": "01ce6cf5",
      "metadata": {
        "id": "01ce6cf5",
        "outputId": "f220677d-f60e-4f42-d2d9-f7e5bfc57403",
        "colab": {
          "base_uri": "https://localhost:8080/"
        }
      },
      "outputs": [
        {
          "output_type": "stream",
          "name": "stdout",
          "text": [
            "enter a string taha mohamed mohamed\n",
            "['taha', 'mohamed', 'mohamed']\n",
            "taha = 1\n",
            "mohamed = 2\n",
            "mohamed = 2\n"
          ]
        }
      ],
      "source": [
        "x=input(\"enter a string \")\n",
        "x=x.split()\n",
        "print(x)\n",
        "for i in x:\n",
        "    print(i,\"=\",x.count(i))"
      ]
    },
    {
      "cell_type": "markdown",
      "id": "4e8125f1",
      "metadata": {
        "id": "4e8125f1"
      },
      "source": [
        "**8-Write a Python script that takes input from the user and displays that input back in upper and lower cases"
      ]
    },
    {
      "cell_type": "code",
      "execution_count": null,
      "id": "66c8f778",
      "metadata": {
        "id": "66c8f778",
        "outputId": "902fb22c-7fb2-48b4-926a-68dcdb0052d9",
        "colab": {
          "base_uri": "https://localhost:8080/"
        }
      },
      "outputs": [
        {
          "output_type": "stream",
          "name": "stdout",
          "text": [
            "enter a string taha\n",
            "TAHA\n",
            "taha\n"
          ]
        }
      ],
      "source": [
        "x=input(\"enter a string \")\n",
        "print(x.upper())\n",
        "print(x.lower())"
      ]
    },
    {
      "cell_type": "markdown",
      "id": "fcd68aa1",
      "metadata": {
        "id": "fcd68aa1"
      },
      "source": [
        "**9-Write a Python function to reverse a string if its length is a multiple of 4"
      ]
    },
    {
      "cell_type": "code",
      "execution_count": null,
      "id": "0671a931",
      "metadata": {
        "id": "0671a931",
        "outputId": "6b3d8b1e-993a-4643-c8ec-9a80e141fa08",
        "colab": {
          "base_uri": "https://localhost:8080/"
        }
      },
      "outputs": [
        {
          "output_type": "stream",
          "name": "stdout",
          "text": [
            "enter a string taha\n",
            "ahat\n"
          ]
        }
      ],
      "source": [
        "x=input(\"enter a string \")\n",
        "if len(x)%4==0:\n",
        "    print(x[::-1])\n",
        "else:\n",
        "    print(x)"
      ]
    },
    {
      "cell_type": "markdown",
      "id": "b577c68d",
      "metadata": {
        "id": "b577c68d"
      },
      "source": [
        "**10- Write a Python program to remove a newline in Python"
      ]
    },
    {
      "cell_type": "code",
      "execution_count": null,
      "id": "e0c6525a",
      "metadata": {
        "id": "e0c6525a",
        "outputId": "cc9ecf98-f286-409d-d591-92e29bdc39fc",
        "colab": {
          "base_uri": "https://localhost:8080/"
        }
      },
      "outputs": [
        {
          "output_type": "stream",
          "name": "stdout",
          "text": [
            "taha\n",
            "mohamed\n",
            "taha mohamed\n"
          ]
        }
      ],
      "source": [
        "text=(\"taha\\nmohamed\")\n",
        "print(text)\n",
        "text=text.replace(\"\\n\",\" \")\n",
        "print(text)\n"
      ]
    },
    {
      "cell_type": "markdown",
      "id": "80db5ae0",
      "metadata": {
        "id": "80db5ae0"
      },
      "source": [
        "**11-Write a Python program to check whether a string starts with specified characters"
      ]
    },
    {
      "cell_type": "code",
      "execution_count": 15,
      "id": "0cc4e03e",
      "metadata": {
        "id": "0cc4e03e",
        "colab": {
          "base_uri": "https://localhost:8080/"
        },
        "outputId": "563f9072-b9f3-4e4c-eee4-453cd2d09788"
      },
      "outputs": [
        {
          "output_type": "stream",
          "name": "stdout",
          "text": [
            "enter a string taha\n",
            "enter a character t\n",
            "yes\n"
          ]
        }
      ],
      "source": [
        "x=input(\"enter a string \")\n",
        "y=input(\"enter a character \")\n",
        "if x[0]==y:\n",
        "    print(\"yes\")\n",
        "else:\n",
        "    print(\"no\")"
      ]
    },
    {
      "cell_type": "markdown",
      "id": "593a68db",
      "metadata": {
        "id": "593a68db"
      },
      "source": [
        "**12- Write a Python program to add prefix text to all of the lines in a string"
      ]
    },
    {
      "cell_type": "code",
      "execution_count": 22,
      "id": "d2e46ada",
      "metadata": {
        "id": "d2e46ada",
        "colab": {
          "base_uri": "https://localhost:8080/"
        },
        "outputId": "8ec74746-9263-4924-cfe5-46474d529976"
      },
      "outputs": [
        {
          "output_type": "stream",
          "name": "stdout",
          "text": [
            "Enter the text: taha mohmed\n",
            "Enter the prefix to add: this \n",
            "this  taha\n",
            "this  mohmed\n"
          ]
        }
      ],
      "source": [
        "text = input(\"Enter the text: \")\n",
        "prefix = input(\"Enter the prefix to add: \")\n",
        "\n",
        "words = text.split()\n",
        "for word in words:\n",
        "    print(prefix, word)\n"
      ]
    },
    {
      "cell_type": "markdown",
      "id": "86fa1543",
      "metadata": {
        "id": "86fa1543"
      },
      "source": [
        "**13-Write a Python program to print the following numbers up to 2 decimal places"
      ]
    },
    {
      "cell_type": "code",
      "execution_count": null,
      "id": "cd4a9d89",
      "metadata": {
        "id": "cd4a9d89",
        "outputId": "51baabbb-5285-42e2-a601-04ba20e0fc76",
        "colab": {
          "base_uri": "https://localhost:8080/"
        }
      },
      "outputs": [
        {
          "output_type": "stream",
          "name": "stdout",
          "text": [
            "enter a number 0.121453\n",
            "0.12\n"
          ]
        }
      ],
      "source": [
        "x=float(input(\"enter a number \"))\n",
        "print(round(x,2))\n"
      ]
    },
    {
      "cell_type": "markdown",
      "id": "452c0ab0",
      "metadata": {
        "id": "452c0ab0"
      },
      "source": [
        "**14-Write a Python program to print the following numbers up to 2 decimal places with a sign"
      ]
    },
    {
      "cell_type": "code",
      "execution_count": null,
      "id": "73e82479",
      "metadata": {
        "id": "73e82479",
        "outputId": "a3f05f81-0460-4b6f-d00c-0db95e4e1ee2",
        "colab": {
          "base_uri": "https://localhost:8080/"
        }
      },
      "outputs": [
        {
          "output_type": "stream",
          "name": "stdout",
          "text": [
            "enter a number -0.12234\n",
            "-0.12 sign is negative\n"
          ]
        }
      ],
      "source": [
        "x=float(input(\"enter a number \"))\n",
        "if x>=0:\n",
        "    print(round(x,2),\"sign is positive\")\n",
        "else:\n",
        "    print(round(x,2), \"sign is negative\")"
      ]
    },
    {
      "cell_type": "markdown",
      "id": "32b1811a",
      "metadata": {
        "id": "32b1811a"
      },
      "source": [
        "**15-Write a Python program to display a number with a comma separator"
      ]
    },
    {
      "cell_type": "code",
      "execution_count": null,
      "id": "f30fc0b6",
      "metadata": {
        "id": "f30fc0b6",
        "outputId": "f4776d53-d920-4ea4-867f-243fc6d2de38",
        "colab": {
          "base_uri": "https://localhost:8080/"
        }
      },
      "outputs": [
        {
          "output_type": "stream",
          "name": "stdout",
          "text": [
            "enter a number 2133415\n",
            "2,133,415\n"
          ]
        }
      ],
      "source": [
        "x=int(input(\"enter a number \"))\n",
        "print(f\"{x:,}\")\n"
      ]
    },
    {
      "cell_type": "markdown",
      "id": "0477f487",
      "metadata": {
        "id": "0477f487"
      },
      "source": [
        "**16-Write a Python program to reverse a string using 2 ways"
      ]
    },
    {
      "cell_type": "code",
      "execution_count": null,
      "id": "aa8beec8",
      "metadata": {
        "id": "aa8beec8",
        "outputId": "3b0c2093-d3e5-4f0c-e91b-7571dbddbdcf",
        "colab": {
          "base_uri": "https://localhost:8080/"
        }
      },
      "outputs": [
        {
          "output_type": "stream",
          "name": "stdout",
          "text": [
            "enter a string taha\n",
            "ahat\n"
          ]
        }
      ],
      "source": [
        "x=input(\"enter a string \")\n",
        "print(x[::-1])"
      ]
    },
    {
      "cell_type": "code",
      "source": [
        "text=(input(\"enter a string \"))\n",
        "lst=list(text)\n",
        "lst.reverse()\n",
        "text=\"\".join(lst)\n",
        "print(text)"
      ],
      "metadata": {
        "id": "YpepJEdfJGvX",
        "outputId": "8583629d-3a3e-46a6-bf6a-db2f568c0835",
        "colab": {
          "base_uri": "https://localhost:8080/"
        }
      },
      "id": "YpepJEdfJGvX",
      "execution_count": null,
      "outputs": [
        {
          "output_type": "stream",
          "name": "stdout",
          "text": [
            "enter a string taha\n",
            "ahat\n"
          ]
        }
      ]
    },
    {
      "cell_type": "code",
      "source": [
        "x=input(\"enter a string \")\n",
        "y=\"\"\n",
        "for i in x:\n",
        "    y=i+y\n",
        "print(y)\n"
      ],
      "metadata": {
        "id": "UuMrfG1YIvno",
        "outputId": "e33f734f-30ee-4172-c7cb-9c6c76136f29",
        "colab": {
          "base_uri": "https://localhost:8080/"
        }
      },
      "id": "UuMrfG1YIvno",
      "execution_count": null,
      "outputs": [
        {
          "output_type": "stream",
          "name": "stdout",
          "text": [
            "enter a string taha\n",
            "ahat\n"
          ]
        }
      ]
    },
    {
      "cell_type": "markdown",
      "id": "5afc3166",
      "metadata": {
        "id": "5afc3166"
      },
      "source": [
        " **17-Write a Python program to count repeated characters in a string (hint:use dictionary)"
      ]
    },
    {
      "cell_type": "code",
      "execution_count": null,
      "id": "515a469c",
      "metadata": {
        "id": "515a469c",
        "outputId": "89427e4e-84fc-4c9f-a6ec-ff49751f9a3d",
        "colab": {
          "base_uri": "https://localhost:8080/"
        }
      },
      "outputs": [
        {
          "output_type": "stream",
          "name": "stdout",
          "text": [
            "enter a string taha\n",
            "{'t': 1, 'a': 2, 'h': 1}\n"
          ]
        }
      ],
      "source": [
        "l=input(\"enter a string \")\n",
        "dict1={}\n",
        "for i in l:\n",
        "    if i in dict1:\n",
        "        dict1[i]+=1\n",
        "    else:\n",
        "        dict1[i]=1\n",
        "print(dict1)\n"
      ]
    },
    {
      "cell_type": "markdown",
      "id": "ae14e4e5",
      "metadata": {
        "id": "ae14e4e5"
      },
      "source": [
        "**18-Write a Python program to find the first non-repeating character in a given string"
      ]
    },
    {
      "cell_type": "code",
      "execution_count": null,
      "id": "d73778e5",
      "metadata": {
        "id": "d73778e5",
        "outputId": "f4e2f394-faee-454d-af74-ab2b1b313cdd",
        "colab": {
          "base_uri": "https://localhost:8080/"
        }
      },
      "outputs": [
        {
          "output_type": "stream",
          "name": "stdout",
          "text": [
            "enter a string taha moahmed\n",
            "t\n"
          ]
        }
      ],
      "source": [
        "x=input(\"enter a string \")\n",
        "for i in x:\n",
        "    if x.count(i)==1:\n",
        "        print(i)\n",
        "        break"
      ]
    },
    {
      "cell_type": "markdown",
      "id": "3adf5669",
      "metadata": {
        "id": "3adf5669"
      },
      "source": [
        "**19-Write a Python program to remove spaces from a given string"
      ]
    },
    {
      "cell_type": "code",
      "execution_count": null,
      "id": "b4f22602",
      "metadata": {
        "id": "b4f22602",
        "outputId": "c2db654d-f3b8-49b9-fca8-6fc32d8b9ddc",
        "colab": {
          "base_uri": "https://localhost:8080/"
        }
      },
      "outputs": [
        {
          "output_type": "stream",
          "name": "stdout",
          "text": [
            "enter a string taha moahmed\n",
            "tahamoahmed\n"
          ]
        }
      ],
      "source": [
        "x=input(\"enter a string \")\n",
        "print(x.replace(\" \",\"\"))"
      ]
    },
    {
      "cell_type": "markdown",
      "id": "734de60c",
      "metadata": {
        "id": "734de60c"
      },
      "source": [
        "**20-Write a Python program to count the number of non-empty substrings of a given string"
      ]
    },
    {
      "cell_type": "code",
      "execution_count": null,
      "id": "ef3f2274",
      "metadata": {
        "id": "ef3f2274",
        "outputId": "4db03cf0-1476-4051-f755-f380ee7975d7",
        "colab": {
          "base_uri": "https://localhost:8080/"
        }
      },
      "outputs": [
        {
          "output_type": "stream",
          "name": "stdout",
          "text": [
            "enter a string abc\n",
            "6\n"
          ]
        }
      ],
      "source": [
        "x=input(\"enter a string \")\n",
        "len=len(x)\n",
        "print(int((len*(len+1))/2))"
      ]
    },
    {
      "cell_type": "markdown",
      "id": "509998e2",
      "metadata": {
        "id": "509998e2"
      },
      "source": [
        "**21-write a Python program to swap first and last element of any list."
      ]
    },
    {
      "cell_type": "code",
      "execution_count": null,
      "id": "68692d7f",
      "metadata": {
        "id": "68692d7f",
        "outputId": "3889882e-6188-487d-f801-2f3cda091513",
        "colab": {
          "base_uri": "https://localhost:8080/"
        }
      },
      "outputs": [
        {
          "output_type": "stream",
          "name": "stdout",
          "text": [
            "enter a list 3 4 1 1 2 4 t a \n",
            "['a', '4', '1', '1', '2', '4', 't', '3']\n"
          ]
        }
      ],
      "source": [
        "x=input(\"enter a list \")\n",
        "x=x.split()\n",
        "x[0],x[-1]=x[-1],x[0]\n",
        "print(x)"
      ]
    },
    {
      "cell_type": "markdown",
      "id": "959e0837",
      "metadata": {
        "id": "959e0837"
      },
      "source": [
        "**22-Given a list in Python and provided the positions of the elements, write a program to swap the two elements in the list. (Input : List = [23, 65, 19, 90], pos1 = 1, pos2 = 3\n",
        "Output : [19, 65, 23, 90])"
      ]
    },
    {
      "cell_type": "code",
      "execution_count": null,
      "id": "225d8c6d",
      "metadata": {
        "id": "225d8c6d",
        "outputId": "83f3beb6-52b6-426f-920d-5d8036313ef9",
        "colab": {
          "base_uri": "https://localhost:8080/"
        }
      },
      "outputs": [
        {
          "output_type": "stream",
          "name": "stdout",
          "text": [
            "enter a list 12 23 4 5 34\n",
            "enter the first position 1\n",
            "enter the second position 4\n",
            "['5', '23', '4', '12', '34']\n"
          ]
        }
      ],
      "source": [
        "lst=input(\"enter a list \")\n",
        "lst=lst.split()\n",
        "pos1=int(input(\"enter the first position \"))\n",
        "pos2=int(input(\"enter the second position \"))\n",
        "lst[pos1-1],lst[pos2-1]=lst[pos2-1],lst[pos1-1]\n",
        "print(lst)"
      ]
    },
    {
      "cell_type": "markdown",
      "id": "66fc6682",
      "metadata": {
        "id": "66fc6682"
      },
      "source": [
        "\\**23- search for the all ways to know the length of the list"
      ]
    },
    {
      "cell_type": "code",
      "source": [
        "x=input(\"enter a list \")\n",
        "x=list((x.split()))\n",
        "count=0\n",
        "for i in x:\n",
        "  count += 1\n",
        "print(count)\n"
      ],
      "metadata": {
        "colab": {
          "base_uri": "https://localhost:8080/"
        },
        "id": "ZDzkL-v6sRw1",
        "outputId": "a96cec9c-7525-4bd8-cca1-4db37105cc55"
      },
      "id": "ZDzkL-v6sRw1",
      "execution_count": null,
      "outputs": [
        {
          "output_type": "stream",
          "name": "stdout",
          "text": [
            "enter a list 5 5 7 8 4 2 \n",
            "6\n"
          ]
        }
      ]
    },
    {
      "cell_type": "code",
      "source": [
        "from operator import length_hint\n",
        "x=input(\"enter a list \")\n",
        "x=list((x.split()))\n",
        "print(length_hint(x))\n",
        "\n"
      ],
      "metadata": {
        "colab": {
          "base_uri": "https://localhost:8080/"
        },
        "id": "5qQObuSeuGLT",
        "outputId": "afcdbd96-922d-4665-a2c9-6789871ae9df"
      },
      "id": "5qQObuSeuGLT",
      "execution_count": null,
      "outputs": [
        {
          "output_type": "stream",
          "name": "stdout",
          "text": [
            "enter a list 43 5 6 7 8\n",
            "5\n"
          ]
        }
      ]
    },
    {
      "cell_type": "code",
      "source": [
        "x=input(\"enter a list \")\n",
        "x=list((x.split()))\n",
        "print(len(x))"
      ],
      "metadata": {
        "id": "4LPfXshWRcpF",
        "colab": {
          "base_uri": "https://localhost:8080/"
        },
        "outputId": "fc555e34-e26b-437c-e7e1-deb2510cb50e"
      },
      "id": "4LPfXshWRcpF",
      "execution_count": null,
      "outputs": [
        {
          "output_type": "stream",
          "name": "stdout",
          "text": [
            "enter a list 2 3 4 56 6 7 98 0 9\n",
            "9\n"
          ]
        }
      ]
    },
    {
      "cell_type": "markdown",
      "source": [
        "**24-write a Python code to find the Maximum number of list of numbers."
      ],
      "metadata": {
        "id": "4XbA4YreRi7m"
      },
      "id": "4XbA4YreRi7m"
    },
    {
      "cell_type": "code",
      "execution_count": null,
      "id": "63ff8b43",
      "metadata": {
        "id": "63ff8b43",
        "colab": {
          "base_uri": "https://localhost:8080/"
        },
        "outputId": "1f6ba447-44ab-4263-979e-bb5799002670"
      },
      "outputs": [
        {
          "output_type": "stream",
          "name": "stdout",
          "text": [
            "enter a list  5 3 12 1 3\n",
            "12\n"
          ]
        }
      ],
      "source": [
        "list1=input(\"enter a list \")\n",
        "list1=list(map(int,list1.split()))\n",
        "print(max(list1))"
      ]
    },
    {
      "cell_type": "markdown",
      "source": [
        "**25-write a Python code to find the Minimum number of list of numbers."
      ],
      "metadata": {
        "id": "x2QuWFStSu8r"
      },
      "id": "x2QuWFStSu8r"
    },
    {
      "cell_type": "code",
      "execution_count": null,
      "id": "21f8cbd6",
      "metadata": {
        "id": "21f8cbd6",
        "colab": {
          "base_uri": "https://localhost:8080/"
        },
        "outputId": "dbd61e94-3ac0-404f-97e0-6356117960a3"
      },
      "outputs": [
        {
          "output_type": "stream",
          "name": "stdout",
          "text": [
            "enter a list 4 6 7 4 2 1\n",
            "1\n"
          ]
        }
      ],
      "source": [
        "list1=input(\"enter a list \")\n",
        "list1=list(map(int,list1.split()))\n",
        "print(min(list1))"
      ]
    },
    {
      "cell_type": "markdown",
      "id": "96822d96",
      "metadata": {
        "id": "96822d96"
      },
      "source": [
        "**26-search for if an elem is existing in list"
      ]
    },
    {
      "cell_type": "code",
      "execution_count": null,
      "id": "51ca5c9a",
      "metadata": {
        "id": "51ca5c9a",
        "colab": {
          "base_uri": "https://localhost:8080/"
        },
        "outputId": "787e2dc0-2ecc-44f6-9b42-bc0b83bdd559"
      },
      "outputs": [
        {
          "output_type": "stream",
          "name": "stdout",
          "text": [
            "enter a list  34 2 1 4 6\n",
            "enter the element to search 1\n",
            "element 1 is found in list\n"
          ]
        }
      ],
      "source": [
        "x=input(\"enter a list \")\n",
        "y=input(\"enter the element to search \")\n",
        "x=list(x.split())\n",
        "for i in x:\n",
        "    if i==y:\n",
        "        print(f\"element {i} is found in list\")\n",
        "        break\n",
        "else:\n",
        "    print(\"element not found\")\n"
      ]
    },
    {
      "cell_type": "markdown",
      "id": "d9557da7",
      "metadata": {
        "id": "d9557da7"
      },
      "source": [
        "**27- clear python list using different ways"
      ]
    },
    {
      "cell_type": "code",
      "execution_count": null,
      "id": "b69858a3",
      "metadata": {
        "id": "b69858a3",
        "colab": {
          "base_uri": "https://localhost:8080/"
        },
        "outputId": "55482231-1b54-4fb7-c632-2f9d9e65169e"
      },
      "outputs": [
        {
          "output_type": "stream",
          "name": "stdout",
          "text": [
            "enter a list 1 2 3 45 3 6 4\n",
            "[]\n"
          ]
        }
      ],
      "source": [
        "x=input(\"enter a list \")\n",
        "x=list(x.split())\n",
        "x.clear()\n",
        "print(x)"
      ]
    },
    {
      "cell_type": "markdown",
      "id": "52160e88",
      "metadata": {
        "id": "52160e88"
      },
      "source": [
        "**28-remove duplicated elements from a list"
      ]
    },
    {
      "cell_type": "code",
      "execution_count": null,
      "id": "5e362228",
      "metadata": {
        "id": "5e362228",
        "colab": {
          "base_uri": "https://localhost:8080/"
        },
        "outputId": "ad3206e8-ed78-4af9-bee9-83841cfbcbcd"
      },
      "outputs": [
        {
          "output_type": "stream",
          "name": "stdout",
          "text": [
            "enter a list 3 4 21  1 2 3 4\n",
            "['3', '4', '21', '1', '2']\n"
          ]
        }
      ],
      "source": [
        "x=input(\"enter a list \")\n",
        "x=list(x.split())\n",
        "y=[]\n",
        "for i in x:\n",
        "    if i not in y:\n",
        "        y.append(i)\n",
        "print(y)"
      ]
    },
    {
      "cell_type": "markdown",
      "id": "282337f7",
      "metadata": {
        "id": "282337f7"
      },
      "source": [
        "**29-Given list values and keys list, convert these values to key value pairs in form of list of dictionaries. (Input : test_list = [“Gfg”, 3, “is”, 8], key_list = [“name”, “id”]\n",
        "Output : [{‘name’: ‘Gfg’, ‘id’: 3}, {‘name’: ‘is’, ‘id’: 8}])"
      ]
    },
    {
      "cell_type": "code",
      "execution_count": null,
      "id": "4d4e2d28",
      "metadata": {
        "id": "4d4e2d28",
        "colab": {
          "base_uri": "https://localhost:8080/"
        },
        "outputId": "595becd6-594b-4c98-f183-8b2b63cd4fec"
      },
      "outputs": [
        {
          "output_type": "stream",
          "name": "stdout",
          "text": [
            "enter a list taha 23 mo 21 lol 33\n",
            "[{'taha': '23'}, {'mo': '21'}, {'lol': '33'}]\n"
          ]
        }
      ],
      "source": [
        "x=input(\"enter a list \")\n",
        "x=list(x.split())\n",
        "dict1={}\n",
        "lis=[]\n",
        "for i in range(0,len(x),2):\n",
        "    dict1[x[i]]=x[i+1]\n",
        "    lis.append(dict1)\n",
        "    dict1={}\n",
        "print(lis)\n"
      ]
    },
    {
      "cell_type": "markdown",
      "id": "c26b6e9f",
      "metadata": {
        "id": "c26b6e9f"
      },
      "source": [
        "**30-write a python program to count unique values inside a list using different ways"
      ]
    },
    {
      "cell_type": "code",
      "execution_count": null,
      "id": "72132667",
      "metadata": {
        "id": "72132667",
        "colab": {
          "base_uri": "https://localhost:8080/"
        },
        "outputId": "14454cfd-3f27-4b6f-ff9b-802785290946"
      },
      "outputs": [
        {
          "output_type": "stream",
          "name": "stdout",
          "text": [
            "enter a list 2 3 4 5 6 7 34 3 3 21 2 4 \n",
            "['5', '6', '7', '34', '21']\n",
            "And the count of this number is   5\n"
          ]
        }
      ],
      "source": [
        "x=input(\"enter a list \")\n",
        "x=list(x.split())\n",
        "y=[]\n",
        "for i in x:\n",
        "    if x.count(i)==1:\n",
        "        y.append(i)\n",
        "print(y)\n",
        "print(\"And the count of this number is  \",len(y))\n",
        "\n",
        "\n"
      ]
    },
    {
      "cell_type": "code",
      "source": [
        "#set1=input(\"enter a list \")\n",
        "#set1=set(set1.split())\n",
        "#print(set1)"
      ],
      "metadata": {
        "colab": {
          "base_uri": "https://localhost:8080/"
        },
        "id": "KLaxr4-u41Qg",
        "outputId": "d7bf31ce-9c2d-47dd-fcb1-0127b54c641c"
      },
      "id": "KLaxr4-u41Qg",
      "execution_count": null,
      "outputs": [
        {
          "output_type": "stream",
          "name": "stdout",
          "text": [
            "enter a list 2 3 4 2\n",
            "{'3', '2', '4'}\n"
          ]
        }
      ]
    },
    {
      "cell_type": "markdown",
      "id": "fed6677c",
      "metadata": {
        "id": "fed6677c"
      },
      "source": [
        "**31-write a python program Extract all elements with Frequency greater than K (Input : test_list = [4, 6, 4, 3, 3, 4, 3, 4, 3, 8], K = 3\n",
        "Output : [4, 3] )"
      ]
    },
    {
      "cell_type": "code",
      "execution_count": null,
      "id": "d81f3f9d",
      "metadata": {
        "id": "d81f3f9d",
        "colab": {
          "base_uri": "https://localhost:8080/"
        },
        "outputId": "911c43a0-653b-4f47-8246-fa24144d448d"
      },
      "outputs": [
        {
          "output_type": "stream",
          "name": "stdout",
          "text": [
            "enter a list 2 1 2 3 4 46 2 2 4  3 4 3\n",
            "enter a number 2\n",
            "{2, 3, 4}\n"
          ]
        }
      ],
      "source": [
        "x=input(\"enter a list \")\n",
        "x=list(map(int,x.split()))\n",
        "k=int(input(\"enter a number \"))\n",
        "y=[]\n",
        "for i in x:\n",
        "    if x.count(i)>k:\n",
        "      y.append(i)\n",
        "print(set(y))"
      ]
    },
    {
      "cell_type": "markdown",
      "id": "caca5224",
      "metadata": {
        "id": "caca5224"
      },
      "source": [
        "**32-write a python program to find the Strongest Neighbour (Input: 1 2 2 3 4 5\n",
        "Output: 2 2 3 4 5)"
      ]
    },
    {
      "cell_type": "code",
      "execution_count": null,
      "id": "39fbd9b2",
      "metadata": {
        "id": "39fbd9b2",
        "colab": {
          "base_uri": "https://localhost:8080/"
        },
        "outputId": "fb8a190e-910b-45d5-cee3-1e373432ac6e"
      },
      "outputs": [
        {
          "output_type": "stream",
          "name": "stdout",
          "text": [
            "Enter numbers separated by space: 1 2 3 2 34 5 \n",
            "Output: 2 3 3 34 34\n"
          ]
        }
      ],
      "source": [
        "def strongest_neighbours(arr):\n",
        "    result = []\n",
        "    for i in range(len(arr) - 1):\n",
        "        result.append(max(arr[i], arr[i + 1]))\n",
        "    return result\n",
        "\n",
        "user_input = input(\"Enter numbers separated by space: \")\n",
        "input_list = list(map(int, user_input.split()))\n",
        "\n",
        "output = strongest_neighbours(input_list)\n",
        "print(\"Output:\", *output)\n"
      ]
    },
    {
      "cell_type": "markdown",
      "id": "a9fa8baf",
      "metadata": {
        "id": "a9fa8baf"
      },
      "source": [
        "**33-write a Python Program to print all Possible Combinations from the three Digits (Input: [1, 2, 3]\n",
        "Output:\n",
        "1 2 3 ##\n",
        "1 3 2 ##\n",
        "2 1 3 ##\n",
        "2 3 1 ##\n",
        "3 1 2 ##\n",
        "3 2 1)"
      ]
    },
    {
      "cell_type": "code",
      "execution_count": null,
      "id": "8c520a76",
      "metadata": {
        "id": "8c520a76",
        "colab": {
          "base_uri": "https://localhost:8080/"
        },
        "outputId": "3314ef5a-e121-4062-9ab1-741fe9b0e4ca"
      },
      "outputs": [
        {
          "output_type": "stream",
          "name": "stdout",
          "text": [
            "enter a list 1 2 3\n",
            "1 2 3\n",
            "1 3 2\n",
            "2 1 3\n",
            "2 3 1\n",
            "3 1 2\n",
            "3 2 1\n"
          ]
        }
      ],
      "source": [
        "x=input(\"enter a list \")\n",
        "x=list(map(int,x.split()))\n",
        "for i in range(3):\n",
        "    for j in range(3):\n",
        "        for k in range(3):\n",
        "            if i!=j and j!=k and i!=k:\n",
        "                print(x[i],x[j],x[k])"
      ]
    },
    {
      "cell_type": "markdown",
      "id": "5288bb89",
      "metadata": {
        "id": "5288bb89"
      },
      "source": [
        "**34-write a Python program to find all the Combinations in the list with the given condition (Input: test_list = [1,2,3]\n",
        "Output:\n",
        " [1], [1, 2], [1, 2, 3], [1, 3]\n",
        " [2], [2, 3], [3])"
      ]
    },
    {
      "cell_type": "code",
      "execution_count": null,
      "id": "59b89646",
      "metadata": {
        "id": "59b89646",
        "colab": {
          "base_uri": "https://localhost:8080/"
        },
        "outputId": "2bc59fde-6878-4604-a114-a250e5cd692b"
      },
      "outputs": [
        {
          "output_type": "stream",
          "name": "stdout",
          "text": [
            "enter a list 1 2 3 4\n",
            "[1]\n",
            "[1, 2]\n",
            "[1, 2, 3]\n",
            "[1, 2, 3, 4]\n",
            "[2]\n",
            "[2, 3]\n",
            "[2, 3, 4]\n",
            "[3]\n",
            "[3, 4]\n",
            "[4]\n"
          ]
        }
      ],
      "source": [
        "x=input(\"enter a list \")\n",
        "x=list(map(int,x.split()))\n",
        "for i in range(len(x)):\n",
        "    for j in range(i,len(x)):\n",
        "        print(x[i:j+1])"
      ]
    },
    {
      "cell_type": "markdown",
      "id": "39973705",
      "metadata": {
        "id": "39973705"
      },
      "source": [
        "**35-write a Python program to get all unique combinations of two Lists (List_1 = [\"a\",\"b\"]\n",
        "List_2 = [1,2]\n",
        "Unique_combination = [[('a',1),('b',2)],[('a',2),('b',1)]] )"
      ]
    },
    {
      "cell_type": "code",
      "execution_count": null,
      "id": "8c4ba22b",
      "metadata": {
        "id": "8c4ba22b",
        "colab": {
          "base_uri": "https://localhost:8080/"
        },
        "outputId": "d60de3c0-309e-4b9d-aeab-d44f74b7fa56"
      },
      "outputs": [
        {
          "output_type": "stream",
          "name": "stdout",
          "text": [
            "enter a list a b c\n",
            "enter a list 2 6 4\n",
            "[('a', 2), ('a', 6), ('a', 4), ('b', 2), ('b', 6), ('b', 4), ('c', 2), ('c', 6), ('c', 4)]\n"
          ]
        }
      ],
      "source": [
        "list1=input(\"enter a list \")\n",
        "list2=input(\"enter a list \")\n",
        "list1=list(map(str,list1.split()))\n",
        "list2=list(map(int,list2.split()))\n",
        "list3=[]\n",
        "for i in range(len(list1)):\n",
        "    for j in range(len(list2)):\n",
        "        list3.append((list1[i],list2[j]))\n",
        "print(list3)"
      ]
    },
    {
      "cell_type": "markdown",
      "id": "25199af5",
      "metadata": {
        "id": "25199af5"
      },
      "source": [
        "**36-Remove all the occurrences of an element from a list in Python (Input : 1 1 2 3 4 5 1 2 1\n",
        "\n",
        "**Output : 2 3 4 5 2)"
      ]
    },
    {
      "cell_type": "code",
      "execution_count": null,
      "id": "6dc4c2ba",
      "metadata": {
        "id": "6dc4c2ba",
        "colab": {
          "base_uri": "https://localhost:8080/"
        },
        "outputId": "8e8410ce-ee5b-48f7-ea67-6195235e4da5"
      },
      "outputs": [
        {
          "output_type": "stream",
          "name": "stdout",
          "text": [
            "enter a list 1 2 1 3 4 5 1 2 1\n",
            "enter a number you want to remove 1\n",
            "[2, 3, 4, 5, 2]\n"
          ]
        }
      ],
      "source": [
        "x=input(\"enter a list \")\n",
        "x=list(map(int,x.split()))\n",
        "y=int(input(\"enter a number you want to remove \"))\n",
        "z=[]\n",
        "for i in x:\n",
        "    if i!=y:\n",
        "        z.append(i)\n",
        "print(z)"
      ]
    },
    {
      "cell_type": "markdown",
      "id": "bf1a3c93",
      "metadata": {
        "id": "bf1a3c93"
      },
      "source": [
        "**37-write a python program to Replace index elements with elements in Other List (The original list 1 is : [‘Gfg’, ‘is’, ‘best’] The original list 2 is : [0, 1, 2, 1, 0, 0, 0, 2, 1, 1, 2, 0] The lists after index elements replacements is : [‘Gfg’, ‘is’, ‘best’, ‘is’, ‘Gfg’, ‘Gfg’, ‘Gfg’, ‘best’, ‘is’, ‘is’, ‘best’, ‘Gfg’])"
      ]
    },
    {
      "cell_type": "code",
      "execution_count": null,
      "id": "fdd66a71",
      "metadata": {
        "id": "fdd66a71",
        "colab": {
          "base_uri": "https://localhost:8080/"
        },
        "outputId": "d8ead93f-bbb2-4113-d3c7-8dfd57d237de"
      },
      "outputs": [
        {
          "output_type": "stream",
          "name": "stdout",
          "text": [
            "enter a list taha is best\n",
            "enter a list 0 1 2 0 0 2 1 2 1 \n",
            "['taha', 'is', 'best', 'taha', 'taha', 'best', 'is', 'best', 'is']\n"
          ]
        }
      ],
      "source": [
        "x=input(\"enter a list \")\n",
        "x=list(map(str,x.split()))\n",
        "y=input(\"enter a list \")\n",
        "y=list(map(int,y.split()))\n",
        "z=[]\n",
        "for i in y:\n",
        "    z.append(x[i])\n",
        "print(z)"
      ]
    },
    {
      "cell_type": "markdown",
      "id": "af0f56e8",
      "metadata": {
        "id": "af0f56e8"
      },
      "source": [
        "**38- write python program to Retain records with N occurrences of K(Input : test_list = [(4, 5, 5, 4), (5, 4, 3)], K = 5, N = 2\n",
        "Output : [(4, 5, 5, 4)]\n",
        "Input : test_list = [(4, 5, 5, 4), (5, 4, 3)], K = 5, N = 3\n",
        "Output : [] )"
      ]
    },
    {
      "cell_type": "code",
      "execution_count": null,
      "id": "67b06671",
      "metadata": {
        "id": "67b06671",
        "colab": {
          "base_uri": "https://localhost:8080/"
        },
        "outputId": "c3dd7cc7-514d-4919-eee4-45c9e9a6d4fd"
      },
      "outputs": [
        {
          "output_type": "stream",
          "name": "stdout",
          "text": [
            "enter the number of tuples in list 3 \n",
            "enter the tuple 1 \n",
            ": 1 2 1 4\n",
            "enter the tuple 2 \n",
            ": 1 1 6 7\n",
            "enter the tuple 3 \n",
            ": 9 5 1\n",
            "the test list [(1, 2, 1, 4), (1, 1, 6, 7), (9, 5, 1)]\n",
            "Enter the value of K (the element to count) 1\n",
            "enter the value of N (the exact number of times K should appear in each tuple) 2\n",
            "[(1, 2, 1, 4), (1, 1, 6, 7)]\n"
          ]
        }
      ],
      "source": [
        "num_of_tuples=int(input(\"enter the number of tuples in list \"))\n",
        "test_list=[]\n",
        "for i in range(num_of_tuples):\n",
        "    print(f\"enter the tuple {i+1} \")\n",
        "    x=input(\": \")\n",
        "    x=tuple(map(int,x.split()))\n",
        "    test_list.append(x)\n",
        "print(\"the test list\",test_list)\n",
        "list4=[]\n",
        "k=int(input(\"Enter the value of K (the element to count) \"))\n",
        "n=int(input(\"enter the value of N (the exact number of times K should appear in each tuple) \"))\n",
        "for i in test_list:\n",
        "    if i.count(k)==n:\n",
        "        list4.append(i)\n",
        "print(list4)"
      ]
    },
    {
      "cell_type": "markdown",
      "id": "de76f183",
      "metadata": {
        "id": "de76f183"
      },
      "source": [
        "**39-write a Python Program to Sort the list according to the column using lambda\n",
        "array = [[1, 3, 3], [2, 1, 2], [3, 2, 1]]\n",
        "Output :\n",
        "Sorted array specific to column 0, [[1, 3, 3], [2, 1, 2], [3, 2, 1]]\n",
        "Sorted array specific to column 1, [[2, 1, 2], [3, 2, 1], [1, 3, 3]]\n",
        "Sorted array specific to column 2, [[3, 2, 1], [2, 1, 2], [1, 3, 3]]"
      ]
    },
    {
      "cell_type": "code",
      "source": [
        "x=input(\"enter a list \")\n",
        "x=list(map(int,x.split()))\n",
        "y=input(\"enter a list \")\n",
        "y=list(map(int,y.split()))\n",
        "z=input(\"enter a list \")\n",
        "z=list(map(int,z.split()))\n",
        "list1=[x,y,z]\n",
        "list1.sort(key=lambda x:x[0])\n",
        "print(\"Sorted array specific to column 0 :\",list1)\n",
        "list1.sort(key=lambda x:x[1])\n",
        "print(\"Sorted array specific to column 1 :\",list1)\n",
        "list1.sort(key=lambda x:x[2])\n",
        "print(\"Sorted array specific to column 2 :\",list1)"
      ],
      "metadata": {
        "colab": {
          "base_uri": "https://localhost:8080/"
        },
        "id": "bKwigHU3AKnF",
        "outputId": "304741a6-a30a-437a-c929-ac7779babdec"
      },
      "id": "bKwigHU3AKnF",
      "execution_count": null,
      "outputs": [
        {
          "output_type": "stream",
          "name": "stdout",
          "text": [
            "enter a list 1 3 3 \n",
            "enter a list 2 1 2\n",
            "enter a list 3 2 1\n",
            "Sorted array specific to column 0 : [[1, 3, 3], [2, 1, 2], [3, 2, 1]]\n",
            "Sorted array specific to column 1 : [[2, 1, 2], [3, 2, 1], [1, 3, 3]]\n",
            "Sorted array specific to column 2 : [[3, 2, 1], [2, 1, 2], [1, 3, 3]]\n"
          ]
        }
      ]
    },
    {
      "cell_type": "markdown",
      "source": [
        "**40- write a program to Sort Python Dictionaries by Key or Value\n",
        "Input:\n",
        "{'ravi': 10, 'rajnish': 9, 'sanjeev': 15, 'yash': 2, 'suraj': 32}\n",
        "\n",
        "Output:\n",
        "{'rajnish': 9, 'ravi': 10, 'sanjeev': 15, 'suraj': 32, 'yash': 2}"
      ],
      "metadata": {
        "id": "M7EQ82e00I_P"
      },
      "id": "M7EQ82e00I_P"
    },
    {
      "cell_type": "code",
      "execution_count": null,
      "id": "a96db4a0",
      "metadata": {
        "id": "a96db4a0",
        "colab": {
          "base_uri": "https://localhost:8080/"
        },
        "outputId": "380bc847-6370-4345-dfcd-0d868252e5e3"
      },
      "outputs": [
        {
          "output_type": "stream",
          "name": "stdout",
          "text": [
            "enter the dictionary taha 22 ahmed 1 mo 11\n",
            "the dictionary befor sort : {'taha': 22, 'ahmed': 1, 'mo': 11}\n",
            "the dictionary after sort : {'ahmed': 1, 'mo': 11, 'taha': 22}\n"
          ]
        }
      ],
      "source": [
        "x=input(\"enter the dictionary \")\n",
        "x=x.split()\n",
        "dict1={}\n",
        "for i in range(0,len(x),2):\n",
        "    dict1[x[i]]=int(x[i+1])\n",
        "print(\"the dictionary befor sort :\",dict1)\n",
        "dict1=dict(sorted(dict1.items()))\n",
        "print(\"the dictionary after sort :\",dict1)"
      ]
    },
    {
      "cell_type": "markdown",
      "id": "ec63c23a",
      "metadata": {
        "id": "ec63c23a"
      },
      "source": [
        "**41-write python program to Remove keys with Values Greater than K ( Including mixed values )\n",
        "nput : test_dict = {‘Gfg’ : 3, ‘is’ : 7, ‘best’ : 10, ‘for’ : 6, ‘geeks’ : ‘CS’},\n",
        "K = 7\n",
        "Output : {‘Gfg’ : 3, ‘for’ : 6, ‘geeks’ : ‘CS’}"
      ]
    },
    {
      "cell_type": "code",
      "execution_count": 3,
      "id": "e39c3a40",
      "metadata": {
        "id": "e39c3a40",
        "colab": {
          "base_uri": "https://localhost:8080/"
        },
        "outputId": "a5009769-3125-4631-f425-3027be961125"
      },
      "outputs": [
        {
          "output_type": "stream",
          "name": "stdout",
          "text": [
            "enter the dictionary taha 4 mo 6 ahmed 10\n",
            "the dictionary befor remove iteam : {'taha': 4, 'mo': 6, 'ahmed': 10}\n",
            "enter a number you want to remove 7\n",
            "the dictionary after remove iteam : {'taha': 4, 'mo': 6}\n"
          ]
        }
      ],
      "source": [
        "x=input(\"enter the dictionary \")\n",
        "x=x.split()\n",
        "dict1={}\n",
        "for i in range(0,len(x),2):\n",
        "    dict1[x[i]]=int(x[i+1])\n",
        "print(\"the dictionary befor remove iteam :\",dict1)\n",
        "k=int(input(\"enter a number you want to remove \"))\n",
        "dict2={}\n",
        "for key,value in dict1.items():\n",
        "    if value<=k:\n",
        "        dict2[key]=value\n",
        "print(\"the dictionary after remove iteam :\",dict2)\n"
      ]
    },
    {
      "cell_type": "markdown",
      "id": "f143f0fe",
      "metadata": {
        "id": "f143f0fe"
      },
      "source": [
        "**42-Write a Python program to concatenate the following dictionaries to create a new one\n",
        "\n",
        "Sample Dictionary :\n",
        "dic1={1:10, 2:20}\n",
        "dic2={3:30, 4:40}\n",
        "dic3={5:50,6:60}\n",
        "Expected Result : {1: 10, 2: 20, 3: 30, 4: 40, 5: 50, 6: 60}"
      ]
    },
    {
      "cell_type": "code",
      "source": [
        "dict1={1:10, 2:20}\n",
        "dict2={3:30, 4:40}\n",
        "dict3={5:50, 6:60}\n",
        "dict4={}\n",
        "for key,value in dict1.items():\n",
        "    dict4[key]=value\n",
        "for key,value in dict2.items():\n",
        "    dict4[key]=value\n",
        "for key,value in dict3.items():\n",
        "    dict4[key]=value\n",
        "print(dict4)\n"
      ],
      "metadata": {
        "colab": {
          "base_uri": "https://localhost:8080/"
        },
        "id": "uEksAgFrOgxH",
        "outputId": "0086f95f-ead8-4436-b871-8fc5d3d8e39a"
      },
      "id": "uEksAgFrOgxH",
      "execution_count": 6,
      "outputs": [
        {
          "output_type": "stream",
          "name": "stdout",
          "text": [
            "{1: 10, 2: 20, 3: 30, 4: 40, 5: 50, 6: 60}\n"
          ]
        }
      ]
    },
    {
      "cell_type": "markdown",
      "id": "fb04c93c",
      "metadata": {
        "id": "fb04c93c"
      },
      "source": [
        "**43-Write a Python program to iterate over dictionaries using for loops"
      ]
    },
    {
      "cell_type": "code",
      "execution_count": null,
      "id": "6aebc470",
      "metadata": {
        "id": "6aebc470",
        "colab": {
          "base_uri": "https://localhost:8080/"
        },
        "outputId": "0742de50-68bc-4dfb-ba65-69c60327a76f"
      },
      "outputs": [
        {
          "output_type": "stream",
          "name": "stdout",
          "text": [
            "enter the dictionary taha 1 mo 22\n",
            "key : taha ||| value : 1\n",
            "key : mo ||| value : 22\n"
          ]
        }
      ],
      "source": [
        "x=input(\"enter the dictionary \")\n",
        "x=x.split()\n",
        "dict1={}\n",
        "for i in range(0,len(x),2):\n",
        "    dict1[x[i]]=int(x[i+1])\n",
        "for key,value in dict1.items():\n",
        "    print(\"key :\",key,\"|||\",\"value :\",value)"
      ]
    },
    {
      "cell_type": "markdown",
      "id": "5f491a9d",
      "metadata": {
        "id": "5f491a9d"
      },
      "source": [
        "**44- Write a Python script to merge two Python dictionaries"
      ]
    },
    {
      "cell_type": "code",
      "execution_count": null,
      "id": "b8a14028",
      "metadata": {
        "id": "b8a14028",
        "colab": {
          "base_uri": "https://localhost:8080/"
        },
        "outputId": "1196cd5a-abc1-4347-b875-930c8075eeea"
      },
      "outputs": [
        {
          "output_type": "stream",
          "name": "stdout",
          "text": [
            "enter the first dictionary taha 11 mo 22\n",
            "enter the second dictionary ahmed 12 mohamed 23\n",
            "{'taha': 11, 'mo': 22, 'ahmed': 12, 'mohamed': 23}\n"
          ]
        }
      ],
      "source": [
        "x = input(\"enter the first dictionary \")\n",
        "y = input(\"enter the second dictionary \")\n",
        "x = x.split()\n",
        "y = y.split()\n",
        "dict1 = {}\n",
        "dict2 = {}\n",
        "merg_dict={}\n",
        "for i in range(0, len(x), 2):\n",
        "    dict1[x[i]] = int(x[i + 1])\n",
        "for i in range(0, len(y), 2):\n",
        "    dict2[y[i]] = int(y[i + 1])\n",
        "merg_dict.update(dict1)\n",
        "merg_dict.update(dict2)\n",
        "print(merg_dict)"
      ]
    },
    {
      "cell_type": "markdown",
      "id": "216fc72d",
      "metadata": {
        "id": "216fc72d"
      },
      "source": [
        "**45-Write a Python program to get the maximum and minimum values of a dictionary values"
      ]
    },
    {
      "cell_type": "code",
      "execution_count": null,
      "id": "d6883f5f",
      "metadata": {
        "id": "d6883f5f",
        "colab": {
          "base_uri": "https://localhost:8080/"
        },
        "outputId": "330d4664-ca9c-43bb-c5a3-edb87dfb8c8c"
      },
      "outputs": [
        {
          "output_type": "stream",
          "name": "stdout",
          "text": [
            "enter the dictionary taha 7 mo 11 ahmed 22\n",
            "the max value is  22\n",
            "the min value is  7\n"
          ]
        }
      ],
      "source": [
        "x=input(\"enter the dictionary \")\n",
        "x=x.split()\n",
        "dict1={}\n",
        "for i in range(0,len(x),2):\n",
        "    dict1[x[i]]=int(x[i+1])\n",
        "print(\"the max value is \",max(dict1.values()))\n",
        "print(\"the min value is \",min(dict1.values()))\n"
      ]
    },
    {
      "cell_type": "markdown",
      "id": "b6a53011",
      "metadata": {
        "id": "b6a53011"
      },
      "source": [
        "**46- Write a Python program to drop empty items from a given dictionary.\n",
        "Original Dictionary:\n",
        "{'c1': 'Red', 'c2': 'Green', 'c3': None}\n",
        "New Dictionary after dropping empty items:\n",
        "{'c1': 'Red', 'c2': 'Green'}"
      ]
    },
    {
      "cell_type": "code",
      "execution_count": 14,
      "id": "b5c6fecf",
      "metadata": {
        "id": "b5c6fecf",
        "colab": {
          "base_uri": "https://localhost:8080/"
        },
        "outputId": "a27b4fa6-8f73-44fc-9195-b04c0e8560df"
      },
      "outputs": [
        {
          "output_type": "stream",
          "name": "stdout",
          "text": [
            "enter the dictionary taha 1 mo 2 ahmed\n",
            "{'taha': 1, 'mo': 2}\n"
          ]
        }
      ],
      "source": [
        "x=input(\"enter the dictionary \")\n",
        "x=x.split()\n",
        "dict1={}\n",
        "for i in range(0,len(x),2):\n",
        "    if i + 1 < len(x):\n",
        "        dict1[x[i]]=int(x[i+1])\n",
        "    if dict1.get(x[i])==None:\n",
        "        dict1.pop(x[i], None)\n",
        "print(dict1)"
      ]
    },
    {
      "cell_type": "markdown",
      "id": "46d718c7",
      "metadata": {
        "id": "46d718c7"
      },
      "source": [
        "**47-Write a Python program to create a tuple of numbers and print one item"
      ]
    },
    {
      "cell_type": "code",
      "execution_count": null,
      "id": "13216ff5",
      "metadata": {
        "id": "13216ff5",
        "colab": {
          "base_uri": "https://localhost:8080/"
        },
        "outputId": "46b78563-4505-473a-a3b9-20485571c703"
      },
      "outputs": [
        {
          "output_type": "stream",
          "name": "stdout",
          "text": [
            "a = 10\n",
            "b = 20\n",
            "c = 30\n"
          ]
        }
      ],
      "source": [
        "my_tuple = (10, 20, 30)\n",
        "\n",
        "a, b, c = my_tuple\n",
        "\n",
        "print(\"a =\", a)\n",
        "print(\"b =\", b)\n",
        "print(\"c =\", c)"
      ]
    },
    {
      "cell_type": "markdown",
      "id": "2be5b56b",
      "metadata": {
        "id": "2be5b56b"
      },
      "source": [
        "**48-Write a Python program to unpack a tuple into several variables"
      ]
    },
    {
      "cell_type": "code",
      "execution_count": null,
      "id": "595f44be",
      "metadata": {
        "id": "595f44be",
        "colab": {
          "base_uri": "https://localhost:8080/"
        },
        "outputId": "427793dd-60ae-479d-b8bd-9055e0588172"
      },
      "outputs": [
        {
          "output_type": "stream",
          "name": "stdout",
          "text": [
            "enter a tuple a s d t\n",
            "a s d t\n"
          ]
        }
      ],
      "source": [
        "x=input(\"enter a tuple \")\n",
        "x=tuple(map(str,x.split()))\n",
        "a,b,c,d=x\n",
        "print(a,b,c,d)"
      ]
    },
    {
      "cell_type": "markdown",
      "id": "392388a7",
      "metadata": {
        "id": "392388a7"
      },
      "source": [
        "**49-Write a Python program to add an item to a tuple"
      ]
    },
    {
      "cell_type": "code",
      "execution_count": null,
      "id": "54cc092e",
      "metadata": {
        "id": "54cc092e",
        "colab": {
          "base_uri": "https://localhost:8080/"
        },
        "outputId": "1478a638-b4e3-4d3e-e290-562f5f8b36c8"
      },
      "outputs": [
        {
          "output_type": "stream",
          "name": "stdout",
          "text": [
            "enter a tuple 12 33 1 34\n",
            "enter a number you want to add 18\n",
            "(12, 33, 1, 34, 18)\n"
          ]
        }
      ],
      "source": [
        "x=input(\"enter a tuple \")\n",
        "x=tuple(map(int,x.split()))\n",
        "y=int(input(\"enter a number you want to add \"))\n",
        "x=list(x)\n",
        "x.append(y)\n",
        "x=tuple(x)\n",
        "print(x)\n"
      ]
    },
    {
      "cell_type": "markdown",
      "id": "3e8fd124",
      "metadata": {
        "id": "3e8fd124"
      },
      "source": [
        "**50-Write a Python program to convert a tuple to a string"
      ]
    },
    {
      "cell_type": "code",
      "execution_count": null,
      "id": "92a71ddc",
      "metadata": {
        "id": "92a71ddc",
        "colab": {
          "base_uri": "https://localhost:8080/"
        },
        "outputId": "d24c63a1-f2ff-493d-95d1-f532a0e3a941"
      },
      "outputs": [
        {
          "output_type": "stream",
          "name": "stdout",
          "text": [
            "enter a tuple 1 2 3 4 \n",
            "('1', '2', '3', '4') type is <class 'tuple'>\n",
            "1234 type is <class 'str'>\n"
          ]
        }
      ],
      "source": [
        "x=input(\"enter a tuple \")\n",
        "x=tuple(map(str,x.split()))\n",
        "y=\"\"\n",
        "print(x,\"type is\",type(x))\n",
        "for i in x:\n",
        "    y+=i\n",
        "print(y,\"type is\",type(y))"
      ]
    },
    {
      "cell_type": "markdown",
      "id": "f4f64ef4",
      "metadata": {
        "id": "f4f64ef4"
      },
      "source": [
        "**51-Write a Python program to convert a list to a tuple"
      ]
    },
    {
      "cell_type": "code",
      "execution_count": null,
      "id": "210d56d3",
      "metadata": {
        "id": "210d56d3",
        "colab": {
          "base_uri": "https://localhost:8080/"
        },
        "outputId": "faec7a9e-8fe8-4b32-c16e-e6136b4861a4"
      },
      "outputs": [
        {
          "output_type": "stream",
          "name": "stdout",
          "text": [
            "enter a list 1 2 3 4\n",
            "[1, 2, 3, 4] type is <class 'list'>\n",
            "(1, 2, 3, 4) type is <class 'tuple'>\n"
          ]
        }
      ],
      "source": [
        "x=input(\"enter a list \")\n",
        "x=list(map(int,x.split()))\n",
        "print(x,\"type is\",type(x))\n",
        "x=tuple(x)\n",
        "print(x,\"type is\",type(x))"
      ]
    },
    {
      "cell_type": "markdown",
      "id": "b1e00ef7",
      "metadata": {
        "id": "b1e00ef7"
      },
      "source": [
        "**52-Write a Python program to reverse a tuple"
      ]
    },
    {
      "cell_type": "code",
      "execution_count": null,
      "id": "f45bfdc7",
      "metadata": {
        "id": "f45bfdc7",
        "colab": {
          "base_uri": "https://localhost:8080/"
        },
        "outputId": "be86a73a-cdbc-4444-e19b-7bb6edd169f6"
      },
      "outputs": [
        {
          "output_type": "stream",
          "name": "stdout",
          "text": [
            "enter a tuple 1 2 3 4 5\n",
            "(5, 4, 3, 2, 1)\n"
          ]
        }
      ],
      "source": [
        "x=input(\"enter a tuple \")\n",
        "x=tuple(map(int,x.split()))\n",
        "print(x[::-1])"
      ]
    },
    {
      "cell_type": "markdown",
      "id": "3cd347d1",
      "metadata": {
        "id": "3cd347d1"
      },
      "source": [
        "**53-Write a Python program to replace the last value of tuples in a list.\n",
        "Sample list: [(10, 20, 40), (40, 50, 60), (70, 80, 90)]\n",
        "Expected Output: [(10, 20, 100), (40, 50, 100), (70, 80, 100)]"
      ]
    },
    {
      "cell_type": "code",
      "execution_count": null,
      "id": "3c4a2a4c",
      "metadata": {
        "id": "3c4a2a4c",
        "colab": {
          "base_uri": "https://localhost:8080/"
        },
        "outputId": "b00b1048-acd4-4f9e-9ea8-73983860377d"
      },
      "outputs": [
        {
          "output_type": "stream",
          "name": "stdout",
          "text": [
            "enter the number of tuples in list 3\n",
            "enter the tuple 1 \n",
            ": 10 20 40\n",
            "enter the tuple 2 \n",
            ": 40 50 60\n",
            "enter the tuple 3 \n",
            ": 70 80 90\n",
            "the test list [(10, 20, 40), (40, 50, 60), (70, 80, 90)]\n",
            "enter a number you want to add 100\n",
            "[(10, 20, 100), (40, 50, 100), (70, 80, 100)]\n"
          ]
        }
      ],
      "source": [
        "num_of_tuples=int(input(\"enter the number of tuples in list \"))\n",
        "t_list=[]\n",
        "f_list=[]\n",
        "for i in range(num_of_tuples):\n",
        "    print(f\"enter the tuple {i+1} \")\n",
        "    x=input(\": \")\n",
        "    x=tuple(map(int,x.split()))\n",
        "    t_list.append(x)\n",
        "print(\"the test list\",t_list)\n",
        "y=int(input(\"enter a number you want to add \"))\n",
        "for i in range(len(t_list)):\n",
        "    t_list[i]=list(t_list[i])\n",
        "    t_list[i][-1]=y\n",
        "    t_list[i]=tuple(t_list[i])\n",
        "print(t_list)\n"
      ]
    },
    {
      "cell_type": "markdown",
      "id": "76bb7b39",
      "metadata": {
        "id": "76bb7b39"
      },
      "source": [
        "**54-Write a Python program to convert a given string list to a tuple\n",
        "Original string: python 3.0\n",
        "<class 'str'>\n",
        "Convert the said string to a tuple:\n",
        "('p', 'y', 't', 'h', 'o', 'n', '3', '.', '0')"
      ]
    },
    {
      "cell_type": "code",
      "execution_count": null,
      "id": "51951937",
      "metadata": {
        "id": "51951937",
        "colab": {
          "base_uri": "https://localhost:8080/"
        },
        "outputId": "a203df0d-d49d-4404-bf7b-75d8b6cd3667"
      },
      "outputs": [
        {
          "output_type": "stream",
          "name": "stdout",
          "text": [
            "enter a string taha\n",
            "taha type is <class 'str'>\n",
            "('t', 'a', 'h', 'a') type is <class 'tuple'>\n"
          ]
        }
      ],
      "source": [
        "x=input(\"enter a string \")\n",
        "print(x,\"type is\",type(x))\n",
        "x=tuple(x)\n",
        "print(x,\"type is\",type(x))"
      ]
    },
    {
      "cell_type": "markdown",
      "id": "5a1d5d97",
      "metadata": {
        "id": "5a1d5d97"
      },
      "source": [
        "**55-Write a Python program to calculate the average value of the numbers in a given tuple of tuples"
      ]
    },
    {
      "cell_type": "code",
      "source": [
        "num_of_tuples=int(input(\"enter the number of tuples  \"))\n",
        "t=()\n",
        "for i in range(num_of_tuples):\n",
        "    print(f\"enter the tuple {i+1} \")\n",
        "    x=input(\": \")\n",
        "    x=tuple(map(int,x.split()))\n",
        "    t += (x,)\n",
        "print(\"the test list\",t)\n",
        "print(\"the average is \",sum(sum(t,()))/len(sum(t,())))"
      ],
      "metadata": {
        "colab": {
          "base_uri": "https://localhost:8080/"
        },
        "id": "3eigKtrND0im",
        "outputId": "5b1977a0-db17-455b-efcf-4bdb45f582f0"
      },
      "id": "3eigKtrND0im",
      "execution_count": null,
      "outputs": [
        {
          "output_type": "stream",
          "name": "stdout",
          "text": [
            "enter the number of tuples  3\n",
            "enter the tuple 1 \n",
            ": 1 2 3\n",
            "enter the tuple 2 \n",
            ": 3 3 4\n",
            "enter the tuple 3 \n",
            ": 2 7 5\n",
            "the test list ((1, 2, 3), (3, 3, 4), (2, 7, 5))\n",
            "the average is  3.3333333333333335\n"
          ]
        }
      ]
    },
    {
      "cell_type": "markdown",
      "id": "51edab9c",
      "metadata": {
        "id": "51edab9c"
      },
      "source": [
        "**56-Write a Python program to add member(s) to a set."
      ]
    },
    {
      "cell_type": "code",
      "execution_count": null,
      "id": "2b65df79",
      "metadata": {
        "id": "2b65df79",
        "colab": {
          "base_uri": "https://localhost:8080/"
        },
        "outputId": "8f579c17-45c3-4931-e608-1f2deecd9052"
      },
      "outputs": [
        {
          "output_type": "stream",
          "name": "stdout",
          "text": [
            "enter a set 1 2 3 4\n",
            "enter a number you want to add 6\n",
            "{1, 2, 3, 4, 6}\n"
          ]
        }
      ],
      "source": [
        "x=input(\"enter a set \")\n",
        "x=set(map(int,x.split()))\n",
        "y=int(input(\"enter a number you want to add \"))\n",
        "x.add(y)\n",
        "print(x)"
      ]
    },
    {
      "cell_type": "markdown",
      "id": "965590cc",
      "metadata": {
        "id": "965590cc"
      },
      "source": [
        "**57-Write a Python program to remove an item from a set if it is present in the set."
      ]
    },
    {
      "cell_type": "code",
      "execution_count": null,
      "id": "866bab28",
      "metadata": {
        "id": "866bab28",
        "colab": {
          "base_uri": "https://localhost:8080/"
        },
        "outputId": "925d60b3-59aa-481e-e184-7a627346c0a7"
      },
      "outputs": [
        {
          "output_type": "stream",
          "name": "stdout",
          "text": [
            "enter a set 1 2 3 4 5\n",
            "enter a number you want to remove 3\n",
            "{1, 2, 4, 5}\n"
          ]
        }
      ],
      "source": [
        "x=input(\"enter a set \")\n",
        "x=set(map(int,x.split()))\n",
        "y=int(input(\"enter a number you want to remove \"))\n",
        "if y in x:\n",
        "    x.remove(y)\n",
        "    print(x)"
      ]
    },
    {
      "cell_type": "markdown",
      "id": "2b7cfed1",
      "metadata": {
        "id": "2b7cfed1"
      },
      "source": [
        "**58-Write a Python program to create an intersection,union,difference and symmetric difference of sets"
      ]
    },
    {
      "cell_type": "code",
      "execution_count": null,
      "id": "7f94b7fe",
      "metadata": {
        "id": "7f94b7fe",
        "colab": {
          "base_uri": "https://localhost:8080/"
        },
        "outputId": "1eb75172-2b44-4a92-8d75-6b9b7b66c863"
      },
      "outputs": [
        {
          "output_type": "stream",
          "name": "stdout",
          "text": [
            "enter a set 1 3 5 7 9 \n",
            "enter a set 2 3 4 6 8 1\n",
            "the intersection is  {1, 3}\n",
            "the union is  {1, 2, 3, 4, 5, 6, 7, 8, 9}\n",
            "the difference is  {9, 5, 7}\n",
            "the symmetric difference is  {2, 4, 5, 6, 7, 8, 9}\n"
          ]
        }
      ],
      "source": [
        "s1=input(\"enter a set \")\n",
        "s1=set(map(int,s1.split()))\n",
        "s2=input(\"enter a set \")\n",
        "s2=set(map(int,s2.split()))\n",
        "print(\"the intersection is \",s1.intersection(s2))\n",
        "print(\"the union is \",s1.union(s2))\n",
        "print(\"the difference is \",s1.difference(s2))\n",
        "print(\"the symmetric difference is \",s1.symmetric_difference(s2))"
      ]
    },
    {
      "cell_type": "markdown",
      "id": "b94931e2",
      "metadata": {
        "id": "b94931e2"
      },
      "source": [
        "**59-Write a Python program to find the maximum and minimum values in a set"
      ]
    },
    {
      "cell_type": "code",
      "execution_count": null,
      "id": "203f9600",
      "metadata": {
        "id": "203f9600",
        "colab": {
          "base_uri": "https://localhost:8080/"
        },
        "outputId": "b11eec7a-b729-4fd7-ec12-930323313688"
      },
      "outputs": [
        {
          "output_type": "stream",
          "name": "stdout",
          "text": [
            "enter a set 1 2 3 4 5 6\n",
            "the max value is  6\n",
            "the min value is  1\n"
          ]
        }
      ],
      "source": [
        "x=input(\"enter a set \")\n",
        "x=set(map(int,x.split()))\n",
        "print(\"the max value is \",max(x))\n",
        "print(\"the min value is \",min(x))"
      ]
    },
    {
      "cell_type": "markdown",
      "id": "255fd554",
      "metadata": {
        "id": "255fd554"
      },
      "source": [
        "**60- Write a Python program that finds all pairs of elements in a list whose sum is equal to a given value."
      ]
    },
    {
      "cell_type": "code",
      "execution_count": null,
      "id": "c2d94e1f",
      "metadata": {
        "id": "c2d94e1f",
        "colab": {
          "base_uri": "https://localhost:8080/"
        },
        "outputId": "b3b16ffc-9925-4733-93c0-71e91d88116e"
      },
      "outputs": [
        {
          "output_type": "stream",
          "name": "stdout",
          "text": [
            "enter a list 1 2 3 4 5 6 7\n",
            "enter a number 5\n",
            "1 4\n",
            "2 3\n"
          ]
        }
      ],
      "source": [
        "x=input(\"enter a list \")\n",
        "x=list(map(int,x.split()))\n",
        "y=int(input(\"enter a number \"))\n",
        "for i in range(len(x)):\n",
        "    for j in range(i+1,len(x)):\n",
        "        if x[i]+x[j]==y:\n",
        "            print(x[i],x[j])\n",
        "\n"
      ]
    }
  ],
  "metadata": {
    "kernelspec": {
      "display_name": "Python 3 (ipykernel)",
      "language": "python",
      "name": "python3"
    },
    "language_info": {
      "codemirror_mode": {
        "name": "ipython",
        "version": 3
      },
      "file_extension": ".py",
      "mimetype": "text/x-python",
      "name": "python",
      "nbconvert_exporter": "python",
      "pygments_lexer": "ipython3",
      "version": "3.9.7"
    },
    "colab": {
      "provenance": [],
      "include_colab_link": true
    }
  },
  "nbformat": 4,
  "nbformat_minor": 5
}
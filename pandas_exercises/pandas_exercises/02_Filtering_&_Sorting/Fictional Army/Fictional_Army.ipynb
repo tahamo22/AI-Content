{
  "cells": [
    {
      "cell_type": "markdown",
      "metadata": {
        "id": "9hFINTOVQfNU"
      },
      "source": [
        "# Fictional Army - Filtering and Sorting"
      ]
    },
    {
      "cell_type": "markdown",
      "metadata": {
        "id": "oDgWQYWGQfNa"
      },
      "source": [
        "### Introduction:\n",
        "\n",
        "This exercise was inspired by this [page](http://chrisalbon.com/python/)\n",
        "\n",
        "Special thanks to: https://github.com/chrisalbon for sharing the dataset and materials.\n",
        "\n",
        "### Step 1. Import the necessary libraries"
      ]
    },
    {
      "cell_type": "code",
      "execution_count": 2,
      "metadata": {
        "id": "RpO3hORuQfNc"
      },
      "outputs": [],
      "source": [
        "import pandas as pd"
      ]
    },
    {
      "cell_type": "markdown",
      "metadata": {
        "id": "hIJEAKfmQfNd"
      },
      "source": [
        "### Step 2. This is the data given as a dictionary"
      ]
    },
    {
      "cell_type": "code",
      "execution_count": 3,
      "metadata": {
        "collapsed": true,
        "id": "os2yRIkcQfNe"
      },
      "outputs": [],
      "source": [
        "# Create an example dataframe about a fictional army\n",
        "raw_data = {'regiment': ['Nighthawks', 'Nighthawks', 'Nighthawks', 'Nighthawks', 'Dragoons', 'Dragoons', 'Dragoons', 'Dragoons', 'Scouts', 'Scouts', 'Scouts', 'Scouts'],\n",
        "            'company': ['1st', '1st', '2nd', '2nd', '1st', '1st', '2nd', '2nd','1st', '1st', '2nd', '2nd'],\n",
        "            'deaths': [523, 52, 25, 616, 43, 234, 523, 62, 62, 73, 37, 35],\n",
        "            'battles': [5, 42, 2, 2, 4, 7, 8, 3, 4, 7, 8, 9],\n",
        "            'size': [1045, 957, 1099, 1400, 1592, 1006, 987, 849, 973, 1005, 1099, 1523],\n",
        "            'veterans': [1, 5, 62, 26, 73, 37, 949, 48, 48, 435, 63, 345],\n",
        "            'readiness': [1, 2, 3, 3, 2, 1, 2, 3, 2, 1, 2, 3],\n",
        "            'armored': [1, 0, 1, 1, 0, 1, 0, 1, 0, 0, 1, 1],\n",
        "            'deserters': [4, 24, 31, 2, 3, 4, 24, 31, 2, 3, 2, 3],\n",
        "            'origin': ['Arizona', 'California', 'Texas', 'Florida', 'Maine', 'Iowa', 'Alaska', 'Washington', 'Oregon', 'Wyoming', 'Louisana', 'Georgia']}"
      ]
    },
    {
      "cell_type": "markdown",
      "metadata": {
        "id": "Kxw-ExW7QfNf"
      },
      "source": [
        "### Step 3. Create a dataframe and assign it to a variable called army.\n",
        "\n",
        "#### Don't forget to include the columns names in the order presented in the dictionary ('regiment', 'company', 'deaths'...) so that the column index order is consistent with the solutions. If omitted, pandas will order the columns alphabetically."
      ]
    },
    {
      "cell_type": "code",
      "execution_count": 4,
      "metadata": {
        "colab": {
          "base_uri": "https://localhost:8080/"
        },
        "id": "LNJwTfoGQfNg",
        "outputId": "d262453a-ef7d-454b-bfef-103a1d81113b"
      },
      "outputs": [
        {
          "output_type": "stream",
          "name": "stdout",
          "text": [
            "     regiment company  deaths  battles  size  veterans  readiness  armored  \\\n",
            "0  Nighthawks     1st     523        5  1045         1          1        1   \n",
            "1  Nighthawks     1st      52       42   957         5          2        0   \n",
            "2  Nighthawks     2nd      25        2  1099        62          3        1   \n",
            "3  Nighthawks     2nd     616        2  1400        26          3        1   \n",
            "4    Dragoons     1st      43        4  1592        73          2        0   \n",
            "\n",
            "   deserters      origin  \n",
            "0          4     Arizona  \n",
            "1         24  California  \n",
            "2         31       Texas  \n",
            "3          2     Florida  \n",
            "4          3       Maine  \n"
          ]
        }
      ],
      "source": [
        "columns_order = ['regiment', 'company', 'deaths', 'battles', 'size', 'veterans', 'readiness', 'armored', 'deserters', 'origin']\n",
        "army = pd.DataFrame(raw_data, columns=columns_order)\n",
        "\n",
        "# عرض الداتافرام للتأكد\n",
        "print(army.head())"
      ]
    },
    {
      "cell_type": "code",
      "source": [
        "army\n"
      ],
      "metadata": {
        "colab": {
          "base_uri": "https://localhost:8080/",
          "height": 426
        },
        "id": "gGyed8EmRiNS",
        "outputId": "ef22de18-e044-4b83-91a1-bd48adfc8608"
      },
      "execution_count": 5,
      "outputs": [
        {
          "output_type": "execute_result",
          "data": {
            "text/plain": [
              "      regiment company  deaths  battles  size  veterans  readiness  armored  \\\n",
              "0   Nighthawks     1st     523        5  1045         1          1        1   \n",
              "1   Nighthawks     1st      52       42   957         5          2        0   \n",
              "2   Nighthawks     2nd      25        2  1099        62          3        1   \n",
              "3   Nighthawks     2nd     616        2  1400        26          3        1   \n",
              "4     Dragoons     1st      43        4  1592        73          2        0   \n",
              "5     Dragoons     1st     234        7  1006        37          1        1   \n",
              "6     Dragoons     2nd     523        8   987       949          2        0   \n",
              "7     Dragoons     2nd      62        3   849        48          3        1   \n",
              "8       Scouts     1st      62        4   973        48          2        0   \n",
              "9       Scouts     1st      73        7  1005       435          1        0   \n",
              "10      Scouts     2nd      37        8  1099        63          2        1   \n",
              "11      Scouts     2nd      35        9  1523       345          3        1   \n",
              "\n",
              "    deserters      origin  \n",
              "0           4     Arizona  \n",
              "1          24  California  \n",
              "2          31       Texas  \n",
              "3           2     Florida  \n",
              "4           3       Maine  \n",
              "5           4        Iowa  \n",
              "6          24      Alaska  \n",
              "7          31  Washington  \n",
              "8           2      Oregon  \n",
              "9           3     Wyoming  \n",
              "10          2    Louisana  \n",
              "11          3     Georgia  "
            ],
            "text/html": [
              "\n",
              "  <div id=\"df-b185ab8b-26c9-4cef-886c-d650827dd57b\" class=\"colab-df-container\">\n",
              "    <div>\n",
              "<style scoped>\n",
              "    .dataframe tbody tr th:only-of-type {\n",
              "        vertical-align: middle;\n",
              "    }\n",
              "\n",
              "    .dataframe tbody tr th {\n",
              "        vertical-align: top;\n",
              "    }\n",
              "\n",
              "    .dataframe thead th {\n",
              "        text-align: right;\n",
              "    }\n",
              "</style>\n",
              "<table border=\"1\" class=\"dataframe\">\n",
              "  <thead>\n",
              "    <tr style=\"text-align: right;\">\n",
              "      <th></th>\n",
              "      <th>regiment</th>\n",
              "      <th>company</th>\n",
              "      <th>deaths</th>\n",
              "      <th>battles</th>\n",
              "      <th>size</th>\n",
              "      <th>veterans</th>\n",
              "      <th>readiness</th>\n",
              "      <th>armored</th>\n",
              "      <th>deserters</th>\n",
              "      <th>origin</th>\n",
              "    </tr>\n",
              "  </thead>\n",
              "  <tbody>\n",
              "    <tr>\n",
              "      <th>0</th>\n",
              "      <td>Nighthawks</td>\n",
              "      <td>1st</td>\n",
              "      <td>523</td>\n",
              "      <td>5</td>\n",
              "      <td>1045</td>\n",
              "      <td>1</td>\n",
              "      <td>1</td>\n",
              "      <td>1</td>\n",
              "      <td>4</td>\n",
              "      <td>Arizona</td>\n",
              "    </tr>\n",
              "    <tr>\n",
              "      <th>1</th>\n",
              "      <td>Nighthawks</td>\n",
              "      <td>1st</td>\n",
              "      <td>52</td>\n",
              "      <td>42</td>\n",
              "      <td>957</td>\n",
              "      <td>5</td>\n",
              "      <td>2</td>\n",
              "      <td>0</td>\n",
              "      <td>24</td>\n",
              "      <td>California</td>\n",
              "    </tr>\n",
              "    <tr>\n",
              "      <th>2</th>\n",
              "      <td>Nighthawks</td>\n",
              "      <td>2nd</td>\n",
              "      <td>25</td>\n",
              "      <td>2</td>\n",
              "      <td>1099</td>\n",
              "      <td>62</td>\n",
              "      <td>3</td>\n",
              "      <td>1</td>\n",
              "      <td>31</td>\n",
              "      <td>Texas</td>\n",
              "    </tr>\n",
              "    <tr>\n",
              "      <th>3</th>\n",
              "      <td>Nighthawks</td>\n",
              "      <td>2nd</td>\n",
              "      <td>616</td>\n",
              "      <td>2</td>\n",
              "      <td>1400</td>\n",
              "      <td>26</td>\n",
              "      <td>3</td>\n",
              "      <td>1</td>\n",
              "      <td>2</td>\n",
              "      <td>Florida</td>\n",
              "    </tr>\n",
              "    <tr>\n",
              "      <th>4</th>\n",
              "      <td>Dragoons</td>\n",
              "      <td>1st</td>\n",
              "      <td>43</td>\n",
              "      <td>4</td>\n",
              "      <td>1592</td>\n",
              "      <td>73</td>\n",
              "      <td>2</td>\n",
              "      <td>0</td>\n",
              "      <td>3</td>\n",
              "      <td>Maine</td>\n",
              "    </tr>\n",
              "    <tr>\n",
              "      <th>5</th>\n",
              "      <td>Dragoons</td>\n",
              "      <td>1st</td>\n",
              "      <td>234</td>\n",
              "      <td>7</td>\n",
              "      <td>1006</td>\n",
              "      <td>37</td>\n",
              "      <td>1</td>\n",
              "      <td>1</td>\n",
              "      <td>4</td>\n",
              "      <td>Iowa</td>\n",
              "    </tr>\n",
              "    <tr>\n",
              "      <th>6</th>\n",
              "      <td>Dragoons</td>\n",
              "      <td>2nd</td>\n",
              "      <td>523</td>\n",
              "      <td>8</td>\n",
              "      <td>987</td>\n",
              "      <td>949</td>\n",
              "      <td>2</td>\n",
              "      <td>0</td>\n",
              "      <td>24</td>\n",
              "      <td>Alaska</td>\n",
              "    </tr>\n",
              "    <tr>\n",
              "      <th>7</th>\n",
              "      <td>Dragoons</td>\n",
              "      <td>2nd</td>\n",
              "      <td>62</td>\n",
              "      <td>3</td>\n",
              "      <td>849</td>\n",
              "      <td>48</td>\n",
              "      <td>3</td>\n",
              "      <td>1</td>\n",
              "      <td>31</td>\n",
              "      <td>Washington</td>\n",
              "    </tr>\n",
              "    <tr>\n",
              "      <th>8</th>\n",
              "      <td>Scouts</td>\n",
              "      <td>1st</td>\n",
              "      <td>62</td>\n",
              "      <td>4</td>\n",
              "      <td>973</td>\n",
              "      <td>48</td>\n",
              "      <td>2</td>\n",
              "      <td>0</td>\n",
              "      <td>2</td>\n",
              "      <td>Oregon</td>\n",
              "    </tr>\n",
              "    <tr>\n",
              "      <th>9</th>\n",
              "      <td>Scouts</td>\n",
              "      <td>1st</td>\n",
              "      <td>73</td>\n",
              "      <td>7</td>\n",
              "      <td>1005</td>\n",
              "      <td>435</td>\n",
              "      <td>1</td>\n",
              "      <td>0</td>\n",
              "      <td>3</td>\n",
              "      <td>Wyoming</td>\n",
              "    </tr>\n",
              "    <tr>\n",
              "      <th>10</th>\n",
              "      <td>Scouts</td>\n",
              "      <td>2nd</td>\n",
              "      <td>37</td>\n",
              "      <td>8</td>\n",
              "      <td>1099</td>\n",
              "      <td>63</td>\n",
              "      <td>2</td>\n",
              "      <td>1</td>\n",
              "      <td>2</td>\n",
              "      <td>Louisana</td>\n",
              "    </tr>\n",
              "    <tr>\n",
              "      <th>11</th>\n",
              "      <td>Scouts</td>\n",
              "      <td>2nd</td>\n",
              "      <td>35</td>\n",
              "      <td>9</td>\n",
              "      <td>1523</td>\n",
              "      <td>345</td>\n",
              "      <td>3</td>\n",
              "      <td>1</td>\n",
              "      <td>3</td>\n",
              "      <td>Georgia</td>\n",
              "    </tr>\n",
              "  </tbody>\n",
              "</table>\n",
              "</div>\n",
              "    <div class=\"colab-df-buttons\">\n",
              "\n",
              "  <div class=\"colab-df-container\">\n",
              "    <button class=\"colab-df-convert\" onclick=\"convertToInteractive('df-b185ab8b-26c9-4cef-886c-d650827dd57b')\"\n",
              "            title=\"Convert this dataframe to an interactive table.\"\n",
              "            style=\"display:none;\">\n",
              "\n",
              "  <svg xmlns=\"http://www.w3.org/2000/svg\" height=\"24px\" viewBox=\"0 -960 960 960\">\n",
              "    <path d=\"M120-120v-720h720v720H120Zm60-500h600v-160H180v160Zm220 220h160v-160H400v160Zm0 220h160v-160H400v160ZM180-400h160v-160H180v160Zm440 0h160v-160H620v160ZM180-180h160v-160H180v160Zm440 0h160v-160H620v160Z\"/>\n",
              "  </svg>\n",
              "    </button>\n",
              "\n",
              "  <style>\n",
              "    .colab-df-container {\n",
              "      display:flex;\n",
              "      gap: 12px;\n",
              "    }\n",
              "\n",
              "    .colab-df-convert {\n",
              "      background-color: #E8F0FE;\n",
              "      border: none;\n",
              "      border-radius: 50%;\n",
              "      cursor: pointer;\n",
              "      display: none;\n",
              "      fill: #1967D2;\n",
              "      height: 32px;\n",
              "      padding: 0 0 0 0;\n",
              "      width: 32px;\n",
              "    }\n",
              "\n",
              "    .colab-df-convert:hover {\n",
              "      background-color: #E2EBFA;\n",
              "      box-shadow: 0px 1px 2px rgba(60, 64, 67, 0.3), 0px 1px 3px 1px rgba(60, 64, 67, 0.15);\n",
              "      fill: #174EA6;\n",
              "    }\n",
              "\n",
              "    .colab-df-buttons div {\n",
              "      margin-bottom: 4px;\n",
              "    }\n",
              "\n",
              "    [theme=dark] .colab-df-convert {\n",
              "      background-color: #3B4455;\n",
              "      fill: #D2E3FC;\n",
              "    }\n",
              "\n",
              "    [theme=dark] .colab-df-convert:hover {\n",
              "      background-color: #434B5C;\n",
              "      box-shadow: 0px 1px 3px 1px rgba(0, 0, 0, 0.15);\n",
              "      filter: drop-shadow(0px 1px 2px rgba(0, 0, 0, 0.3));\n",
              "      fill: #FFFFFF;\n",
              "    }\n",
              "  </style>\n",
              "\n",
              "    <script>\n",
              "      const buttonEl =\n",
              "        document.querySelector('#df-b185ab8b-26c9-4cef-886c-d650827dd57b button.colab-df-convert');\n",
              "      buttonEl.style.display =\n",
              "        google.colab.kernel.accessAllowed ? 'block' : 'none';\n",
              "\n",
              "      async function convertToInteractive(key) {\n",
              "        const element = document.querySelector('#df-b185ab8b-26c9-4cef-886c-d650827dd57b');\n",
              "        const dataTable =\n",
              "          await google.colab.kernel.invokeFunction('convertToInteractive',\n",
              "                                                    [key], {});\n",
              "        if (!dataTable) return;\n",
              "\n",
              "        const docLinkHtml = 'Like what you see? Visit the ' +\n",
              "          '<a target=\"_blank\" href=https://colab.research.google.com/notebooks/data_table.ipynb>data table notebook</a>'\n",
              "          + ' to learn more about interactive tables.';\n",
              "        element.innerHTML = '';\n",
              "        dataTable['output_type'] = 'display_data';\n",
              "        await google.colab.output.renderOutput(dataTable, element);\n",
              "        const docLink = document.createElement('div');\n",
              "        docLink.innerHTML = docLinkHtml;\n",
              "        element.appendChild(docLink);\n",
              "      }\n",
              "    </script>\n",
              "  </div>\n",
              "\n",
              "\n",
              "    <div id=\"df-4cd11b02-db47-44f3-b8ea-25663f6b6d80\">\n",
              "      <button class=\"colab-df-quickchart\" onclick=\"quickchart('df-4cd11b02-db47-44f3-b8ea-25663f6b6d80')\"\n",
              "                title=\"Suggest charts\"\n",
              "                style=\"display:none;\">\n",
              "\n",
              "<svg xmlns=\"http://www.w3.org/2000/svg\" height=\"24px\"viewBox=\"0 0 24 24\"\n",
              "     width=\"24px\">\n",
              "    <g>\n",
              "        <path d=\"M19 3H5c-1.1 0-2 .9-2 2v14c0 1.1.9 2 2 2h14c1.1 0 2-.9 2-2V5c0-1.1-.9-2-2-2zM9 17H7v-7h2v7zm4 0h-2V7h2v10zm4 0h-2v-4h2v4z\"/>\n",
              "    </g>\n",
              "</svg>\n",
              "      </button>\n",
              "\n",
              "<style>\n",
              "  .colab-df-quickchart {\n",
              "      --bg-color: #E8F0FE;\n",
              "      --fill-color: #1967D2;\n",
              "      --hover-bg-color: #E2EBFA;\n",
              "      --hover-fill-color: #174EA6;\n",
              "      --disabled-fill-color: #AAA;\n",
              "      --disabled-bg-color: #DDD;\n",
              "  }\n",
              "\n",
              "  [theme=dark] .colab-df-quickchart {\n",
              "      --bg-color: #3B4455;\n",
              "      --fill-color: #D2E3FC;\n",
              "      --hover-bg-color: #434B5C;\n",
              "      --hover-fill-color: #FFFFFF;\n",
              "      --disabled-bg-color: #3B4455;\n",
              "      --disabled-fill-color: #666;\n",
              "  }\n",
              "\n",
              "  .colab-df-quickchart {\n",
              "    background-color: var(--bg-color);\n",
              "    border: none;\n",
              "    border-radius: 50%;\n",
              "    cursor: pointer;\n",
              "    display: none;\n",
              "    fill: var(--fill-color);\n",
              "    height: 32px;\n",
              "    padding: 0;\n",
              "    width: 32px;\n",
              "  }\n",
              "\n",
              "  .colab-df-quickchart:hover {\n",
              "    background-color: var(--hover-bg-color);\n",
              "    box-shadow: 0 1px 2px rgba(60, 64, 67, 0.3), 0 1px 3px 1px rgba(60, 64, 67, 0.15);\n",
              "    fill: var(--button-hover-fill-color);\n",
              "  }\n",
              "\n",
              "  .colab-df-quickchart-complete:disabled,\n",
              "  .colab-df-quickchart-complete:disabled:hover {\n",
              "    background-color: var(--disabled-bg-color);\n",
              "    fill: var(--disabled-fill-color);\n",
              "    box-shadow: none;\n",
              "  }\n",
              "\n",
              "  .colab-df-spinner {\n",
              "    border: 2px solid var(--fill-color);\n",
              "    border-color: transparent;\n",
              "    border-bottom-color: var(--fill-color);\n",
              "    animation:\n",
              "      spin 1s steps(1) infinite;\n",
              "  }\n",
              "\n",
              "  @keyframes spin {\n",
              "    0% {\n",
              "      border-color: transparent;\n",
              "      border-bottom-color: var(--fill-color);\n",
              "      border-left-color: var(--fill-color);\n",
              "    }\n",
              "    20% {\n",
              "      border-color: transparent;\n",
              "      border-left-color: var(--fill-color);\n",
              "      border-top-color: var(--fill-color);\n",
              "    }\n",
              "    30% {\n",
              "      border-color: transparent;\n",
              "      border-left-color: var(--fill-color);\n",
              "      border-top-color: var(--fill-color);\n",
              "      border-right-color: var(--fill-color);\n",
              "    }\n",
              "    40% {\n",
              "      border-color: transparent;\n",
              "      border-right-color: var(--fill-color);\n",
              "      border-top-color: var(--fill-color);\n",
              "    }\n",
              "    60% {\n",
              "      border-color: transparent;\n",
              "      border-right-color: var(--fill-color);\n",
              "    }\n",
              "    80% {\n",
              "      border-color: transparent;\n",
              "      border-right-color: var(--fill-color);\n",
              "      border-bottom-color: var(--fill-color);\n",
              "    }\n",
              "    90% {\n",
              "      border-color: transparent;\n",
              "      border-bottom-color: var(--fill-color);\n",
              "    }\n",
              "  }\n",
              "</style>\n",
              "\n",
              "      <script>\n",
              "        async function quickchart(key) {\n",
              "          const quickchartButtonEl =\n",
              "            document.querySelector('#' + key + ' button');\n",
              "          quickchartButtonEl.disabled = true;  // To prevent multiple clicks.\n",
              "          quickchartButtonEl.classList.add('colab-df-spinner');\n",
              "          try {\n",
              "            const charts = await google.colab.kernel.invokeFunction(\n",
              "                'suggestCharts', [key], {});\n",
              "          } catch (error) {\n",
              "            console.error('Error during call to suggestCharts:', error);\n",
              "          }\n",
              "          quickchartButtonEl.classList.remove('colab-df-spinner');\n",
              "          quickchartButtonEl.classList.add('colab-df-quickchart-complete');\n",
              "        }\n",
              "        (() => {\n",
              "          let quickchartButtonEl =\n",
              "            document.querySelector('#df-4cd11b02-db47-44f3-b8ea-25663f6b6d80 button');\n",
              "          quickchartButtonEl.style.display =\n",
              "            google.colab.kernel.accessAllowed ? 'block' : 'none';\n",
              "        })();\n",
              "      </script>\n",
              "    </div>\n",
              "\n",
              "  <div id=\"id_cb1af9d0-9823-453d-9e48-635056943e8d\">\n",
              "    <style>\n",
              "      .colab-df-generate {\n",
              "        background-color: #E8F0FE;\n",
              "        border: none;\n",
              "        border-radius: 50%;\n",
              "        cursor: pointer;\n",
              "        display: none;\n",
              "        fill: #1967D2;\n",
              "        height: 32px;\n",
              "        padding: 0 0 0 0;\n",
              "        width: 32px;\n",
              "      }\n",
              "\n",
              "      .colab-df-generate:hover {\n",
              "        background-color: #E2EBFA;\n",
              "        box-shadow: 0px 1px 2px rgba(60, 64, 67, 0.3), 0px 1px 3px 1px rgba(60, 64, 67, 0.15);\n",
              "        fill: #174EA6;\n",
              "      }\n",
              "\n",
              "      [theme=dark] .colab-df-generate {\n",
              "        background-color: #3B4455;\n",
              "        fill: #D2E3FC;\n",
              "      }\n",
              "\n",
              "      [theme=dark] .colab-df-generate:hover {\n",
              "        background-color: #434B5C;\n",
              "        box-shadow: 0px 1px 3px 1px rgba(0, 0, 0, 0.15);\n",
              "        filter: drop-shadow(0px 1px 2px rgba(0, 0, 0, 0.3));\n",
              "        fill: #FFFFFF;\n",
              "      }\n",
              "    </style>\n",
              "    <button class=\"colab-df-generate\" onclick=\"generateWithVariable('army')\"\n",
              "            title=\"Generate code using this dataframe.\"\n",
              "            style=\"display:none;\">\n",
              "\n",
              "  <svg xmlns=\"http://www.w3.org/2000/svg\" height=\"24px\"viewBox=\"0 0 24 24\"\n",
              "       width=\"24px\">\n",
              "    <path d=\"M7,19H8.4L18.45,9,17,7.55,7,17.6ZM5,21V16.75L18.45,3.32a2,2,0,0,1,2.83,0l1.4,1.43a1.91,1.91,0,0,1,.58,1.4,1.91,1.91,0,0,1-.58,1.4L9.25,21ZM18.45,9,17,7.55Zm-12,3A5.31,5.31,0,0,0,4.9,8.1,5.31,5.31,0,0,0,1,6.5,5.31,5.31,0,0,0,4.9,4.9,5.31,5.31,0,0,0,6.5,1,5.31,5.31,0,0,0,8.1,4.9,5.31,5.31,0,0,0,12,6.5,5.46,5.46,0,0,0,6.5,12Z\"/>\n",
              "  </svg>\n",
              "    </button>\n",
              "    <script>\n",
              "      (() => {\n",
              "      const buttonEl =\n",
              "        document.querySelector('#id_cb1af9d0-9823-453d-9e48-635056943e8d button.colab-df-generate');\n",
              "      buttonEl.style.display =\n",
              "        google.colab.kernel.accessAllowed ? 'block' : 'none';\n",
              "\n",
              "      buttonEl.onclick = () => {\n",
              "        google.colab.notebook.generateWithVariable('army');\n",
              "      }\n",
              "      })();\n",
              "    </script>\n",
              "  </div>\n",
              "\n",
              "    </div>\n",
              "  </div>\n"
            ],
            "application/vnd.google.colaboratory.intrinsic+json": {
              "type": "dataframe",
              "variable_name": "army",
              "summary": "{\n  \"name\": \"army\",\n  \"rows\": 12,\n  \"fields\": [\n    {\n      \"column\": \"regiment\",\n      \"properties\": {\n        \"dtype\": \"category\",\n        \"num_unique_values\": 3,\n        \"samples\": [\n          \"Nighthawks\",\n          \"Dragoons\",\n          \"Scouts\"\n        ],\n        \"semantic_type\": \"\",\n        \"description\": \"\"\n      }\n    },\n    {\n      \"column\": \"company\",\n      \"properties\": {\n        \"dtype\": \"category\",\n        \"num_unique_values\": 2,\n        \"samples\": [\n          \"2nd\",\n          \"1st\"\n        ],\n        \"semantic_type\": \"\",\n        \"description\": \"\"\n      }\n    },\n    {\n      \"column\": \"deaths\",\n      \"properties\": {\n        \"dtype\": \"number\",\n        \"std\": 227,\n        \"min\": 25,\n        \"max\": 616,\n        \"num_unique_values\": 10,\n        \"samples\": [\n          37,\n          52\n        ],\n        \"semantic_type\": \"\",\n        \"description\": \"\"\n      }\n    },\n    {\n      \"column\": \"battles\",\n      \"properties\": {\n        \"dtype\": \"number\",\n        \"std\": 10,\n        \"min\": 2,\n        \"max\": 42,\n        \"num_unique_values\": 8,\n        \"samples\": [\n          42,\n          8\n        ],\n        \"semantic_type\": \"\",\n        \"description\": \"\"\n      }\n    },\n    {\n      \"column\": \"size\",\n      \"properties\": {\n        \"dtype\": \"number\",\n        \"std\": 240,\n        \"min\": 849,\n        \"max\": 1592,\n        \"num_unique_values\": 11,\n        \"samples\": [\n          1006,\n          1045\n        ],\n        \"semantic_type\": \"\",\n        \"description\": \"\"\n      }\n    },\n    {\n      \"column\": \"veterans\",\n      \"properties\": {\n        \"dtype\": \"number\",\n        \"std\": 280,\n        \"min\": 1,\n        \"max\": 949,\n        \"num_unique_values\": 11,\n        \"samples\": [\n          37,\n          1\n        ],\n        \"semantic_type\": \"\",\n        \"description\": \"\"\n      }\n    },\n    {\n      \"column\": \"readiness\",\n      \"properties\": {\n        \"dtype\": \"number\",\n        \"std\": 0,\n        \"min\": 1,\n        \"max\": 3,\n        \"num_unique_values\": 3,\n        \"samples\": [\n          1,\n          2\n        ],\n        \"semantic_type\": \"\",\n        \"description\": \"\"\n      }\n    },\n    {\n      \"column\": \"armored\",\n      \"properties\": {\n        \"dtype\": \"number\",\n        \"std\": 0,\n        \"min\": 0,\n        \"max\": 1,\n        \"num_unique_values\": 2,\n        \"samples\": [\n          0,\n          1\n        ],\n        \"semantic_type\": \"\",\n        \"description\": \"\"\n      }\n    },\n    {\n      \"column\": \"deserters\",\n      \"properties\": {\n        \"dtype\": \"number\",\n        \"std\": 12,\n        \"min\": 2,\n        \"max\": 31,\n        \"num_unique_values\": 5,\n        \"samples\": [\n          24,\n          3\n        ],\n        \"semantic_type\": \"\",\n        \"description\": \"\"\n      }\n    },\n    {\n      \"column\": \"origin\",\n      \"properties\": {\n        \"dtype\": \"string\",\n        \"num_unique_values\": 12,\n        \"samples\": [\n          \"Louisana\",\n          \"Wyoming\"\n        ],\n        \"semantic_type\": \"\",\n        \"description\": \"\"\n      }\n    }\n  ]\n}"
            }
          },
          "metadata": {},
          "execution_count": 5
        }
      ]
    },
    {
      "cell_type": "markdown",
      "metadata": {
        "id": "UIvnRuJFQfNh"
      },
      "source": [
        "### Step 4. Set the 'origin' colum as the index of the dataframe"
      ]
    },
    {
      "cell_type": "code",
      "execution_count": 7,
      "metadata": {
        "colab": {
          "base_uri": "https://localhost:8080/",
          "height": 457
        },
        "id": "_n72ScAgQfNh",
        "outputId": "b1ddf1ad-483b-4cfd-cfdc-7f3c97b22ecf"
      },
      "outputs": [
        {
          "output_type": "execute_result",
          "data": {
            "text/plain": [
              "              regiment company  deaths  battles  size  veterans  readiness  \\\n",
              "origin                                                                       \n",
              "Arizona     Nighthawks     1st     523        5  1045         1          1   \n",
              "California  Nighthawks     1st      52       42   957         5          2   \n",
              "Texas       Nighthawks     2nd      25        2  1099        62          3   \n",
              "Florida     Nighthawks     2nd     616        2  1400        26          3   \n",
              "Maine         Dragoons     1st      43        4  1592        73          2   \n",
              "Iowa          Dragoons     1st     234        7  1006        37          1   \n",
              "Alaska        Dragoons     2nd     523        8   987       949          2   \n",
              "Washington    Dragoons     2nd      62        3   849        48          3   \n",
              "Oregon          Scouts     1st      62        4   973        48          2   \n",
              "Wyoming         Scouts     1st      73        7  1005       435          1   \n",
              "Louisana        Scouts     2nd      37        8  1099        63          2   \n",
              "Georgia         Scouts     2nd      35        9  1523       345          3   \n",
              "\n",
              "            armored  deserters  \n",
              "origin                          \n",
              "Arizona           1          4  \n",
              "California        0         24  \n",
              "Texas             1         31  \n",
              "Florida           1          2  \n",
              "Maine             0          3  \n",
              "Iowa              1          4  \n",
              "Alaska            0         24  \n",
              "Washington        1         31  \n",
              "Oregon            0          2  \n",
              "Wyoming           0          3  \n",
              "Louisana          1          2  \n",
              "Georgia           1          3  "
            ],
            "text/html": [
              "\n",
              "  <div id=\"df-71e83db7-86a5-43ff-b2cb-c59979686e4c\" class=\"colab-df-container\">\n",
              "    <div>\n",
              "<style scoped>\n",
              "    .dataframe tbody tr th:only-of-type {\n",
              "        vertical-align: middle;\n",
              "    }\n",
              "\n",
              "    .dataframe tbody tr th {\n",
              "        vertical-align: top;\n",
              "    }\n",
              "\n",
              "    .dataframe thead th {\n",
              "        text-align: right;\n",
              "    }\n",
              "</style>\n",
              "<table border=\"1\" class=\"dataframe\">\n",
              "  <thead>\n",
              "    <tr style=\"text-align: right;\">\n",
              "      <th></th>\n",
              "      <th>regiment</th>\n",
              "      <th>company</th>\n",
              "      <th>deaths</th>\n",
              "      <th>battles</th>\n",
              "      <th>size</th>\n",
              "      <th>veterans</th>\n",
              "      <th>readiness</th>\n",
              "      <th>armored</th>\n",
              "      <th>deserters</th>\n",
              "    </tr>\n",
              "    <tr>\n",
              "      <th>origin</th>\n",
              "      <th></th>\n",
              "      <th></th>\n",
              "      <th></th>\n",
              "      <th></th>\n",
              "      <th></th>\n",
              "      <th></th>\n",
              "      <th></th>\n",
              "      <th></th>\n",
              "      <th></th>\n",
              "    </tr>\n",
              "  </thead>\n",
              "  <tbody>\n",
              "    <tr>\n",
              "      <th>Arizona</th>\n",
              "      <td>Nighthawks</td>\n",
              "      <td>1st</td>\n",
              "      <td>523</td>\n",
              "      <td>5</td>\n",
              "      <td>1045</td>\n",
              "      <td>1</td>\n",
              "      <td>1</td>\n",
              "      <td>1</td>\n",
              "      <td>4</td>\n",
              "    </tr>\n",
              "    <tr>\n",
              "      <th>California</th>\n",
              "      <td>Nighthawks</td>\n",
              "      <td>1st</td>\n",
              "      <td>52</td>\n",
              "      <td>42</td>\n",
              "      <td>957</td>\n",
              "      <td>5</td>\n",
              "      <td>2</td>\n",
              "      <td>0</td>\n",
              "      <td>24</td>\n",
              "    </tr>\n",
              "    <tr>\n",
              "      <th>Texas</th>\n",
              "      <td>Nighthawks</td>\n",
              "      <td>2nd</td>\n",
              "      <td>25</td>\n",
              "      <td>2</td>\n",
              "      <td>1099</td>\n",
              "      <td>62</td>\n",
              "      <td>3</td>\n",
              "      <td>1</td>\n",
              "      <td>31</td>\n",
              "    </tr>\n",
              "    <tr>\n",
              "      <th>Florida</th>\n",
              "      <td>Nighthawks</td>\n",
              "      <td>2nd</td>\n",
              "      <td>616</td>\n",
              "      <td>2</td>\n",
              "      <td>1400</td>\n",
              "      <td>26</td>\n",
              "      <td>3</td>\n",
              "      <td>1</td>\n",
              "      <td>2</td>\n",
              "    </tr>\n",
              "    <tr>\n",
              "      <th>Maine</th>\n",
              "      <td>Dragoons</td>\n",
              "      <td>1st</td>\n",
              "      <td>43</td>\n",
              "      <td>4</td>\n",
              "      <td>1592</td>\n",
              "      <td>73</td>\n",
              "      <td>2</td>\n",
              "      <td>0</td>\n",
              "      <td>3</td>\n",
              "    </tr>\n",
              "    <tr>\n",
              "      <th>Iowa</th>\n",
              "      <td>Dragoons</td>\n",
              "      <td>1st</td>\n",
              "      <td>234</td>\n",
              "      <td>7</td>\n",
              "      <td>1006</td>\n",
              "      <td>37</td>\n",
              "      <td>1</td>\n",
              "      <td>1</td>\n",
              "      <td>4</td>\n",
              "    </tr>\n",
              "    <tr>\n",
              "      <th>Alaska</th>\n",
              "      <td>Dragoons</td>\n",
              "      <td>2nd</td>\n",
              "      <td>523</td>\n",
              "      <td>8</td>\n",
              "      <td>987</td>\n",
              "      <td>949</td>\n",
              "      <td>2</td>\n",
              "      <td>0</td>\n",
              "      <td>24</td>\n",
              "    </tr>\n",
              "    <tr>\n",
              "      <th>Washington</th>\n",
              "      <td>Dragoons</td>\n",
              "      <td>2nd</td>\n",
              "      <td>62</td>\n",
              "      <td>3</td>\n",
              "      <td>849</td>\n",
              "      <td>48</td>\n",
              "      <td>3</td>\n",
              "      <td>1</td>\n",
              "      <td>31</td>\n",
              "    </tr>\n",
              "    <tr>\n",
              "      <th>Oregon</th>\n",
              "      <td>Scouts</td>\n",
              "      <td>1st</td>\n",
              "      <td>62</td>\n",
              "      <td>4</td>\n",
              "      <td>973</td>\n",
              "      <td>48</td>\n",
              "      <td>2</td>\n",
              "      <td>0</td>\n",
              "      <td>2</td>\n",
              "    </tr>\n",
              "    <tr>\n",
              "      <th>Wyoming</th>\n",
              "      <td>Scouts</td>\n",
              "      <td>1st</td>\n",
              "      <td>73</td>\n",
              "      <td>7</td>\n",
              "      <td>1005</td>\n",
              "      <td>435</td>\n",
              "      <td>1</td>\n",
              "      <td>0</td>\n",
              "      <td>3</td>\n",
              "    </tr>\n",
              "    <tr>\n",
              "      <th>Louisana</th>\n",
              "      <td>Scouts</td>\n",
              "      <td>2nd</td>\n",
              "      <td>37</td>\n",
              "      <td>8</td>\n",
              "      <td>1099</td>\n",
              "      <td>63</td>\n",
              "      <td>2</td>\n",
              "      <td>1</td>\n",
              "      <td>2</td>\n",
              "    </tr>\n",
              "    <tr>\n",
              "      <th>Georgia</th>\n",
              "      <td>Scouts</td>\n",
              "      <td>2nd</td>\n",
              "      <td>35</td>\n",
              "      <td>9</td>\n",
              "      <td>1523</td>\n",
              "      <td>345</td>\n",
              "      <td>3</td>\n",
              "      <td>1</td>\n",
              "      <td>3</td>\n",
              "    </tr>\n",
              "  </tbody>\n",
              "</table>\n",
              "</div>\n",
              "    <div class=\"colab-df-buttons\">\n",
              "\n",
              "  <div class=\"colab-df-container\">\n",
              "    <button class=\"colab-df-convert\" onclick=\"convertToInteractive('df-71e83db7-86a5-43ff-b2cb-c59979686e4c')\"\n",
              "            title=\"Convert this dataframe to an interactive table.\"\n",
              "            style=\"display:none;\">\n",
              "\n",
              "  <svg xmlns=\"http://www.w3.org/2000/svg\" height=\"24px\" viewBox=\"0 -960 960 960\">\n",
              "    <path d=\"M120-120v-720h720v720H120Zm60-500h600v-160H180v160Zm220 220h160v-160H400v160Zm0 220h160v-160H400v160ZM180-400h160v-160H180v160Zm440 0h160v-160H620v160ZM180-180h160v-160H180v160Zm440 0h160v-160H620v160Z\"/>\n",
              "  </svg>\n",
              "    </button>\n",
              "\n",
              "  <style>\n",
              "    .colab-df-container {\n",
              "      display:flex;\n",
              "      gap: 12px;\n",
              "    }\n",
              "\n",
              "    .colab-df-convert {\n",
              "      background-color: #E8F0FE;\n",
              "      border: none;\n",
              "      border-radius: 50%;\n",
              "      cursor: pointer;\n",
              "      display: none;\n",
              "      fill: #1967D2;\n",
              "      height: 32px;\n",
              "      padding: 0 0 0 0;\n",
              "      width: 32px;\n",
              "    }\n",
              "\n",
              "    .colab-df-convert:hover {\n",
              "      background-color: #E2EBFA;\n",
              "      box-shadow: 0px 1px 2px rgba(60, 64, 67, 0.3), 0px 1px 3px 1px rgba(60, 64, 67, 0.15);\n",
              "      fill: #174EA6;\n",
              "    }\n",
              "\n",
              "    .colab-df-buttons div {\n",
              "      margin-bottom: 4px;\n",
              "    }\n",
              "\n",
              "    [theme=dark] .colab-df-convert {\n",
              "      background-color: #3B4455;\n",
              "      fill: #D2E3FC;\n",
              "    }\n",
              "\n",
              "    [theme=dark] .colab-df-convert:hover {\n",
              "      background-color: #434B5C;\n",
              "      box-shadow: 0px 1px 3px 1px rgba(0, 0, 0, 0.15);\n",
              "      filter: drop-shadow(0px 1px 2px rgba(0, 0, 0, 0.3));\n",
              "      fill: #FFFFFF;\n",
              "    }\n",
              "  </style>\n",
              "\n",
              "    <script>\n",
              "      const buttonEl =\n",
              "        document.querySelector('#df-71e83db7-86a5-43ff-b2cb-c59979686e4c button.colab-df-convert');\n",
              "      buttonEl.style.display =\n",
              "        google.colab.kernel.accessAllowed ? 'block' : 'none';\n",
              "\n",
              "      async function convertToInteractive(key) {\n",
              "        const element = document.querySelector('#df-71e83db7-86a5-43ff-b2cb-c59979686e4c');\n",
              "        const dataTable =\n",
              "          await google.colab.kernel.invokeFunction('convertToInteractive',\n",
              "                                                    [key], {});\n",
              "        if (!dataTable) return;\n",
              "\n",
              "        const docLinkHtml = 'Like what you see? Visit the ' +\n",
              "          '<a target=\"_blank\" href=https://colab.research.google.com/notebooks/data_table.ipynb>data table notebook</a>'\n",
              "          + ' to learn more about interactive tables.';\n",
              "        element.innerHTML = '';\n",
              "        dataTable['output_type'] = 'display_data';\n",
              "        await google.colab.output.renderOutput(dataTable, element);\n",
              "        const docLink = document.createElement('div');\n",
              "        docLink.innerHTML = docLinkHtml;\n",
              "        element.appendChild(docLink);\n",
              "      }\n",
              "    </script>\n",
              "  </div>\n",
              "\n",
              "\n",
              "    <div id=\"df-40983a86-6643-4386-be81-37b740a5de53\">\n",
              "      <button class=\"colab-df-quickchart\" onclick=\"quickchart('df-40983a86-6643-4386-be81-37b740a5de53')\"\n",
              "                title=\"Suggest charts\"\n",
              "                style=\"display:none;\">\n",
              "\n",
              "<svg xmlns=\"http://www.w3.org/2000/svg\" height=\"24px\"viewBox=\"0 0 24 24\"\n",
              "     width=\"24px\">\n",
              "    <g>\n",
              "        <path d=\"M19 3H5c-1.1 0-2 .9-2 2v14c0 1.1.9 2 2 2h14c1.1 0 2-.9 2-2V5c0-1.1-.9-2-2-2zM9 17H7v-7h2v7zm4 0h-2V7h2v10zm4 0h-2v-4h2v4z\"/>\n",
              "    </g>\n",
              "</svg>\n",
              "      </button>\n",
              "\n",
              "<style>\n",
              "  .colab-df-quickchart {\n",
              "      --bg-color: #E8F0FE;\n",
              "      --fill-color: #1967D2;\n",
              "      --hover-bg-color: #E2EBFA;\n",
              "      --hover-fill-color: #174EA6;\n",
              "      --disabled-fill-color: #AAA;\n",
              "      --disabled-bg-color: #DDD;\n",
              "  }\n",
              "\n",
              "  [theme=dark] .colab-df-quickchart {\n",
              "      --bg-color: #3B4455;\n",
              "      --fill-color: #D2E3FC;\n",
              "      --hover-bg-color: #434B5C;\n",
              "      --hover-fill-color: #FFFFFF;\n",
              "      --disabled-bg-color: #3B4455;\n",
              "      --disabled-fill-color: #666;\n",
              "  }\n",
              "\n",
              "  .colab-df-quickchart {\n",
              "    background-color: var(--bg-color);\n",
              "    border: none;\n",
              "    border-radius: 50%;\n",
              "    cursor: pointer;\n",
              "    display: none;\n",
              "    fill: var(--fill-color);\n",
              "    height: 32px;\n",
              "    padding: 0;\n",
              "    width: 32px;\n",
              "  }\n",
              "\n",
              "  .colab-df-quickchart:hover {\n",
              "    background-color: var(--hover-bg-color);\n",
              "    box-shadow: 0 1px 2px rgba(60, 64, 67, 0.3), 0 1px 3px 1px rgba(60, 64, 67, 0.15);\n",
              "    fill: var(--button-hover-fill-color);\n",
              "  }\n",
              "\n",
              "  .colab-df-quickchart-complete:disabled,\n",
              "  .colab-df-quickchart-complete:disabled:hover {\n",
              "    background-color: var(--disabled-bg-color);\n",
              "    fill: var(--disabled-fill-color);\n",
              "    box-shadow: none;\n",
              "  }\n",
              "\n",
              "  .colab-df-spinner {\n",
              "    border: 2px solid var(--fill-color);\n",
              "    border-color: transparent;\n",
              "    border-bottom-color: var(--fill-color);\n",
              "    animation:\n",
              "      spin 1s steps(1) infinite;\n",
              "  }\n",
              "\n",
              "  @keyframes spin {\n",
              "    0% {\n",
              "      border-color: transparent;\n",
              "      border-bottom-color: var(--fill-color);\n",
              "      border-left-color: var(--fill-color);\n",
              "    }\n",
              "    20% {\n",
              "      border-color: transparent;\n",
              "      border-left-color: var(--fill-color);\n",
              "      border-top-color: var(--fill-color);\n",
              "    }\n",
              "    30% {\n",
              "      border-color: transparent;\n",
              "      border-left-color: var(--fill-color);\n",
              "      border-top-color: var(--fill-color);\n",
              "      border-right-color: var(--fill-color);\n",
              "    }\n",
              "    40% {\n",
              "      border-color: transparent;\n",
              "      border-right-color: var(--fill-color);\n",
              "      border-top-color: var(--fill-color);\n",
              "    }\n",
              "    60% {\n",
              "      border-color: transparent;\n",
              "      border-right-color: var(--fill-color);\n",
              "    }\n",
              "    80% {\n",
              "      border-color: transparent;\n",
              "      border-right-color: var(--fill-color);\n",
              "      border-bottom-color: var(--fill-color);\n",
              "    }\n",
              "    90% {\n",
              "      border-color: transparent;\n",
              "      border-bottom-color: var(--fill-color);\n",
              "    }\n",
              "  }\n",
              "</style>\n",
              "\n",
              "      <script>\n",
              "        async function quickchart(key) {\n",
              "          const quickchartButtonEl =\n",
              "            document.querySelector('#' + key + ' button');\n",
              "          quickchartButtonEl.disabled = true;  // To prevent multiple clicks.\n",
              "          quickchartButtonEl.classList.add('colab-df-spinner');\n",
              "          try {\n",
              "            const charts = await google.colab.kernel.invokeFunction(\n",
              "                'suggestCharts', [key], {});\n",
              "          } catch (error) {\n",
              "            console.error('Error during call to suggestCharts:', error);\n",
              "          }\n",
              "          quickchartButtonEl.classList.remove('colab-df-spinner');\n",
              "          quickchartButtonEl.classList.add('colab-df-quickchart-complete');\n",
              "        }\n",
              "        (() => {\n",
              "          let quickchartButtonEl =\n",
              "            document.querySelector('#df-40983a86-6643-4386-be81-37b740a5de53 button');\n",
              "          quickchartButtonEl.style.display =\n",
              "            google.colab.kernel.accessAllowed ? 'block' : 'none';\n",
              "        })();\n",
              "      </script>\n",
              "    </div>\n",
              "\n",
              "  <div id=\"id_a60cc551-4433-4b19-b90b-c3f10cff9133\">\n",
              "    <style>\n",
              "      .colab-df-generate {\n",
              "        background-color: #E8F0FE;\n",
              "        border: none;\n",
              "        border-radius: 50%;\n",
              "        cursor: pointer;\n",
              "        display: none;\n",
              "        fill: #1967D2;\n",
              "        height: 32px;\n",
              "        padding: 0 0 0 0;\n",
              "        width: 32px;\n",
              "      }\n",
              "\n",
              "      .colab-df-generate:hover {\n",
              "        background-color: #E2EBFA;\n",
              "        box-shadow: 0px 1px 2px rgba(60, 64, 67, 0.3), 0px 1px 3px 1px rgba(60, 64, 67, 0.15);\n",
              "        fill: #174EA6;\n",
              "      }\n",
              "\n",
              "      [theme=dark] .colab-df-generate {\n",
              "        background-color: #3B4455;\n",
              "        fill: #D2E3FC;\n",
              "      }\n",
              "\n",
              "      [theme=dark] .colab-df-generate:hover {\n",
              "        background-color: #434B5C;\n",
              "        box-shadow: 0px 1px 3px 1px rgba(0, 0, 0, 0.15);\n",
              "        filter: drop-shadow(0px 1px 2px rgba(0, 0, 0, 0.3));\n",
              "        fill: #FFFFFF;\n",
              "      }\n",
              "    </style>\n",
              "    <button class=\"colab-df-generate\" onclick=\"generateWithVariable('army')\"\n",
              "            title=\"Generate code using this dataframe.\"\n",
              "            style=\"display:none;\">\n",
              "\n",
              "  <svg xmlns=\"http://www.w3.org/2000/svg\" height=\"24px\"viewBox=\"0 0 24 24\"\n",
              "       width=\"24px\">\n",
              "    <path d=\"M7,19H8.4L18.45,9,17,7.55,7,17.6ZM5,21V16.75L18.45,3.32a2,2,0,0,1,2.83,0l1.4,1.43a1.91,1.91,0,0,1,.58,1.4,1.91,1.91,0,0,1-.58,1.4L9.25,21ZM18.45,9,17,7.55Zm-12,3A5.31,5.31,0,0,0,4.9,8.1,5.31,5.31,0,0,0,1,6.5,5.31,5.31,0,0,0,4.9,4.9,5.31,5.31,0,0,0,6.5,1,5.31,5.31,0,0,0,8.1,4.9,5.31,5.31,0,0,0,12,6.5,5.46,5.46,0,0,0,6.5,12Z\"/>\n",
              "  </svg>\n",
              "    </button>\n",
              "    <script>\n",
              "      (() => {\n",
              "      const buttonEl =\n",
              "        document.querySelector('#id_a60cc551-4433-4b19-b90b-c3f10cff9133 button.colab-df-generate');\n",
              "      buttonEl.style.display =\n",
              "        google.colab.kernel.accessAllowed ? 'block' : 'none';\n",
              "\n",
              "      buttonEl.onclick = () => {\n",
              "        google.colab.notebook.generateWithVariable('army');\n",
              "      }\n",
              "      })();\n",
              "    </script>\n",
              "  </div>\n",
              "\n",
              "    </div>\n",
              "  </div>\n"
            ],
            "application/vnd.google.colaboratory.intrinsic+json": {
              "type": "dataframe",
              "variable_name": "army",
              "summary": "{\n  \"name\": \"army\",\n  \"rows\": 12,\n  \"fields\": [\n    {\n      \"column\": \"origin\",\n      \"properties\": {\n        \"dtype\": \"string\",\n        \"num_unique_values\": 12,\n        \"samples\": [\n          \"Louisana\",\n          \"Wyoming\",\n          \"Arizona\"\n        ],\n        \"semantic_type\": \"\",\n        \"description\": \"\"\n      }\n    },\n    {\n      \"column\": \"regiment\",\n      \"properties\": {\n        \"dtype\": \"category\",\n        \"num_unique_values\": 3,\n        \"samples\": [\n          \"Nighthawks\",\n          \"Dragoons\",\n          \"Scouts\"\n        ],\n        \"semantic_type\": \"\",\n        \"description\": \"\"\n      }\n    },\n    {\n      \"column\": \"company\",\n      \"properties\": {\n        \"dtype\": \"category\",\n        \"num_unique_values\": 2,\n        \"samples\": [\n          \"2nd\",\n          \"1st\"\n        ],\n        \"semantic_type\": \"\",\n        \"description\": \"\"\n      }\n    },\n    {\n      \"column\": \"deaths\",\n      \"properties\": {\n        \"dtype\": \"number\",\n        \"std\": 227,\n        \"min\": 25,\n        \"max\": 616,\n        \"num_unique_values\": 10,\n        \"samples\": [\n          37,\n          52\n        ],\n        \"semantic_type\": \"\",\n        \"description\": \"\"\n      }\n    },\n    {\n      \"column\": \"battles\",\n      \"properties\": {\n        \"dtype\": \"number\",\n        \"std\": 10,\n        \"min\": 2,\n        \"max\": 42,\n        \"num_unique_values\": 8,\n        \"samples\": [\n          42,\n          8\n        ],\n        \"semantic_type\": \"\",\n        \"description\": \"\"\n      }\n    },\n    {\n      \"column\": \"size\",\n      \"properties\": {\n        \"dtype\": \"number\",\n        \"std\": 240,\n        \"min\": 849,\n        \"max\": 1592,\n        \"num_unique_values\": 11,\n        \"samples\": [\n          1006,\n          1045\n        ],\n        \"semantic_type\": \"\",\n        \"description\": \"\"\n      }\n    },\n    {\n      \"column\": \"veterans\",\n      \"properties\": {\n        \"dtype\": \"number\",\n        \"std\": 280,\n        \"min\": 1,\n        \"max\": 949,\n        \"num_unique_values\": 11,\n        \"samples\": [\n          37,\n          1\n        ],\n        \"semantic_type\": \"\",\n        \"description\": \"\"\n      }\n    },\n    {\n      \"column\": \"readiness\",\n      \"properties\": {\n        \"dtype\": \"number\",\n        \"std\": 0,\n        \"min\": 1,\n        \"max\": 3,\n        \"num_unique_values\": 3,\n        \"samples\": [\n          1,\n          2\n        ],\n        \"semantic_type\": \"\",\n        \"description\": \"\"\n      }\n    },\n    {\n      \"column\": \"armored\",\n      \"properties\": {\n        \"dtype\": \"number\",\n        \"std\": 0,\n        \"min\": 0,\n        \"max\": 1,\n        \"num_unique_values\": 2,\n        \"samples\": [\n          0,\n          1\n        ],\n        \"semantic_type\": \"\",\n        \"description\": \"\"\n      }\n    },\n    {\n      \"column\": \"deserters\",\n      \"properties\": {\n        \"dtype\": \"number\",\n        \"std\": 12,\n        \"min\": 2,\n        \"max\": 31,\n        \"num_unique_values\": 5,\n        \"samples\": [\n          24,\n          3\n        ],\n        \"semantic_type\": \"\",\n        \"description\": \"\"\n      }\n    }\n  ]\n}"
            }
          },
          "metadata": {},
          "execution_count": 7
        }
      ],
      "source": [
        "army.set_index('origin', inplace=True)\n",
        "army"
      ]
    },
    {
      "cell_type": "markdown",
      "metadata": {
        "id": "GrlVz_orQfNi"
      },
      "source": [
        "### Step 5. Print only the column veterans"
      ]
    },
    {
      "cell_type": "code",
      "execution_count": 8,
      "metadata": {
        "colab": {
          "base_uri": "https://localhost:8080/"
        },
        "id": "49smmr6cQfNi",
        "outputId": "af97b743-a4c8-4a7c-d37a-1d462ddf8530"
      },
      "outputs": [
        {
          "output_type": "stream",
          "name": "stdout",
          "text": [
            "origin\n",
            "Arizona         1\n",
            "California      5\n",
            "Texas          62\n",
            "Florida        26\n",
            "Maine          73\n",
            "Iowa           37\n",
            "Alaska        949\n",
            "Washington     48\n",
            "Oregon         48\n",
            "Wyoming       435\n",
            "Louisana       63\n",
            "Georgia       345\n",
            "Name: veterans, dtype: int64\n"
          ]
        }
      ],
      "source": [
        "print(army['veterans'])"
      ]
    },
    {
      "cell_type": "markdown",
      "metadata": {
        "id": "L7ftC_gWQfNj"
      },
      "source": [
        "### Step 6. Print the columns 'veterans' and 'deaths'"
      ]
    },
    {
      "cell_type": "code",
      "execution_count": 9,
      "metadata": {
        "colab": {
          "base_uri": "https://localhost:8080/"
        },
        "id": "McS_aS2mQfNj",
        "outputId": "4608d8ec-1827-4cb3-88eb-1f95cdd256ba"
      },
      "outputs": [
        {
          "output_type": "stream",
          "name": "stdout",
          "text": [
            "            veterans  deaths\n",
            "origin                      \n",
            "Arizona            1     523\n",
            "California         5      52\n",
            "Texas             62      25\n",
            "Florida           26     616\n",
            "Maine             73      43\n",
            "Iowa              37     234\n",
            "Alaska           949     523\n",
            "Washington        48      62\n",
            "Oregon            48      62\n",
            "Wyoming          435      73\n",
            "Louisana          63      37\n",
            "Georgia          345      35\n"
          ]
        }
      ],
      "source": [
        "print(army[['veterans', 'deaths']])"
      ]
    },
    {
      "cell_type": "markdown",
      "metadata": {
        "id": "UpL1trFCQfNj"
      },
      "source": [
        "### Step 7. Print the name of all the columns."
      ]
    },
    {
      "cell_type": "code",
      "execution_count": 10,
      "metadata": {
        "colab": {
          "base_uri": "https://localhost:8080/"
        },
        "id": "LgW81YEKQfNj",
        "outputId": "5e512145-4a55-4dfb-b36f-2b06b345b27d"
      },
      "outputs": [
        {
          "output_type": "stream",
          "name": "stdout",
          "text": [
            "Index(['regiment', 'company', 'deaths', 'battles', 'size', 'veterans',\n",
            "       'readiness', 'armored', 'deserters'],\n",
            "      dtype='object')\n"
          ]
        }
      ],
      "source": [
        "print(army.columns)"
      ]
    },
    {
      "cell_type": "markdown",
      "metadata": {
        "id": "7cfzh3q4QfNk"
      },
      "source": [
        "### Step 8. Select the 'deaths', 'size' and 'deserters' columns from Maine and Alaska"
      ]
    },
    {
      "cell_type": "code",
      "execution_count": 11,
      "metadata": {
        "colab": {
          "base_uri": "https://localhost:8080/"
        },
        "id": "1SPSoQ2bQfNk",
        "outputId": "2c47e9f0-3c7b-4baa-a220-5d97fcf4b353"
      },
      "outputs": [
        {
          "output_type": "stream",
          "name": "stdout",
          "text": [
            "        deaths  size  deserters\n",
            "origin                         \n",
            "Maine       43  1592          3\n",
            "Alaska     523   987         24\n"
          ]
        }
      ],
      "source": [
        "selected_columns = ['deaths', 'size', 'deserters']\n",
        "selected_rows = ['Maine', 'Alaska']\n",
        "\n",
        "selected_data = army.loc[selected_rows, selected_columns]\n",
        "print(selected_data)"
      ]
    },
    {
      "cell_type": "markdown",
      "metadata": {
        "id": "xd88Sq27QfNk"
      },
      "source": [
        "### Step 9. Select the rows 3 to 7 and the columns 3 to 6"
      ]
    },
    {
      "cell_type": "code",
      "execution_count": 12,
      "metadata": {
        "colab": {
          "base_uri": "https://localhost:8080/"
        },
        "id": "bJAztGGXQfNk",
        "outputId": "0824c466-30ff-485f-94d3-7e1680fd6759"
      },
      "outputs": [
        {
          "output_type": "stream",
          "name": "stdout",
          "text": [
            "            battles  size  veterans  readiness\n",
            "origin                                        \n",
            "Florida           2  1400        26          3\n",
            "Maine             4  1592        73          2\n",
            "Iowa              7  1006        37          1\n",
            "Alaska            8   987       949          2\n",
            "Washington        3   849        48          3\n"
          ]
        }
      ],
      "source": [
        "rows_to_select = slice(3, 8)\n",
        "columns_to_select = slice(3, 7)\n",
        "\n",
        "selected_data = army.iloc[rows_to_select, columns_to_select]\n",
        "print(selected_data)"
      ]
    },
    {
      "cell_type": "markdown",
      "metadata": {
        "id": "VHMSwWzOQfNl"
      },
      "source": [
        "### Step 10. Select every row after the fourth row and all columns"
      ]
    },
    {
      "cell_type": "code",
      "execution_count": 13,
      "metadata": {
        "colab": {
          "base_uri": "https://localhost:8080/"
        },
        "id": "PwImM4XgQfNl",
        "outputId": "9f899c23-8183-4094-f832-37b9302ac164"
      },
      "outputs": [
        {
          "output_type": "stream",
          "name": "stdout",
          "text": [
            "            regiment company  deaths  battles  size  veterans  readiness  \\\n",
            "origin                                                                     \n",
            "Maine       Dragoons     1st      43        4  1592        73          2   \n",
            "Iowa        Dragoons     1st     234        7  1006        37          1   \n",
            "Alaska      Dragoons     2nd     523        8   987       949          2   \n",
            "Washington  Dragoons     2nd      62        3   849        48          3   \n",
            "Oregon        Scouts     1st      62        4   973        48          2   \n",
            "Wyoming       Scouts     1st      73        7  1005       435          1   \n",
            "Louisana      Scouts     2nd      37        8  1099        63          2   \n",
            "Georgia       Scouts     2nd      35        9  1523       345          3   \n",
            "\n",
            "            armored  deserters  \n",
            "origin                          \n",
            "Maine             0          3  \n",
            "Iowa              1          4  \n",
            "Alaska            0         24  \n",
            "Washington        1         31  \n",
            "Oregon            0          2  \n",
            "Wyoming           0          3  \n",
            "Louisana          1          2  \n",
            "Georgia           1          3  \n"
          ]
        }
      ],
      "source": [
        "selected_data = army.iloc[4:, :]\n",
        "print(selected_data)"
      ]
    },
    {
      "cell_type": "markdown",
      "metadata": {
        "id": "78VAPWK_QfNl"
      },
      "source": [
        "### Step 11. Select every row up to the 4th row and all columns"
      ]
    },
    {
      "cell_type": "code",
      "execution_count": 15,
      "metadata": {
        "colab": {
          "base_uri": "https://localhost:8080/"
        },
        "id": "jbZNmBamQfNl",
        "outputId": "b6497b78-40b8-4dfe-faa7-5402601afdc5"
      },
      "outputs": [
        {
          "output_type": "stream",
          "name": "stdout",
          "text": [
            "              regiment company  deaths  battles  size  veterans  readiness  \\\n",
            "origin                                                                       \n",
            "Arizona     Nighthawks     1st     523        5  1045         1          1   \n",
            "California  Nighthawks     1st      52       42   957         5          2   \n",
            "Texas       Nighthawks     2nd      25        2  1099        62          3   \n",
            "Florida     Nighthawks     2nd     616        2  1400        26          3   \n",
            "Maine         Dragoons     1st      43        4  1592        73          2   \n",
            "\n",
            "            armored  deserters  \n",
            "origin                          \n",
            "Arizona           1          4  \n",
            "California        0         24  \n",
            "Texas             1         31  \n",
            "Florida           1          2  \n",
            "Maine             0          3  \n"
          ]
        }
      ],
      "source": [
        "rows_to_select = slice(None, 5)\n",
        "selected_data = army.iloc[rows_to_select, :]\n",
        "print(selected_data)"
      ]
    },
    {
      "cell_type": "markdown",
      "metadata": {
        "id": "0GHZq7EJQfNl"
      },
      "source": [
        "### Step 12. Select the 3rd column up to the 7th column"
      ]
    },
    {
      "cell_type": "code",
      "execution_count": 16,
      "metadata": {
        "colab": {
          "base_uri": "https://localhost:8080/"
        },
        "id": "OBKTLfHkQfNm",
        "outputId": "f719758f-7e22-4fc9-e9cb-742b52864c1f"
      },
      "outputs": [
        {
          "output_type": "stream",
          "name": "stdout",
          "text": [
            "            battles  size  veterans  readiness  armored\n",
            "origin                                                 \n",
            "Arizona           5  1045         1          1        1\n",
            "California       42   957         5          2        0\n",
            "Texas             2  1099        62          3        1\n",
            "Florida           2  1400        26          3        1\n",
            "Maine             4  1592        73          2        0\n",
            "Iowa              7  1006        37          1        1\n",
            "Alaska            8   987       949          2        0\n",
            "Washington        3   849        48          3        1\n",
            "Oregon            4   973        48          2        0\n",
            "Wyoming           7  1005       435          1        0\n",
            "Louisana          8  1099        63          2        1\n",
            "Georgia           9  1523       345          3        1\n"
          ]
        }
      ],
      "source": [
        "selected_data = army.iloc[:, 3:8]\n",
        "print(selected_data)\n",
        "\n"
      ]
    },
    {
      "cell_type": "markdown",
      "metadata": {
        "id": "BBTexrwPQfNm"
      },
      "source": [
        "### Step 13. Select rows where df.deaths is greater than 50"
      ]
    },
    {
      "cell_type": "code",
      "execution_count": 17,
      "metadata": {
        "colab": {
          "base_uri": "https://localhost:8080/"
        },
        "id": "F5D0ncJQQfNm",
        "outputId": "1a742c7c-ad59-4785-c0c6-0bfad20d14bc"
      },
      "outputs": [
        {
          "output_type": "stream",
          "name": "stdout",
          "text": [
            "              regiment company  deaths  battles  size  veterans  readiness  \\\n",
            "origin                                                                       \n",
            "Arizona     Nighthawks     1st     523        5  1045         1          1   \n",
            "California  Nighthawks     1st      52       42   957         5          2   \n",
            "Florida     Nighthawks     2nd     616        2  1400        26          3   \n",
            "Iowa          Dragoons     1st     234        7  1006        37          1   \n",
            "Alaska        Dragoons     2nd     523        8   987       949          2   \n",
            "Washington    Dragoons     2nd      62        3   849        48          3   \n",
            "Oregon          Scouts     1st      62        4   973        48          2   \n",
            "Wyoming         Scouts     1st      73        7  1005       435          1   \n",
            "\n",
            "            armored  deserters  \n",
            "origin                          \n",
            "Arizona           1          4  \n",
            "California        0         24  \n",
            "Florida           1          2  \n",
            "Iowa              1          4  \n",
            "Alaska            0         24  \n",
            "Washington        1         31  \n",
            "Oregon            0          2  \n",
            "Wyoming           0          3  \n"
          ]
        }
      ],
      "source": [
        "selected_data = army[army['deaths'] > 50]\n",
        "print(selected_data)"
      ]
    },
    {
      "cell_type": "markdown",
      "metadata": {
        "id": "6jjpUsFiQfNm"
      },
      "source": [
        "### Step 14. Select rows where df.deaths is greater than 500 or less than 50"
      ]
    },
    {
      "cell_type": "code",
      "execution_count": 18,
      "metadata": {
        "colab": {
          "base_uri": "https://localhost:8080/"
        },
        "id": "bzDwDfdBQfNm",
        "outputId": "18380238-20da-45af-ca69-04878ccff032"
      },
      "outputs": [
        {
          "output_type": "stream",
          "name": "stdout",
          "text": [
            "            regiment company  deaths  battles  size  veterans  readiness  \\\n",
            "origin                                                                     \n",
            "Arizona   Nighthawks     1st     523        5  1045         1          1   \n",
            "Texas     Nighthawks     2nd      25        2  1099        62          3   \n",
            "Florida   Nighthawks     2nd     616        2  1400        26          3   \n",
            "Maine       Dragoons     1st      43        4  1592        73          2   \n",
            "Alaska      Dragoons     2nd     523        8   987       949          2   \n",
            "Louisana      Scouts     2nd      37        8  1099        63          2   \n",
            "Georgia       Scouts     2nd      35        9  1523       345          3   \n",
            "\n",
            "          armored  deserters  \n",
            "origin                        \n",
            "Arizona         1          4  \n",
            "Texas           1         31  \n",
            "Florida         1          2  \n",
            "Maine           0          3  \n",
            "Alaska          0         24  \n",
            "Louisana        1          2  \n",
            "Georgia         1          3  \n"
          ]
        }
      ],
      "source": [
        "selected_data = army[(army['deaths'] > 500) | (army['deaths'] < 50)]\n",
        "print(selected_data)"
      ]
    },
    {
      "cell_type": "markdown",
      "metadata": {
        "id": "5IGaMeQdQfNn"
      },
      "source": [
        "### Step 15. Select all the regiments not named \"Dragoons\""
      ]
    },
    {
      "cell_type": "code",
      "execution_count": 19,
      "metadata": {
        "colab": {
          "base_uri": "https://localhost:8080/"
        },
        "id": "c4tUaj05QfNn",
        "outputId": "004c5d70-4953-4ee3-e206-33ea806af15b"
      },
      "outputs": [
        {
          "output_type": "stream",
          "name": "stdout",
          "text": [
            "              regiment company  deaths  battles  size  veterans  readiness  \\\n",
            "origin                                                                       \n",
            "Arizona     Nighthawks     1st     523        5  1045         1          1   \n",
            "California  Nighthawks     1st      52       42   957         5          2   \n",
            "Texas       Nighthawks     2nd      25        2  1099        62          3   \n",
            "Florida     Nighthawks     2nd     616        2  1400        26          3   \n",
            "Oregon          Scouts     1st      62        4   973        48          2   \n",
            "Wyoming         Scouts     1st      73        7  1005       435          1   \n",
            "Louisana        Scouts     2nd      37        8  1099        63          2   \n",
            "Georgia         Scouts     2nd      35        9  1523       345          3   \n",
            "\n",
            "            armored  deserters  \n",
            "origin                          \n",
            "Arizona           1          4  \n",
            "California        0         24  \n",
            "Texas             1         31  \n",
            "Florida           1          2  \n",
            "Oregon            0          2  \n",
            "Wyoming           0          3  \n",
            "Louisana          1          2  \n",
            "Georgia           1          3  \n"
          ]
        }
      ],
      "source": [
        "selected_data = army[army['regiment'] != 'Dragoons']\n",
        "print(selected_data)"
      ]
    },
    {
      "cell_type": "markdown",
      "metadata": {
        "id": "n6TcRBSlQfNn"
      },
      "source": [
        "### Step 16. Select the rows called Texas and Arizona"
      ]
    },
    {
      "cell_type": "code",
      "execution_count": 20,
      "metadata": {
        "colab": {
          "base_uri": "https://localhost:8080/"
        },
        "id": "3ueEklgqQfNn",
        "outputId": "545bc805-0616-4557-8c64-fb09c6b3dc7e"
      },
      "outputs": [
        {
          "output_type": "stream",
          "name": "stdout",
          "text": [
            "           regiment company  deaths  battles  size  veterans  readiness  \\\n",
            "origin                                                                    \n",
            "Texas    Nighthawks     2nd      25        2  1099        62          3   \n",
            "Arizona  Nighthawks     1st     523        5  1045         1          1   \n",
            "\n",
            "         armored  deserters  \n",
            "origin                       \n",
            "Texas          1         31  \n",
            "Arizona        1          4  \n"
          ]
        }
      ],
      "source": [
        "selected_data = army.loc[['Texas', 'Arizona']]\n",
        "print(selected_data)"
      ]
    },
    {
      "cell_type": "markdown",
      "metadata": {
        "id": "GeZvNIZfQfNo"
      },
      "source": [
        "### Step 17. Select the third cell in the row named Arizona"
      ]
    },
    {
      "cell_type": "code",
      "execution_count": 21,
      "metadata": {
        "colab": {
          "base_uri": "https://localhost:8080/"
        },
        "id": "KqvbBVOCQfNo",
        "outputId": "4fc83896-7842-46bb-f359-41e9c34c9cac"
      },
      "outputs": [
        {
          "output_type": "stream",
          "name": "stdout",
          "text": [
            "523\n"
          ]
        }
      ],
      "source": [
        "third_cell_arizona = army.loc['Arizona', army.columns[2]]\n",
        "print(third_cell_arizona)"
      ]
    },
    {
      "cell_type": "markdown",
      "metadata": {
        "id": "KeWmzCUkQfNo"
      },
      "source": [
        "### Step 18. Select the third cell down in the column named deaths"
      ]
    },
    {
      "cell_type": "code",
      "execution_count": 22,
      "metadata": {
        "colab": {
          "base_uri": "https://localhost:8080/"
        },
        "id": "Q6u9JhkrQfNo",
        "outputId": "2e3f229f-4450-497e-c71b-4b3499b5c246"
      },
      "outputs": [
        {
          "output_type": "stream",
          "name": "stdout",
          "text": [
            "25\n"
          ]
        }
      ],
      "source": [
        "third_cell_deaths = army.iloc[2, army.columns.get_loc('deaths')]\n",
        "print(third_cell_deaths)"
      ]
    }
  ],
  "metadata": {
    "kernelspec": {
      "display_name": "Python 3",
      "language": "python",
      "name": "python3"
    },
    "language_info": {
      "codemirror_mode": {
        "name": "ipython",
        "version": 3
      },
      "file_extension": ".py",
      "mimetype": "text/x-python",
      "name": "python",
      "nbconvert_exporter": "python",
      "pygments_lexer": "ipython3",
      "version": "3.7.3"
    },
    "colab": {
      "provenance": []
    }
  },
  "nbformat": 4,
  "nbformat_minor": 0
}
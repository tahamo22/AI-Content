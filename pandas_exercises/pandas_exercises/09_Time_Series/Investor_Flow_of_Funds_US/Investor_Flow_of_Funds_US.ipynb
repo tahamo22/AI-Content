{
  "cells": [
    {
      "cell_type": "markdown",
      "metadata": {
        "id": "45PK4jGXSLi1"
      },
      "source": [
        "# Investor - Flow of Funds - US"
      ]
    },
    {
      "cell_type": "markdown",
      "metadata": {
        "id": "Ap2P4HYHSLi4"
      },
      "source": [
        "### Introduction:\n",
        "\n",
        "Special thanks to: https://github.com/rgrp for sharing the dataset.\n",
        "\n",
        "### Step 1. Import the necessary libraries"
      ]
    },
    {
      "cell_type": "code",
      "execution_count": 1,
      "metadata": {
        "id": "PxJ5iHHmSLi5"
      },
      "outputs": [],
      "source": [
        "import pandas as pd"
      ]
    },
    {
      "cell_type": "markdown",
      "metadata": {
        "id": "Lre5Ux_ESLi6"
      },
      "source": [
        "### Step 2. Import the dataset from this [address](https://raw.githubusercontent.com/datasets/investor-flow-of-funds-us/master/data/weekly.csv)."
      ]
    },
    {
      "cell_type": "markdown",
      "metadata": {
        "id": "we8j6dk3SLi8"
      },
      "source": [
        "### Step 3. Assign it to a variable called"
      ]
    },
    {
      "cell_type": "code",
      "execution_count": 2,
      "metadata": {
        "colab": {
          "base_uri": "https://localhost:8080/",
          "height": 424
        },
        "id": "cHua8yXqSLi9",
        "outputId": "a43e2ce6-2a6c-4491-b325-f0d196179004"
      },
      "outputs": [
        {
          "output_type": "execute_result",
          "data": {
            "text/plain": [
              "           Date  Total Equity  Domestic Equity  World Equity  Hybrid  \\\n",
              "0    2011-10-05         -4002          -4499.0           497 -1354.0   \n",
              "1    2011-10-12         -7397          -5842.0         -1555   512.0   \n",
              "2    2011-10-19         -3292          -3466.0           174  1399.0   \n",
              "3    2011-10-26         -3696          -2998.0          -698  2631.0   \n",
              "4    2011-12-07         -7956          -5761.0         -2196  1089.0   \n",
              "..          ...           ...              ...           ...     ...   \n",
              "154  2024-12-04         27170              NaN         22014     NaN   \n",
              "155  2024-12-11         36551              NaN         28883     NaN   \n",
              "156  2024-12-18         23053              NaN         27124     NaN   \n",
              "157  2024-12-24         35211              NaN         36142     NaN   \n",
              "158  2024-12-31         26027              NaN         21578     NaN   \n",
              "\n",
              "     Total Bond  Taxable Bond  Municipal Bond    Total  \n",
              "0         -5828       -6258.0             430 -11184.0  \n",
              "1          3954        3927.0              28  -2931.0  \n",
              "2          5652        5102.0             550   3759.0  \n",
              "3          4910        4070.0             841   3846.0  \n",
              "4          3523        2068.0            1456  -3343.0  \n",
              "..          ...           ...             ...      ...  \n",
              "154       22510           NaN            -496      NaN  \n",
              "155       29251           NaN            -368      NaN  \n",
              "156       20767           NaN            6358      NaN  \n",
              "157       32529           NaN            3613      NaN  \n",
              "158       19932           NaN            1646      NaN  \n",
              "\n",
              "[159 rows x 9 columns]"
            ],
            "text/html": [
              "\n",
              "  <div id=\"df-7562b687-eeb2-40fd-8be5-2202c9acd7cf\" class=\"colab-df-container\">\n",
              "    <div>\n",
              "<style scoped>\n",
              "    .dataframe tbody tr th:only-of-type {\n",
              "        vertical-align: middle;\n",
              "    }\n",
              "\n",
              "    .dataframe tbody tr th {\n",
              "        vertical-align: top;\n",
              "    }\n",
              "\n",
              "    .dataframe thead th {\n",
              "        text-align: right;\n",
              "    }\n",
              "</style>\n",
              "<table border=\"1\" class=\"dataframe\">\n",
              "  <thead>\n",
              "    <tr style=\"text-align: right;\">\n",
              "      <th></th>\n",
              "      <th>Date</th>\n",
              "      <th>Total Equity</th>\n",
              "      <th>Domestic Equity</th>\n",
              "      <th>World Equity</th>\n",
              "      <th>Hybrid</th>\n",
              "      <th>Total Bond</th>\n",
              "      <th>Taxable Bond</th>\n",
              "      <th>Municipal Bond</th>\n",
              "      <th>Total</th>\n",
              "    </tr>\n",
              "  </thead>\n",
              "  <tbody>\n",
              "    <tr>\n",
              "      <th>0</th>\n",
              "      <td>2011-10-05</td>\n",
              "      <td>-4002</td>\n",
              "      <td>-4499.0</td>\n",
              "      <td>497</td>\n",
              "      <td>-1354.0</td>\n",
              "      <td>-5828</td>\n",
              "      <td>-6258.0</td>\n",
              "      <td>430</td>\n",
              "      <td>-11184.0</td>\n",
              "    </tr>\n",
              "    <tr>\n",
              "      <th>1</th>\n",
              "      <td>2011-10-12</td>\n",
              "      <td>-7397</td>\n",
              "      <td>-5842.0</td>\n",
              "      <td>-1555</td>\n",
              "      <td>512.0</td>\n",
              "      <td>3954</td>\n",
              "      <td>3927.0</td>\n",
              "      <td>28</td>\n",
              "      <td>-2931.0</td>\n",
              "    </tr>\n",
              "    <tr>\n",
              "      <th>2</th>\n",
              "      <td>2011-10-19</td>\n",
              "      <td>-3292</td>\n",
              "      <td>-3466.0</td>\n",
              "      <td>174</td>\n",
              "      <td>1399.0</td>\n",
              "      <td>5652</td>\n",
              "      <td>5102.0</td>\n",
              "      <td>550</td>\n",
              "      <td>3759.0</td>\n",
              "    </tr>\n",
              "    <tr>\n",
              "      <th>3</th>\n",
              "      <td>2011-10-26</td>\n",
              "      <td>-3696</td>\n",
              "      <td>-2998.0</td>\n",
              "      <td>-698</td>\n",
              "      <td>2631.0</td>\n",
              "      <td>4910</td>\n",
              "      <td>4070.0</td>\n",
              "      <td>841</td>\n",
              "      <td>3846.0</td>\n",
              "    </tr>\n",
              "    <tr>\n",
              "      <th>4</th>\n",
              "      <td>2011-12-07</td>\n",
              "      <td>-7956</td>\n",
              "      <td>-5761.0</td>\n",
              "      <td>-2196</td>\n",
              "      <td>1089.0</td>\n",
              "      <td>3523</td>\n",
              "      <td>2068.0</td>\n",
              "      <td>1456</td>\n",
              "      <td>-3343.0</td>\n",
              "    </tr>\n",
              "    <tr>\n",
              "      <th>...</th>\n",
              "      <td>...</td>\n",
              "      <td>...</td>\n",
              "      <td>...</td>\n",
              "      <td>...</td>\n",
              "      <td>...</td>\n",
              "      <td>...</td>\n",
              "      <td>...</td>\n",
              "      <td>...</td>\n",
              "      <td>...</td>\n",
              "    </tr>\n",
              "    <tr>\n",
              "      <th>154</th>\n",
              "      <td>2024-12-04</td>\n",
              "      <td>27170</td>\n",
              "      <td>NaN</td>\n",
              "      <td>22014</td>\n",
              "      <td>NaN</td>\n",
              "      <td>22510</td>\n",
              "      <td>NaN</td>\n",
              "      <td>-496</td>\n",
              "      <td>NaN</td>\n",
              "    </tr>\n",
              "    <tr>\n",
              "      <th>155</th>\n",
              "      <td>2024-12-11</td>\n",
              "      <td>36551</td>\n",
              "      <td>NaN</td>\n",
              "      <td>28883</td>\n",
              "      <td>NaN</td>\n",
              "      <td>29251</td>\n",
              "      <td>NaN</td>\n",
              "      <td>-368</td>\n",
              "      <td>NaN</td>\n",
              "    </tr>\n",
              "    <tr>\n",
              "      <th>156</th>\n",
              "      <td>2024-12-18</td>\n",
              "      <td>23053</td>\n",
              "      <td>NaN</td>\n",
              "      <td>27124</td>\n",
              "      <td>NaN</td>\n",
              "      <td>20767</td>\n",
              "      <td>NaN</td>\n",
              "      <td>6358</td>\n",
              "      <td>NaN</td>\n",
              "    </tr>\n",
              "    <tr>\n",
              "      <th>157</th>\n",
              "      <td>2024-12-24</td>\n",
              "      <td>35211</td>\n",
              "      <td>NaN</td>\n",
              "      <td>36142</td>\n",
              "      <td>NaN</td>\n",
              "      <td>32529</td>\n",
              "      <td>NaN</td>\n",
              "      <td>3613</td>\n",
              "      <td>NaN</td>\n",
              "    </tr>\n",
              "    <tr>\n",
              "      <th>158</th>\n",
              "      <td>2024-12-31</td>\n",
              "      <td>26027</td>\n",
              "      <td>NaN</td>\n",
              "      <td>21578</td>\n",
              "      <td>NaN</td>\n",
              "      <td>19932</td>\n",
              "      <td>NaN</td>\n",
              "      <td>1646</td>\n",
              "      <td>NaN</td>\n",
              "    </tr>\n",
              "  </tbody>\n",
              "</table>\n",
              "<p>159 rows × 9 columns</p>\n",
              "</div>\n",
              "    <div class=\"colab-df-buttons\">\n",
              "\n",
              "  <div class=\"colab-df-container\">\n",
              "    <button class=\"colab-df-convert\" onclick=\"convertToInteractive('df-7562b687-eeb2-40fd-8be5-2202c9acd7cf')\"\n",
              "            title=\"Convert this dataframe to an interactive table.\"\n",
              "            style=\"display:none;\">\n",
              "\n",
              "  <svg xmlns=\"http://www.w3.org/2000/svg\" height=\"24px\" viewBox=\"0 -960 960 960\">\n",
              "    <path d=\"M120-120v-720h720v720H120Zm60-500h600v-160H180v160Zm220 220h160v-160H400v160Zm0 220h160v-160H400v160ZM180-400h160v-160H180v160Zm440 0h160v-160H620v160ZM180-180h160v-160H180v160Zm440 0h160v-160H620v160Z\"/>\n",
              "  </svg>\n",
              "    </button>\n",
              "\n",
              "  <style>\n",
              "    .colab-df-container {\n",
              "      display:flex;\n",
              "      gap: 12px;\n",
              "    }\n",
              "\n",
              "    .colab-df-convert {\n",
              "      background-color: #E8F0FE;\n",
              "      border: none;\n",
              "      border-radius: 50%;\n",
              "      cursor: pointer;\n",
              "      display: none;\n",
              "      fill: #1967D2;\n",
              "      height: 32px;\n",
              "      padding: 0 0 0 0;\n",
              "      width: 32px;\n",
              "    }\n",
              "\n",
              "    .colab-df-convert:hover {\n",
              "      background-color: #E2EBFA;\n",
              "      box-shadow: 0px 1px 2px rgba(60, 64, 67, 0.3), 0px 1px 3px 1px rgba(60, 64, 67, 0.15);\n",
              "      fill: #174EA6;\n",
              "    }\n",
              "\n",
              "    .colab-df-buttons div {\n",
              "      margin-bottom: 4px;\n",
              "    }\n",
              "\n",
              "    [theme=dark] .colab-df-convert {\n",
              "      background-color: #3B4455;\n",
              "      fill: #D2E3FC;\n",
              "    }\n",
              "\n",
              "    [theme=dark] .colab-df-convert:hover {\n",
              "      background-color: #434B5C;\n",
              "      box-shadow: 0px 1px 3px 1px rgba(0, 0, 0, 0.15);\n",
              "      filter: drop-shadow(0px 1px 2px rgba(0, 0, 0, 0.3));\n",
              "      fill: #FFFFFF;\n",
              "    }\n",
              "  </style>\n",
              "\n",
              "    <script>\n",
              "      const buttonEl =\n",
              "        document.querySelector('#df-7562b687-eeb2-40fd-8be5-2202c9acd7cf button.colab-df-convert');\n",
              "      buttonEl.style.display =\n",
              "        google.colab.kernel.accessAllowed ? 'block' : 'none';\n",
              "\n",
              "      async function convertToInteractive(key) {\n",
              "        const element = document.querySelector('#df-7562b687-eeb2-40fd-8be5-2202c9acd7cf');\n",
              "        const dataTable =\n",
              "          await google.colab.kernel.invokeFunction('convertToInteractive',\n",
              "                                                    [key], {});\n",
              "        if (!dataTable) return;\n",
              "\n",
              "        const docLinkHtml = 'Like what you see? Visit the ' +\n",
              "          '<a target=\"_blank\" href=https://colab.research.google.com/notebooks/data_table.ipynb>data table notebook</a>'\n",
              "          + ' to learn more about interactive tables.';\n",
              "        element.innerHTML = '';\n",
              "        dataTable['output_type'] = 'display_data';\n",
              "        await google.colab.output.renderOutput(dataTable, element);\n",
              "        const docLink = document.createElement('div');\n",
              "        docLink.innerHTML = docLinkHtml;\n",
              "        element.appendChild(docLink);\n",
              "      }\n",
              "    </script>\n",
              "  </div>\n",
              "\n",
              "\n",
              "    <div id=\"df-76aed954-edb3-4da4-9f7d-f19e380e4dc7\">\n",
              "      <button class=\"colab-df-quickchart\" onclick=\"quickchart('df-76aed954-edb3-4da4-9f7d-f19e380e4dc7')\"\n",
              "                title=\"Suggest charts\"\n",
              "                style=\"display:none;\">\n",
              "\n",
              "<svg xmlns=\"http://www.w3.org/2000/svg\" height=\"24px\"viewBox=\"0 0 24 24\"\n",
              "     width=\"24px\">\n",
              "    <g>\n",
              "        <path d=\"M19 3H5c-1.1 0-2 .9-2 2v14c0 1.1.9 2 2 2h14c1.1 0 2-.9 2-2V5c0-1.1-.9-2-2-2zM9 17H7v-7h2v7zm4 0h-2V7h2v10zm4 0h-2v-4h2v4z\"/>\n",
              "    </g>\n",
              "</svg>\n",
              "      </button>\n",
              "\n",
              "<style>\n",
              "  .colab-df-quickchart {\n",
              "      --bg-color: #E8F0FE;\n",
              "      --fill-color: #1967D2;\n",
              "      --hover-bg-color: #E2EBFA;\n",
              "      --hover-fill-color: #174EA6;\n",
              "      --disabled-fill-color: #AAA;\n",
              "      --disabled-bg-color: #DDD;\n",
              "  }\n",
              "\n",
              "  [theme=dark] .colab-df-quickchart {\n",
              "      --bg-color: #3B4455;\n",
              "      --fill-color: #D2E3FC;\n",
              "      --hover-bg-color: #434B5C;\n",
              "      --hover-fill-color: #FFFFFF;\n",
              "      --disabled-bg-color: #3B4455;\n",
              "      --disabled-fill-color: #666;\n",
              "  }\n",
              "\n",
              "  .colab-df-quickchart {\n",
              "    background-color: var(--bg-color);\n",
              "    border: none;\n",
              "    border-radius: 50%;\n",
              "    cursor: pointer;\n",
              "    display: none;\n",
              "    fill: var(--fill-color);\n",
              "    height: 32px;\n",
              "    padding: 0;\n",
              "    width: 32px;\n",
              "  }\n",
              "\n",
              "  .colab-df-quickchart:hover {\n",
              "    background-color: var(--hover-bg-color);\n",
              "    box-shadow: 0 1px 2px rgba(60, 64, 67, 0.3), 0 1px 3px 1px rgba(60, 64, 67, 0.15);\n",
              "    fill: var(--button-hover-fill-color);\n",
              "  }\n",
              "\n",
              "  .colab-df-quickchart-complete:disabled,\n",
              "  .colab-df-quickchart-complete:disabled:hover {\n",
              "    background-color: var(--disabled-bg-color);\n",
              "    fill: var(--disabled-fill-color);\n",
              "    box-shadow: none;\n",
              "  }\n",
              "\n",
              "  .colab-df-spinner {\n",
              "    border: 2px solid var(--fill-color);\n",
              "    border-color: transparent;\n",
              "    border-bottom-color: var(--fill-color);\n",
              "    animation:\n",
              "      spin 1s steps(1) infinite;\n",
              "  }\n",
              "\n",
              "  @keyframes spin {\n",
              "    0% {\n",
              "      border-color: transparent;\n",
              "      border-bottom-color: var(--fill-color);\n",
              "      border-left-color: var(--fill-color);\n",
              "    }\n",
              "    20% {\n",
              "      border-color: transparent;\n",
              "      border-left-color: var(--fill-color);\n",
              "      border-top-color: var(--fill-color);\n",
              "    }\n",
              "    30% {\n",
              "      border-color: transparent;\n",
              "      border-left-color: var(--fill-color);\n",
              "      border-top-color: var(--fill-color);\n",
              "      border-right-color: var(--fill-color);\n",
              "    }\n",
              "    40% {\n",
              "      border-color: transparent;\n",
              "      border-right-color: var(--fill-color);\n",
              "      border-top-color: var(--fill-color);\n",
              "    }\n",
              "    60% {\n",
              "      border-color: transparent;\n",
              "      border-right-color: var(--fill-color);\n",
              "    }\n",
              "    80% {\n",
              "      border-color: transparent;\n",
              "      border-right-color: var(--fill-color);\n",
              "      border-bottom-color: var(--fill-color);\n",
              "    }\n",
              "    90% {\n",
              "      border-color: transparent;\n",
              "      border-bottom-color: var(--fill-color);\n",
              "    }\n",
              "  }\n",
              "</style>\n",
              "\n",
              "      <script>\n",
              "        async function quickchart(key) {\n",
              "          const quickchartButtonEl =\n",
              "            document.querySelector('#' + key + ' button');\n",
              "          quickchartButtonEl.disabled = true;  // To prevent multiple clicks.\n",
              "          quickchartButtonEl.classList.add('colab-df-spinner');\n",
              "          try {\n",
              "            const charts = await google.colab.kernel.invokeFunction(\n",
              "                'suggestCharts', [key], {});\n",
              "          } catch (error) {\n",
              "            console.error('Error during call to suggestCharts:', error);\n",
              "          }\n",
              "          quickchartButtonEl.classList.remove('colab-df-spinner');\n",
              "          quickchartButtonEl.classList.add('colab-df-quickchart-complete');\n",
              "        }\n",
              "        (() => {\n",
              "          let quickchartButtonEl =\n",
              "            document.querySelector('#df-76aed954-edb3-4da4-9f7d-f19e380e4dc7 button');\n",
              "          quickchartButtonEl.style.display =\n",
              "            google.colab.kernel.accessAllowed ? 'block' : 'none';\n",
              "        })();\n",
              "      </script>\n",
              "    </div>\n",
              "\n",
              "  <div id=\"id_a51520b6-db2b-49ae-843f-3e70b8b3ba01\">\n",
              "    <style>\n",
              "      .colab-df-generate {\n",
              "        background-color: #E8F0FE;\n",
              "        border: none;\n",
              "        border-radius: 50%;\n",
              "        cursor: pointer;\n",
              "        display: none;\n",
              "        fill: #1967D2;\n",
              "        height: 32px;\n",
              "        padding: 0 0 0 0;\n",
              "        width: 32px;\n",
              "      }\n",
              "\n",
              "      .colab-df-generate:hover {\n",
              "        background-color: #E2EBFA;\n",
              "        box-shadow: 0px 1px 2px rgba(60, 64, 67, 0.3), 0px 1px 3px 1px rgba(60, 64, 67, 0.15);\n",
              "        fill: #174EA6;\n",
              "      }\n",
              "\n",
              "      [theme=dark] .colab-df-generate {\n",
              "        background-color: #3B4455;\n",
              "        fill: #D2E3FC;\n",
              "      }\n",
              "\n",
              "      [theme=dark] .colab-df-generate:hover {\n",
              "        background-color: #434B5C;\n",
              "        box-shadow: 0px 1px 3px 1px rgba(0, 0, 0, 0.15);\n",
              "        filter: drop-shadow(0px 1px 2px rgba(0, 0, 0, 0.3));\n",
              "        fill: #FFFFFF;\n",
              "      }\n",
              "    </style>\n",
              "    <button class=\"colab-df-generate\" onclick=\"generateWithVariable('df')\"\n",
              "            title=\"Generate code using this dataframe.\"\n",
              "            style=\"display:none;\">\n",
              "\n",
              "  <svg xmlns=\"http://www.w3.org/2000/svg\" height=\"24px\"viewBox=\"0 0 24 24\"\n",
              "       width=\"24px\">\n",
              "    <path d=\"M7,19H8.4L18.45,9,17,7.55,7,17.6ZM5,21V16.75L18.45,3.32a2,2,0,0,1,2.83,0l1.4,1.43a1.91,1.91,0,0,1,.58,1.4,1.91,1.91,0,0,1-.58,1.4L9.25,21ZM18.45,9,17,7.55Zm-12,3A5.31,5.31,0,0,0,4.9,8.1,5.31,5.31,0,0,0,1,6.5,5.31,5.31,0,0,0,4.9,4.9,5.31,5.31,0,0,0,6.5,1,5.31,5.31,0,0,0,8.1,4.9,5.31,5.31,0,0,0,12,6.5,5.46,5.46,0,0,0,6.5,12Z\"/>\n",
              "  </svg>\n",
              "    </button>\n",
              "    <script>\n",
              "      (() => {\n",
              "      const buttonEl =\n",
              "        document.querySelector('#id_a51520b6-db2b-49ae-843f-3e70b8b3ba01 button.colab-df-generate');\n",
              "      buttonEl.style.display =\n",
              "        google.colab.kernel.accessAllowed ? 'block' : 'none';\n",
              "\n",
              "      buttonEl.onclick = () => {\n",
              "        google.colab.notebook.generateWithVariable('df');\n",
              "      }\n",
              "      })();\n",
              "    </script>\n",
              "  </div>\n",
              "\n",
              "    </div>\n",
              "  </div>\n"
            ],
            "application/vnd.google.colaboratory.intrinsic+json": {
              "type": "dataframe",
              "variable_name": "df",
              "summary": "{\n  \"name\": \"df\",\n  \"rows\": 159,\n  \"fields\": [\n    {\n      \"column\": \"Date\",\n      \"properties\": {\n        \"dtype\": \"object\",\n        \"num_unique_values\": 159,\n        \"samples\": [\n          \"2023-01-18\",\n          \"2024-12-11\",\n          \"2024-01-03\"\n        ],\n        \"semantic_type\": \"\",\n        \"description\": \"\"\n      }\n    },\n    {\n      \"column\": \"Total Equity\",\n      \"properties\": {\n        \"dtype\": \"number\",\n        \"std\": 14772,\n        \"min\": -23041,\n        \"max\": 54173,\n        \"num_unique_values\": 159,\n        \"samples\": [\n          8870,\n          36551,\n          13604\n        ],\n        \"semantic_type\": \"\",\n        \"description\": \"\"\n      }\n    },\n    {\n      \"column\": \"Domestic Equity\",\n      \"properties\": {\n        \"dtype\": \"number\",\n        \"std\": 4426.957646796569,\n        \"min\": -15411.0,\n        \"max\": 5629.0,\n        \"num_unique_values\": 50,\n        \"samples\": [\n          -4525.0,\n          -924.0,\n          -3987.0\n        ],\n        \"semantic_type\": \"\",\n        \"description\": \"\"\n      }\n    },\n    {\n      \"column\": \"World Equity\",\n      \"properties\": {\n        \"dtype\": \"number\",\n        \"std\": 11120,\n        \"min\": -16192,\n        \"max\": 41572,\n        \"num_unique_values\": 159,\n        \"samples\": [\n          3871,\n          28883,\n          7688\n        ],\n        \"semantic_type\": \"\",\n        \"description\": \"\"\n      }\n    },\n    {\n      \"column\": \"Hybrid\",\n      \"properties\": {\n        \"dtype\": \"number\",\n        \"std\": 1508.1226227684945,\n        \"min\": -5602.0,\n        \"max\": 2631.0,\n        \"num_unique_values\": 50,\n        \"samples\": [\n          864.0,\n          -513.0,\n          -592.0\n        ],\n        \"semantic_type\": \"\",\n        \"description\": \"\"\n      }\n    },\n    {\n      \"column\": \"Total Bond\",\n      \"properties\": {\n        \"dtype\": \"number\",\n        \"std\": 10455,\n        \"min\": -17891,\n        \"max\": 40408,\n        \"num_unique_values\": 159,\n        \"samples\": [\n          -512,\n          29251,\n          5922\n        ],\n        \"semantic_type\": \"\",\n        \"description\": \"\"\n      }\n    },\n    {\n      \"column\": \"Taxable Bond\",\n      \"properties\": {\n        \"dtype\": \"number\",\n        \"std\": 6180.386824958649,\n        \"min\": -17264.0,\n        \"max\": 17101.0,\n        \"num_unique_values\": 50,\n        \"samples\": [\n          -4299.0,\n          4684.0,\n          1496.0\n        ],\n        \"semantic_type\": \"\",\n        \"description\": \"\"\n      }\n    },\n    {\n      \"column\": \"Municipal Bond\",\n      \"properties\": {\n        \"dtype\": \"number\",\n        \"std\": 1913,\n        \"min\": -3263,\n        \"max\": 7412,\n        \"num_unique_values\": 158,\n        \"samples\": [\n          390,\n          1859,\n          1809\n        ],\n        \"semantic_type\": \"\",\n        \"description\": \"\"\n      }\n    },\n    {\n      \"column\": \"Total\",\n      \"properties\": {\n        \"dtype\": \"number\",\n        \"std\": 9175.23085615144,\n        \"min\": -37421.0,\n        \"max\": 10590.0,\n        \"num_unique_values\": 50,\n        \"samples\": [\n          -7213.0,\n          6521.0,\n          -1243.0\n        ],\n        \"semantic_type\": \"\",\n        \"description\": \"\"\n      }\n    }\n  ]\n}"
            }
          },
          "metadata": {},
          "execution_count": 2
        }
      ],
      "source": [
        "df=pd.read_csv('https://raw.githubusercontent.com/datasets/investor-flow-of-funds-us/master/data/weekly.csv')\n",
        "df"
      ]
    },
    {
      "cell_type": "markdown",
      "metadata": {
        "id": "FhkzXWdQSLi-"
      },
      "source": [
        "### Step 4.  What is the frequency of the dataset?"
      ]
    },
    {
      "cell_type": "code",
      "execution_count": 7,
      "metadata": {
        "colab": {
          "base_uri": "https://localhost:8080/"
        },
        "id": "PrHbQA0XSLi_",
        "outputId": "9bb6db90-572d-4857-bec3-242c7c23b2c2"
      },
      "outputs": [
        {
          "output_type": "stream",
          "name": "stdout",
          "text": [
            "0    2011-10-05\n",
            "1    2011-10-12\n",
            "2    2011-10-19\n",
            "3    2011-10-26\n",
            "4    2011-12-07\n",
            "Name: Date, dtype: object\n"
          ]
        }
      ],
      "source": [
        "print(df['Date'].head())"
      ]
    },
    {
      "cell_type": "markdown",
      "metadata": {
        "id": "17JXM7QiSLi_"
      },
      "source": [
        "### Step 5. Set the column Date as the index."
      ]
    },
    {
      "cell_type": "code",
      "execution_count": 8,
      "metadata": {
        "id": "opAFoCPUSLjA"
      },
      "outputs": [],
      "source": [
        "df.set_index('Date', inplace=True)"
      ]
    },
    {
      "cell_type": "markdown",
      "metadata": {
        "id": "6rK1O5jHSLjA"
      },
      "source": [
        "### Step 6. What is the type of the index?"
      ]
    },
    {
      "cell_type": "code",
      "execution_count": null,
      "metadata": {
        "id": "jwk9V0Y4SLjB"
      },
      "outputs": [],
      "source": [
        "print(type(df.index))"
      ]
    },
    {
      "cell_type": "markdown",
      "metadata": {
        "id": "Sg2M11d6SLjB"
      },
      "source": [
        "### Step 7. Set the index to a DatetimeIndex type"
      ]
    },
    {
      "cell_type": "code",
      "execution_count": 9,
      "metadata": {
        "id": "fAoMpvNvSLjB"
      },
      "outputs": [],
      "source": [
        "df.index = pd.to_datetime(df.index)"
      ]
    },
    {
      "cell_type": "markdown",
      "metadata": {
        "id": "eZcSQiGTSLjC"
      },
      "source": [
        "### Step 8.  Change the frequency to monthly, sum the values and assign it to monthly."
      ]
    },
    {
      "cell_type": "code",
      "execution_count": 10,
      "metadata": {
        "colab": {
          "base_uri": "https://localhost:8080/"
        },
        "id": "Z_vibojSSLjC",
        "outputId": "ba0b44de-e50d-4625-c31a-eadb923e79c4"
      },
      "outputs": [
        {
          "output_type": "stream",
          "name": "stderr",
          "text": [
            "/tmp/ipython-input-10-1921162712.py:1: FutureWarning: 'M' is deprecated and will be removed in a future version, please use 'ME' instead.\n",
            "  monthly = df.resample('M').sum()\n"
          ]
        }
      ],
      "source": [
        "monthly = df.resample('M').sum()"
      ]
    },
    {
      "cell_type": "markdown",
      "metadata": {
        "id": "HooyOkdNSLjC"
      },
      "source": [
        "### Step 9. You will notice that it filled the dataFrame with months that don't have any data with NaN. Let's drop these rows."
      ]
    },
    {
      "cell_type": "code",
      "execution_count": 11,
      "metadata": {
        "id": "X09J5AlSSLjD"
      },
      "outputs": [],
      "source": [
        "monthly.dropna(how='all', inplace=True)"
      ]
    },
    {
      "cell_type": "markdown",
      "metadata": {
        "id": "A4mYDYDvSLjD"
      },
      "source": [
        "### Step 10. Good, now we have the monthly data. Now change the frequency to year."
      ]
    },
    {
      "cell_type": "code",
      "execution_count": 12,
      "metadata": {
        "colab": {
          "base_uri": "https://localhost:8080/"
        },
        "id": "CXyY3RFrSLjD",
        "outputId": "93b9fd21-3a50-4996-c8c3-c1ecd389a157"
      },
      "outputs": [
        {
          "output_type": "stream",
          "name": "stderr",
          "text": [
            "/tmp/ipython-input-12-2301140232.py:1: FutureWarning: 'Y' is deprecated and will be removed in a future version, please use 'YE' instead.\n",
            "  yearly = monthly.resample('Y').sum()\n"
          ]
        }
      ],
      "source": [
        "yearly = monthly.resample('Y').sum()"
      ]
    },
    {
      "cell_type": "markdown",
      "metadata": {
        "id": "P77uq_gMSLjE"
      },
      "source": [
        "### BONUS: Create your own question and answer it."
      ]
    },
    {
      "cell_type": "code",
      "execution_count": 13,
      "metadata": {
        "collapsed": true,
        "colab": {
          "base_uri": "https://localhost:8080/"
        },
        "id": "JkbRK11ESLjE",
        "outputId": "a8b006ee-878a-45ae-8e88-48ca7e2c4cc0"
      },
      "outputs": [
        {
          "output_type": "stream",
          "name": "stdout",
          "text": [
            "Year with highest total investment: 2024\n"
          ]
        }
      ],
      "source": [
        "#  What is the year with the highest total investment (sum across all columns)?\n",
        "total_by_year = yearly.sum(axis=1)\n",
        "max_year = total_by_year.idxmax().year\n",
        "print(f\"Year with highest total investment: {max_year}\")"
      ]
    },
    {
      "cell_type": "code",
      "source": [],
      "metadata": {
        "id": "-AOJ5KfATPCu"
      },
      "execution_count": null,
      "outputs": []
    }
  ],
  "metadata": {
    "kernelspec": {
      "display_name": "Python 2",
      "language": "python",
      "name": "python2"
    },
    "language_info": {
      "codemirror_mode": {
        "name": "ipython",
        "version": 2
      },
      "file_extension": ".py",
      "mimetype": "text/x-python",
      "name": "python",
      "nbconvert_exporter": "python",
      "pygments_lexer": "ipython2",
      "version": "2.7.11"
    },
    "colab": {
      "provenance": []
    }
  },
  "nbformat": 4,
  "nbformat_minor": 0
}
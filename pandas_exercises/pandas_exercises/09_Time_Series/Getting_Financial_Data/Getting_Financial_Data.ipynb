{
  "cells": [
    {
      "cell_type": "markdown",
      "metadata": {
        "id": "T3PCrJbNP7nU"
      },
      "source": [
        "# Getting Financial Data - Pandas Datareader"
      ]
    },
    {
      "cell_type": "markdown",
      "metadata": {
        "id": "ccA863MeP7nW"
      },
      "source": [
        "### Introduction:\n",
        "\n",
        "This time you will get data from a website.\n",
        "\n",
        "\n",
        "### Step 1. Import the necessary libraries"
      ]
    },
    {
      "cell_type": "code",
      "execution_count": 2,
      "metadata": {
        "id": "fuCKn-p7P7nX"
      },
      "outputs": [],
      "source": [
        "import pandas_datareader.data as web\n",
        "import pandas as pd\n",
        "import datetime"
      ]
    },
    {
      "cell_type": "markdown",
      "metadata": {
        "id": "BQ8B_-68P7nX"
      },
      "source": [
        "### Step 2. Create your time range (start and end variables). The start date should be 01/01/2015 and the end should today (whatever your today is)."
      ]
    },
    {
      "cell_type": "code",
      "execution_count": 3,
      "metadata": {
        "id": "X348Z88EP7nX"
      },
      "outputs": [],
      "source": [
        "start = datetime.datetime(2015, 1, 1)\n",
        "end = datetime.datetime.today()"
      ]
    },
    {
      "cell_type": "markdown",
      "metadata": {
        "id": "w8J2AqseP7nY"
      },
      "source": [
        "### Step 3. Get an API key for one of the APIs that are supported by Pandas Datareader, preferably for AlphaVantage.\n",
        "\n",
        "If you do not have an API key for any of the supported APIs, it is easiest to get one for [AlphaVantage](https://www.alphavantage.co/support/#api-key). (Note that the API key is shown directly after the signup. You do *not* receive it via e-mail.)\n",
        "\n",
        "(For a full list of the APIs that are supported by Pandas Datareader, [see here](https://pydata.github.io/pandas-datareader/readers/index.html). As the APIs are provided by third parties, this list may change.)"
      ]
    },
    {
      "cell_type": "code",
      "source": [
        "api_key = 'https://www.google.com/url?q=https%3A%2F%2Fwww.alphavantage.co%2Fsupport%2F%23api-key'"
      ],
      "metadata": {
        "id": "8PNsjD3sQaHJ"
      },
      "execution_count": 10,
      "outputs": []
    },
    {
      "cell_type": "markdown",
      "metadata": {
        "id": "fXjoshicP7nY"
      },
      "source": [
        "### Step 4. Use Pandas Datarader to read the daily time series for the Apple stock (ticker symbol AAPL) between 01/01/2015 and today, assign it to df_apple and print it."
      ]
    },
    {
      "cell_type": "code",
      "source": [
        "df_apple = web.DataReader('AAPL', 'av-daily', start=start, end=end, api_key=api_key)\n",
        "df_apple['stock'] = 'AAPL'\n",
        "print(df_apple.head())"
      ],
      "metadata": {
        "colab": {
          "base_uri": "https://localhost:8080/"
        },
        "id": "HoU70IDNQ8n7",
        "outputId": "49fbaabd-1377-48da-8884-fe34f0259118"
      },
      "execution_count": 15,
      "outputs": [
        {
          "output_type": "stream",
          "name": "stdout",
          "text": [
            "              open    high      low   close    volume stock\n",
            "2015-01-02  111.39  111.44  107.350  109.33  53204626  AAPL\n",
            "2015-01-05  108.29  108.65  105.410  106.25  64285491  AAPL\n",
            "2015-01-06  106.54  107.43  104.630  106.26  65797116  AAPL\n",
            "2015-01-07  107.20  108.20  106.695  107.75  40105934  AAPL\n",
            "2015-01-08  109.23  112.15  108.700  111.89  59364547  AAPL\n"
          ]
        }
      ]
    },
    {
      "cell_type": "markdown",
      "metadata": {
        "id": "9EVBPwuhP7nZ"
      },
      "source": [
        "### Step 6. Repeat the two previous steps for a few other stocks, always creating a new dataframe: Tesla, IBM and Microsoft. (Ticker symbols TSLA, IBM and MSFT.)"
      ]
    },
    {
      "cell_type": "code",
      "execution_count": 16,
      "metadata": {
        "id": "AjpcsrioP7nZ"
      },
      "outputs": [],
      "source": [
        "df_tsla = web.DataReader('TSLA', 'av-daily', start=start, end=end, api_key=api_key)\n",
        "df_tsla['stock'] = 'TSLA'\n",
        "\n",
        "df_ibm = web.DataReader('IBM', 'av-daily', start=start, end=end, api_key=api_key)\n",
        "df_ibm['stock'] = 'IBM'\n",
        "\n",
        "df_msft = web.DataReader('MSFT', 'av-daily', start=start, end=end, api_key=api_key)\n",
        "df_msft['stock'] = 'MSFT'"
      ]
    },
    {
      "cell_type": "markdown",
      "metadata": {
        "id": "OxYJpDoxP7nZ"
      },
      "source": [
        "### Step 7. Combine the four separate dataFrames into one combined dataFrame df that holds the information for all four stocks"
      ]
    },
    {
      "cell_type": "code",
      "execution_count": 20,
      "metadata": {
        "colab": {
          "base_uri": "https://localhost:8080/"
        },
        "id": "ECOxANbMP7na",
        "outputId": "eb4c0e00-f6ce-4c35-e434-b2d53665bfe7"
      },
      "outputs": [
        {
          "output_type": "stream",
          "name": "stdout",
          "text": [
            "              open    high      low   close    volume stock\n",
            "2015-01-02  111.39  111.44  107.350  109.33  53204626  AAPL\n",
            "2015-01-05  108.29  108.65  105.410  106.25  64285491  AAPL\n",
            "2015-01-06  106.54  107.43  104.630  106.26  65797116  AAPL\n",
            "2015-01-07  107.20  108.20  106.695  107.75  40105934  AAPL\n",
            "2015-01-08  109.23  112.15  108.700  111.89  59364547  AAPL\n"
          ]
        }
      ],
      "source": [
        "df = pd.concat([df_apple, df_tsla, df_ibm, df_msft])\n",
        "print(df.head())"
      ]
    },
    {
      "cell_type": "markdown",
      "metadata": {
        "id": "b_zxIJwdP7na"
      },
      "source": [
        "### Step 7. Create a dataFrame called vol, with the volume values."
      ]
    },
    {
      "cell_type": "code",
      "execution_count": 25,
      "metadata": {
        "id": "JwqPpPjvP7na"
      },
      "outputs": [],
      "source": [
        "vol = df[['volume']].copy()"
      ]
    },
    {
      "cell_type": "markdown",
      "metadata": {
        "id": "pP6dyvOWP7na"
      },
      "source": [
        "### Step 8. Aggregate the data of volume to weekly.\n",
        "Hint: Be careful to not sum data from the same week of 2015 and other years."
      ]
    },
    {
      "cell_type": "markdown",
      "metadata": {
        "id": "aEBBx29FP7nb"
      },
      "source": [
        "### Step 9. Find all the volume traded in the year of 2015"
      ]
    }
  ],
  "metadata": {
    "kernelspec": {
      "display_name": "Python 3",
      "language": "python",
      "name": "python3"
    },
    "language_info": {
      "codemirror_mode": {
        "name": "ipython",
        "version": 3
      },
      "file_extension": ".py",
      "mimetype": "text/x-python",
      "name": "python",
      "nbconvert_exporter": "python",
      "pygments_lexer": "ipython3",
      "version": "3.7.4"
    },
    "colab": {
      "provenance": []
    }
  },
  "nbformat": 4,
  "nbformat_minor": 0
}
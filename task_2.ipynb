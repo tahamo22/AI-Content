{
  "nbformat": 4,
  "nbformat_minor": 0,
  "metadata": {
    "colab": {
      "provenance": []
    },
    "kernelspec": {
      "name": "python3",
      "display_name": "Python 3"
    },
    "language_info": {
      "name": "python"
    }
  },
  "cells": [
    {
      "cell_type": "code",
      "source": [
        "x=int(input(\"enter a number \"))\n",
        "if x<0:\n",
        "  print(-x)\n",
        "else:\n",
        "  print(x)"
      ],
      "metadata": {
        "colab": {
          "base_uri": "https://localhost:8080/"
        },
        "id": "GBasKmHTzOwC",
        "outputId": "753ee40c-aa44-416f-d080-3c75ea3044c5"
      },
      "execution_count": 8,
      "outputs": [
        {
          "output_type": "stream",
          "name": "stdout",
          "text": [
            "enter a number -11\n",
            "11\n"
          ]
        }
      ]
    },
    {
      "cell_type": "code",
      "source": [
        "year=int(input(\"enter the year \"))\n",
        "if year % 400 == 0:\n",
        "  print(year ,\"is leap Leap\")\n",
        "else:\n",
        "  if year % 4 == 0 and year % 100 != 0 :\n",
        "    print(year ,\"is leap Leap\")\n",
        "  else:\n",
        "    print(year , \"is Not Leap\")"
      ],
      "metadata": {
        "colab": {
          "base_uri": "https://localhost:8080/"
        },
        "id": "TrKhuhkczOir",
        "outputId": "91563310-5703-4426-b41e-25810240ce91"
      },
      "execution_count": 2,
      "outputs": [
        {
          "output_type": "stream",
          "name": "stdout",
          "text": [
            "enter the year 2024\n",
            "2024 is leap Leap\n"
          ]
        }
      ]
    },
    {
      "cell_type": "code",
      "source": [
        "first=int(input(\"enter first age  \"))\n",
        "second=int(input(\"enter second age  \"))\n",
        "third=int(input(\"enter third age  \"))\n",
        "if first>second and first>third:\n",
        "  print(\"first is oldest\",\"(\",first,\")\")\n",
        "elif second>first and second>third:\n",
        "  print(\"second is oldest\",\"(\",second,\")\")\n",
        "else:\n",
        "  print(\"third is oldest\",\"(\",third,\")\")\n",
        "if first<second and first<third:\n",
        "    print(\"first is youngest\",\"(\",first,\")\")\n",
        "elif second<first and second<third:\n",
        "    print(\"second is youngest\",\"(\",second,\")\")\n",
        "else:\n",
        "    print(\"third is youngest\",\"(\",third,\")\")"
      ],
      "metadata": {
        "colab": {
          "base_uri": "https://localhost:8080/"
        },
        "id": "aTOGvPNNzOde",
        "outputId": "325f44f8-4a32-418c-cb56-4480f27ed87e"
      },
      "execution_count": 3,
      "outputs": [
        {
          "output_type": "stream",
          "name": "stdout",
          "text": [
            "enter first age  12\n",
            "enter second age  34\n",
            "enter third age  33\n",
            "second is oldest ( 34 )\n",
            "first is youngest ( 12 )\n"
          ]
        }
      ]
    },
    {
      "cell_type": "code",
      "source": [
        "sum=0\n",
        "x=1\n",
        "while x > 0:\n",
        "    x=int(input(\"enter a number \"))\n",
        "    if x>0:\n",
        "        sum=sum+x\n",
        "    else:\n",
        "       print(\"The sum of the positive numbers is\",sum)\n",
        "       break"
      ],
      "metadata": {
        "colab": {
          "base_uri": "https://localhost:8080/"
        },
        "id": "qmNRuu1SzOZB",
        "outputId": "72ece53a-f5e6-438e-93fe-528d0613df61"
      },
      "execution_count": 4,
      "outputs": [
        {
          "output_type": "stream",
          "name": "stdout",
          "text": [
            "enter a number 23\n",
            "enter a number 1\n",
            "enter a number 2\n",
            "enter a number 3\n",
            "enter a number -1\n",
            "The sum of the positive numbers is 29\n"
          ]
        }
      ]
    },
    {
      "cell_type": "code",
      "source": [
        "name=str(input(\"enter your name \"))\n",
        "age=int(input(\"enter your age \"))\n",
        "if age >=18:\n",
        "  print(\"you are eligible to vote\")\n",
        "else:\n",
        "  print(\"you are not eligible to vote due to being underage\")"
      ],
      "metadata": {
        "colab": {
          "base_uri": "https://localhost:8080/"
        },
        "id": "85IDjrWzzJzy",
        "outputId": "bc70b8d6-c175-4e92-c862-9a257df9013c"
      },
      "execution_count": 5,
      "outputs": [
        {
          "output_type": "stream",
          "name": "stdout",
          "text": [
            "enter your name taha\n",
            "enter your age 22\n",
            "you are eligible to vote\n"
          ]
        }
      ]
    },
    {
      "cell_type": "code",
      "execution_count": 6,
      "metadata": {
        "colab": {
          "base_uri": "https://localhost:8080/"
        },
        "id": "BmYDY8RUy9Kj",
        "outputId": "ab671322-d882-4449-acfa-9b5149c6a707"
      },
      "outputs": [
        {
          "output_type": "stream",
          "name": "stdout",
          "text": [
            "enter a number 7\n",
            "factorial of 7 is 5040\n"
          ]
        }
      ],
      "source": [
        "x=int(input(\"enter a number \"))\n",
        "fact=1\n",
        "i=1\n",
        "while i<=x:\n",
        "  fact=fact*i\n",
        "  i=i+1\n",
        "print(\"factorial of\",x,\"is\",fact)"
      ]
    }
  ]
}
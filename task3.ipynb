{
  "cells": [
    {
      "cell_type": "markdown",
      "id": "ff38aad7",
      "metadata": {
        "id": "ff38aad7"
      },
      "source": [
        "### 1-Write a Python program that takes two numbers as user input and performs addition on them."
      ]
    },
    {
      "cell_type": "code",
      "execution_count": null,
      "id": "91696b79",
      "metadata": {
        "id": "91696b79",
        "outputId": "98f8279a-94b2-4648-e192-38593affdacc",
        "colab": {
          "base_uri": "https://localhost:8080/"
        }
      },
      "outputs": [
        {
          "output_type": "stream",
          "name": "stdout",
          "text": [
            "enter first number 4.5\n",
            "enter second number 2\n",
            "6.5\n"
          ]
        }
      ],
      "source": [
        "x=float(input(\"enter first number \"))\n",
        "y=float(input(\"enter second number \"))\n",
        "print(x+y)"
      ]
    },
    {
      "cell_type": "markdown",
      "id": "360854ff",
      "metadata": {
        "id": "360854ff"
      },
      "source": [
        "### 2-Write a Python program that takes an integer as input and checks if it is even or odd. Print \"Even\" if the number is divisible by 2, otherwise print \"Odd\"."
      ]
    },
    {
      "cell_type": "code",
      "execution_count": null,
      "id": "ee4c35fe",
      "metadata": {
        "ExecuteTime": {
          "end_time": "2023-07-23T21:35:24.351946Z",
          "start_time": "2023-07-23T21:35:23.287212Z"
        },
        "id": "ee4c35fe",
        "outputId": "6880c168-fab9-4fdf-ea0f-abec75b7ef1c",
        "colab": {
          "base_uri": "https://localhost:8080/"
        }
      },
      "outputs": [
        {
          "output_type": "stream",
          "name": "stdout",
          "text": [
            "enter number 0\n",
            "even\n"
          ]
        }
      ],
      "source": [
        "x=int(input(\"enter number \"))\n",
        "if x%2==0:\n",
        "    print(\"even\")\n",
        "else:\n",
        "    print(\"odd\")"
      ]
    },
    {
      "cell_type": "markdown",
      "id": "6ea0354c",
      "metadata": {
        "id": "6ea0354c"
      },
      "source": [
        "### 3-Write a Python program that prints all the even numbers from 1 to 20 using a for loop"
      ]
    },
    {
      "cell_type": "code",
      "execution_count": null,
      "id": "df43b7f5",
      "metadata": {
        "ExecuteTime": {
          "end_time": "2023-07-23T21:36:51.373589Z",
          "start_time": "2023-07-23T21:36:51.365580Z"
        },
        "id": "df43b7f5",
        "outputId": "da58bcb2-7715-41c7-83ef-c2327f993982",
        "colab": {
          "base_uri": "https://localhost:8080/"
        }
      },
      "outputs": [
        {
          "output_type": "stream",
          "name": "stdout",
          "text": [
            "2\n",
            "4\n",
            "6\n",
            "8\n",
            "10\n",
            "12\n",
            "14\n",
            "16\n",
            "18\n",
            "20\n"
          ]
        }
      ],
      "source": [
        "for i in range(1,21):\n",
        "    if i%2==0:\n",
        "        print(i)"
      ]
    },
    {
      "cell_type": "markdown",
      "id": "2d66bab2",
      "metadata": {
        "id": "2d66bab2"
      },
      "source": [
        "### 4-Write a Python function that takes a string as input and counts the number of vowels (a, e, i, o, u) in the string. The function should return the count"
      ]
    },
    {
      "cell_type": "code",
      "execution_count": null,
      "id": "a37a84fd",
      "metadata": {
        "ExecuteTime": {
          "end_time": "2023-07-23T21:45:58.522044Z",
          "start_time": "2023-07-23T21:45:58.514370Z"
        },
        "id": "a37a84fd",
        "outputId": "8da1b069-5fe7-4f1c-b42e-38f03461b0dd",
        "colab": {
          "base_uri": "https://localhost:8080/"
        }
      },
      "outputs": [
        {
          "output_type": "stream",
          "name": "stdout",
          "text": [
            "enter string taha mohamed\n",
            "5\n"
          ]
        }
      ],
      "source": [
        "def count_vowels(string):\n",
        "  count =0\n",
        "  i=0\n",
        "  while i < len(string) :\n",
        "    if string[i] in \"aeiouAEIOU\":\n",
        "      count += 1\n",
        "    i += 1\n",
        "  return count\n",
        "\n",
        "x=input(\"enter string \")\n",
        "print(count_vowels(x))\n"
      ]
    },
    {
      "cell_type": "markdown",
      "id": "a9a0ea06",
      "metadata": {
        "id": "a9a0ea06"
      },
      "source": [
        "### 5-Write a Python program that creates a list of numbers from 1 to 10. Use a loop to iterate over the list and print each number of power 2."
      ]
    },
    {
      "cell_type": "code",
      "execution_count": null,
      "id": "6fa658cf",
      "metadata": {
        "ExecuteTime": {
          "end_time": "2023-07-23T21:48:02.328880Z",
          "start_time": "2023-07-23T21:48:02.314313Z"
        },
        "id": "6fa658cf",
        "outputId": "0b8205b5-ee92-4bdd-87b3-69e68cf097b9",
        "colab": {
          "base_uri": "https://localhost:8080/"
        }
      },
      "outputs": [
        {
          "output_type": "stream",
          "name": "stdout",
          "text": [
            "1\n",
            "4\n",
            "9\n",
            "16\n",
            "25\n",
            "36\n",
            "49\n",
            "64\n",
            "81\n",
            "100\n"
          ]
        }
      ],
      "source": [
        "list= [1,2,3,4,5,6,7,8,9,10]\n",
        "for i in list:\n",
        "    print(i**2)"
      ]
    },
    {
      "cell_type": "markdown",
      "id": "430c9df9",
      "metadata": {
        "id": "430c9df9"
      },
      "source": [
        "### 6-Write a Python program that calculates the average grade for a student based on their scores in different subjects. The program should include the following steps:\n",
        "\n",
        "#### 1-Create variables to store the student's name, subject names, and corresponding scores. Initialize the variables with sample data.\n",
        "\n",
        "#### 2-Prompt the user to enter the student's name and assign it to the name variable.\n",
        "\n",
        "#### 3-Use a loop to prompt the user to enter the subject names and corresponding scores. Store the subject names in a list and the scores in another list.\n",
        "\n",
        "#### 4-After collecting the scores, calculate the average grade by summing up all the scores and dividing by the total number of subjects.\n",
        "\n",
        "#### 5-Check if the average grade is above a 70, print a congratulatory message. Otherwise, print an encouragement message."
      ]
    },
    {
      "cell_type": "code",
      "execution_count": null,
      "id": "e0254271",
      "metadata": {
        "ExecuteTime": {
          "end_time": "2023-07-15T16:16:17.066909Z",
          "start_time": "2023-07-15T16:16:07.636799Z"
        },
        "id": "e0254271",
        "outputId": "f186653c-46ea-4a5a-a5f2-31abf3198a08",
        "colab": {
          "base_uri": "https://localhost:8080/"
        }
      },
      "outputs": [
        {
          "output_type": "stream",
          "name": "stdout",
          "text": [
            "enter student name taha\n",
            "enter number of subjects 3\n",
            "enter subject name 1 :eng\n",
            "enter score 40\n",
            "enter subject name 2 :arab\n",
            "enter score 90\n",
            "enter subject name 3 :math\n",
            "enter score 80\n",
            "The required percentage did not exceed, Don't give up, Keep working hard and you will improve 😊 \n"
          ]
        }
      ],
      "source": [
        "name=input(\"enter student name \")\n",
        "subject_number=int(input(\"enter number of subjects \"))\n",
        "subjects=[]\n",
        "scores=[]\n",
        "for i in range(subject_number):\n",
        "    subject_name=input(f\"enter subject name {i+1} :\",)\n",
        "    score=float(input(\"enter score \"))\n",
        "    subjects.append(subject_name)\n",
        "    scores.append(score)\n",
        "for j in scores:\n",
        "    average=sum(scores)/subject_number\n",
        "if average>70:\n",
        "    print(\"congratulation, You've passed the required percentage\")\n",
        "else:\n",
        "    print(\"The required percentage did not exceed, Don't give up, Keep working hard and you will improve 😊 \")\n",
        "\n",
        "\n"
      ]
    },
    {
      "cell_type": "markdown",
      "id": "ae9df360",
      "metadata": {
        "id": "ae9df360"
      },
      "source": [
        "### 7-Find Common Elements\n",
        "### Write a Python function that takes two lists as input and returns a new list containing the common elements present in both lists."
      ]
    },
    {
      "cell_type": "code",
      "execution_count": null,
      "id": "d030c3c0",
      "metadata": {
        "ExecuteTime": {
          "end_time": "2023-07-23T22:08:16.794474Z",
          "start_time": "2023-07-23T22:08:16.775639Z"
        },
        "id": "d030c3c0",
        "colab": {
          "base_uri": "https://localhost:8080/"
        },
        "outputId": "d8c79370-ef4f-47d2-9ae8-8f60599e9d75"
      },
      "outputs": [
        {
          "output_type": "stream",
          "name": "stdout",
          "text": [
            "enter first list 12345tm\n",
            "enter second list 3467hnt\n",
            "['3', '4', 't']\n"
          ]
        }
      ],
      "source": [
        "list1=input(\"enter first list \")\n",
        "list2=input(\"enter second list \")\n",
        "list3=[]\n",
        "for i in list1:\n",
        "    if i in list2:\n",
        "        list3.append(i)\n",
        "print(list3)"
      ]
    },
    {
      "cell_type": "markdown",
      "id": "9a2f34cb",
      "metadata": {
        "id": "9a2f34cb"
      },
      "source": [
        "### 8-Write a Python function that takes a list of numbers and an element to remove from the list."
      ]
    },
    {
      "cell_type": "code",
      "execution_count": 38,
      "id": "78de9fe8",
      "metadata": {
        "ExecuteTime": {
          "end_time": "2023-07-23T22:21:36.514592Z",
          "start_time": "2023-07-23T22:21:36.505437Z"
        },
        "id": "78de9fe8",
        "colab": {
          "base_uri": "https://localhost:8080/"
        },
        "outputId": "429f045e-f118-4551-bc5d-6116c1653354"
      },
      "outputs": [
        {
          "output_type": "stream",
          "name": "stdout",
          "text": [
            "Enter a list of numbers separated by spaces: 1 2 3 4 5\n",
            "enter number 4\n",
            "[1, 2, 3, 5]\n"
          ]
        }
      ],
      "source": [
        "del list\n",
        "list1=input(\"Enter a list of numbers separated by spaces: \")\n",
        "list1=list(map(int,list1.split()))\n",
        "\n",
        "x=int(input(\"enter number \"))\n",
        "\n",
        "if x in list1:\n",
        "    list1.remove(x)\n",
        "\n",
        "    print(list1)\n",
        "else:\n",
        "    print(f\"{x} is not found in the list\")"
      ]
    },
    {
      "cell_type": "markdown",
      "id": "f1658f3b",
      "metadata": {
        "ExecuteTime": {
          "end_time": "2023-07-23T22:18:08.230185Z",
          "start_time": "2023-07-23T22:18:08.224220Z"
        },
        "id": "f1658f3b"
      },
      "source": [
        "### 9-Given 4 numbers A, B, C and D. Print the last 2 digits from their Multiplication.\n",
        "### Example :\n",
        "### the Multiplication of 4 numbers is 5 * 7 * 2 * 4 = 280 so the answer will be the last 2 digits which are 80."
      ]
    },
    {
      "cell_type": "code",
      "execution_count": 24,
      "id": "e3acbe03",
      "metadata": {
        "ExecuteTime": {
          "end_time": "2023-07-23T22:26:11.183016Z",
          "start_time": "2023-07-23T22:26:03.981069Z"
        },
        "id": "e3acbe03",
        "colab": {
          "base_uri": "https://localhost:8080/"
        },
        "outputId": "20408043-f94e-4bb0-8887-1e31c960c483"
      },
      "outputs": [
        {
          "output_type": "stream",
          "name": "stdout",
          "text": [
            "enter 4 numbers\n",
            " first number 5\n",
            " second number 7\n",
            " third number 2\n",
            " fourth number 4\n",
            "the last 2 digits is 80\n"
          ]
        }
      ],
      "source": [
        "print(\"enter 4 numbers\")\n",
        "x=int(input(\" first number \"))\n",
        "y=int(input(\" second number \"))\n",
        "z=int(input(\" third number \"))\n",
        "w=int(input(\" fourth number \"))\n",
        "multi=x*y*z*w\n",
        "t=multi%100\n",
        "print(\"the last 2 digits is\", t)"
      ]
    },
    {
      "cell_type": "markdown",
      "id": "d7ab15bb",
      "metadata": {
        "ExecuteTime": {
          "end_time": "2023-07-23T22:26:14.833712Z",
          "start_time": "2023-07-23T22:26:14.819130Z"
        },
        "id": "d7ab15bb"
      },
      "source": [
        "### 10- Given a number X. Determine if the number is prime or not"
      ]
    },
    {
      "cell_type": "code",
      "execution_count": 61,
      "id": "03f6ff0e",
      "metadata": {
        "id": "03f6ff0e",
        "colab": {
          "base_uri": "https://localhost:8080/"
        },
        "outputId": "32e9f5ab-258e-4c9b-d06e-5a31cd3cf0f3"
      },
      "outputs": [
        {
          "output_type": "stream",
          "name": "stdout",
          "text": [
            "enter number 617\n",
            "617  is prime\n"
          ]
        }
      ],
      "source": [
        "num=int(input(\"enter number \"))\n",
        "is_prime = num >1\n",
        "for i in range(2,num):\n",
        "   if num%i==0:\n",
        "    is_prime=False\n",
        "    break\n",
        "\n",
        "if is_prime:\n",
        "    print(f\"{num}  is prime\")\n",
        "else:\n",
        "    print(f\"{num} is not prime\")\n",
        "\n",
        ""
      ]
    },
    {
      "cell_type": "markdown",
      "id": "e1d1dcf9",
      "metadata": {
        "id": "e1d1dcf9"
      },
      "source": [
        "### 11- Given a number N and a list A of N numbers. Determine if the number X exists in array A or not and print its position (0-index)."
      ]
    },
    {
      "cell_type": "code",
      "execution_count": 73,
      "id": "2b002b0e",
      "metadata": {
        "ExecuteTime": {
          "end_time": "2023-07-23T22:53:41.474835Z",
          "start_time": "2023-07-23T22:53:41.458293Z"
        },
        "id": "2b002b0e",
        "colab": {
          "base_uri": "https://localhost:8080/"
        },
        "outputId": "2bff73e9-2161-4bea-d833-48b403824022"
      },
      "outputs": [
        {
          "output_type": "stream",
          "name": "stdout",
          "text": [
            "enter number of elements in list 3 \n",
            "enter element 45\n",
            "enter element 5\n",
            "enter element 1\n",
            "[45, 5, 1]\n",
            "inter the element you want to search 45\n",
            "45 is found at position 0\n"
          ]
        }
      ],
      "source": [
        "N=int(input(\"enter number of elements in list \"))\n",
        "A=[]\n",
        "for i in range(N):\n",
        "    element=int(input(\"enter element \" ))\n",
        "    A.append(element)\n",
        "print(A)\n",
        "x=int(input(\"inter the element you want to search \"))\n",
        "\n",
        "if x in A:\n",
        "    print(f\"{x} is found at position {A.index(x)}\")\n",
        "else:\n",
        "    print(f\"{x} is not found in the list\")"
      ]
    },
    {
      "cell_type": "markdown",
      "id": "f2ec854b",
      "metadata": {
        "id": "f2ec854b"
      },
      "source": [
        "### 12- Given a number N and a list A of N numbers. Determine if the array is lucky or not.\n",
        "\n",
        "#### Note: the array is lucky if the frequency (number of occurrence) of the minimum element is odd."
      ]
    },
    {
      "cell_type": "code",
      "execution_count": 81,
      "id": "0c4f7f4b",
      "metadata": {
        "ExecuteTime": {
          "end_time": "2023-07-23T23:02:02.490192Z",
          "start_time": "2023-07-23T23:02:02.476874Z"
        },
        "id": "0c4f7f4b",
        "colab": {
          "base_uri": "https://localhost:8080/"
        },
        "outputId": "3d305ed5-6a24-406a-df60-f7a8a0493790"
      },
      "outputs": [
        {
          "output_type": "stream",
          "name": "stdout",
          "text": [
            "enter number of elements in list 8\n",
            "enter element 1\n",
            "enter element 1\n",
            "enter element 1\n",
            "enter element 3\n",
            "enter element 3\n",
            "enter element 5\n",
            "enter element 4\n",
            "enter element 4\n",
            "[1, 1, 1, 3, 3, 5, 4, 4]\n",
            "the array is lucky\n"
          ]
        }
      ],
      "source": [
        "N=int(input(\"enter number of elements in list \"))\n",
        "A=[]\n",
        "for i in range(N):\n",
        "    element=int(input(\"enter element \" ))\n",
        "    A.append(element)\n",
        "print(A)\n",
        "min_element=min(A)\n",
        "frequency=A.count(min_element)\n",
        "if frequency%2==1:\n",
        "    print(\"the array is lucky\")\n",
        "else:\n",
        "    print(\"the array is not lucky\")"
      ]
    },
    {
      "cell_type": "markdown",
      "id": "e1ce1ae5",
      "metadata": {
        "id": "e1ce1ae5"
      },
      "source": [
        "### 13-Given a number N and a list A of N numbers. Print the array after doing the following operations:\n",
        "\n",
        "#### Find minimum number in these numbers.\n",
        "#### Find maximum number in these numbers.\n",
        "##### Swap minimum number with maximum number."
      ]
    },
    {
      "cell_type": "code",
      "execution_count": 86,
      "id": "e0d6e639",
      "metadata": {
        "ExecuteTime": {
          "end_time": "2023-07-23T23:10:04.293733Z",
          "start_time": "2023-07-23T23:10:04.280256Z"
        },
        "id": "e0d6e639",
        "colab": {
          "base_uri": "https://localhost:8080/"
        },
        "outputId": "03e7e69d-397c-4077-c0c5-c068c82414ed"
      },
      "outputs": [
        {
          "output_type": "stream",
          "name": "stdout",
          "text": [
            "enter number of elements in list 5\n",
            "enter element 1\n",
            "enter element 2\n",
            "enter element 3\n",
            "enter element 4\n",
            "enter element 5\n",
            "[1, 2, 3, 4, 5]\n",
            "minimum number is  1\n",
            "maximum number is  5\n",
            "swapped array is  [5, 2, 3, 4, 1]\n"
          ]
        }
      ],
      "source": [
        "N=int(input(\"enter number of elements in list \"))\n",
        "A=[]\n",
        "for i in range(N):\n",
        "    element=int(input(\"enter element \" ))\n",
        "    A.append(element)\n",
        "print(A)\n",
        "print(\"minimum number is \", min(A))\n",
        "print(\"maximum number is \", max(A))\n",
        "min_index=A.index(min(A))\n",
        "max_index=A.index(max(A))\n",
        "temp=A[min_index]\n",
        "A[min_index]=A[max_index]\n",
        "A[max_index]=temp\n",
        "print(\"swapped array is \", A)\n",
        "\n"
      ]
    },
    {
      "cell_type": "markdown",
      "id": "9eb8e9c5",
      "metadata": {
        "ExecuteTime": {
          "end_time": "2023-07-23T23:10:06.436833Z",
          "start_time": "2023-07-23T23:10:06.422086Z"
        },
        "id": "9eb8e9c5"
      },
      "source": [
        "### 14-Given a number N and an array A of N numbers. Print the lowest number and its position.\n",
        "\n",
        "### Note: if there are more than one answer print first one's position."
      ]
    },
    {
      "cell_type": "code",
      "execution_count": 92,
      "id": "018e01c8",
      "metadata": {
        "ExecuteTime": {
          "end_time": "2023-07-23T23:20:38.498527Z",
          "start_time": "2023-07-23T23:20:38.490451Z"
        },
        "id": "018e01c8",
        "colab": {
          "base_uri": "https://localhost:8080/"
        },
        "outputId": "2c844888-6644-4e83-b5df-d0f5b699c155"
      },
      "outputs": [
        {
          "output_type": "stream",
          "name": "stdout",
          "text": [
            "enter number of elements in list 5\n",
            "enter element 1\n",
            "enter element 2\n",
            "enter element 3\n",
            "enter element 1\n",
            "enter element 4\n",
            "[1, 2, 3, 1, 4]\n",
            "lowest number is  1\n",
            "there are more than one answer\n",
            "its first one's position is  0\n"
          ]
        }
      ],
      "source": [
        "N=int(input(\"enter number of elements in list \"))\n",
        "A=[]\n",
        "for i in range(N):\n",
        "    element=int(input(\"enter element \" ))\n",
        "    A.append(element)\n",
        "print(A)\n",
        "print(\"lowest number is \", min(A))\n",
        "if A.count(min(A))>1:\n",
        "    print(\"there are more than one answer\")\n",
        "    print(\"its first one's position is \", A.index(min(A)))\n",
        "else:\n",
        "    print(\"its position is \", A.index(min(A)))\n"
      ]
    },
    {
      "cell_type": "markdown",
      "id": "f35d3427",
      "metadata": {
        "ExecuteTime": {
          "end_time": "2023-07-23T23:20:55.880128Z",
          "start_time": "2023-07-23T23:20:55.861804Z"
        },
        "id": "f35d3427"
      },
      "source": [
        "### 15-Given a number N and an array A of N numbers. Print the numbers after sorting them"
      ]
    },
    {
      "cell_type": "code",
      "execution_count": 93,
      "id": "a6e0edd4",
      "metadata": {
        "ExecuteTime": {
          "end_time": "2023-07-23T23:46:13.340484Z",
          "start_time": "2023-07-23T23:46:13.324468Z"
        },
        "id": "a6e0edd4",
        "colab": {
          "base_uri": "https://localhost:8080/"
        },
        "outputId": "1686713e-4953-4c73-d165-07ae51bf7628"
      },
      "outputs": [
        {
          "output_type": "stream",
          "name": "stdout",
          "text": [
            "enter number of elements in list 4\n",
            "enter element 4\n",
            "enter element 6\n",
            "enter element 1\n",
            "enter element 9\n",
            "sorted array is  [1, 4, 6, 9]\n"
          ]
        }
      ],
      "source": [
        "N=int(input(\"enter number of elements in list \"))\n",
        "A=[]\n",
        "for i in range(N):\n",
        "    element=int(input(\"enter element \" ))\n",
        "    A.append(element)\n",
        "print(\"sorted array is \", sorted(A))\n"
      ]
    },
    {
      "cell_type": "markdown",
      "id": "a172f354",
      "metadata": {
        "ExecuteTime": {
          "end_time": "2023-07-23T23:46:15.127981Z",
          "start_time": "2023-07-23T23:46:15.108766Z"
        },
        "id": "a172f354"
      },
      "source": [
        "### 16- Write a Python program to remove spaces from a given string"
      ]
    },
    {
      "cell_type": "code",
      "execution_count": 94,
      "id": "36d3569d",
      "metadata": {
        "ExecuteTime": {
          "end_time": "2023-07-23T23:50:06.443640Z",
          "start_time": "2023-07-23T23:50:01.592919Z"
        },
        "id": "36d3569d",
        "colab": {
          "base_uri": "https://localhost:8080/"
        },
        "outputId": "41c593c7-5f57-4cfe-dec0-020c81063684"
      },
      "outputs": [
        {
          "output_type": "stream",
          "name": "stdout",
          "text": [
            "enter string taha moahed\n",
            "tahamoahed\n"
          ]
        }
      ],
      "source": [
        "x=input(\"enter string \")\n",
        "print(x.replace(\" \",\"\"))"
      ]
    },
    {
      "cell_type": "markdown",
      "id": "a5470d49",
      "metadata": {
        "id": "a5470d49"
      },
      "source": [
        "### 17-write a Python program to swap first and last element of any list."
      ]
    },
    {
      "cell_type": "code",
      "execution_count": 99,
      "id": "9d73887b",
      "metadata": {
        "ExecuteTime": {
          "end_time": "2023-07-23T23:50:59.283429Z",
          "start_time": "2023-07-23T23:50:59.272096Z"
        },
        "id": "9d73887b",
        "colab": {
          "base_uri": "https://localhost:8080/"
        },
        "outputId": "5162d9db-cd9e-4e5e-ef1b-87059f11b7e9"
      },
      "outputs": [
        {
          "output_type": "stream",
          "name": "stdout",
          "text": [
            "enter number of elements in list 5\n",
            "enter element 7\n",
            "enter element 3\n",
            "enter element 1\n",
            "enter element 6\n",
            "enter element 4\n",
            "origial list is  [7, 3, 1, 6, 4]\n",
            "swapped list is  [4, 3, 1, 6, 7]\n"
          ]
        }
      ],
      "source": [
        "N=int(input(\"enter number of elements in list \"))\n",
        "A=[]\n",
        "for i in range(N):\n",
        "    element=int(input(\"enter element \" ))\n",
        "    A.append(element)\n",
        "print(\"origial list is \",A)\n",
        "first_element=A[0]\n",
        "last_element=A[-1]\n",
        "A[0]=last_element\n",
        "A[-1]=first_element\n",
        "print(\"swapped list is \", A)"
      ]
    },
    {
      "cell_type": "markdown",
      "source": [
        "# **Write a Python Program to Find HCF.**\n",
        "## Highest Common Factor(HCF): HCF, or Highest Common Factor, is the largest positive integer that divides two or more numbers without leaving a remainder. Formula: For two numbers a and b, the HCF can be found using the formula:\n",
        "\n",
        "** HCF(𝑎, 𝑏) = GCD(𝑎, 𝑏)**\n",
        "For more than two numbers, you can find the HCF by taking the GCD of pairs of numbers at a time until you reach the last pair.\n",
        "\n",
        "# **Note: GCD stands for Greatest Common Divisor, use function.**\n"
      ],
      "metadata": {
        "id": "iS6JiE4uPbyH"
      },
      "id": "iS6JiE4uPbyH"
    },
    {
      "cell_type": "code",
      "source": [
        "x=int(input(\"enter first number \"))\n",
        "y=int(input(\"enter second number \"))\n",
        "min_number=min(x,y)\n",
        "hcf=1\n",
        "for i in range(1,min_number+1):\n",
        "    if x%i==0 and y%i==0:\n",
        "        hcf=i\n",
        "print(\"HCF is \", hcf)\n"
      ],
      "metadata": {
        "id": "9qUfYf0wPnvt",
        "colab": {
          "base_uri": "https://localhost:8080/"
        },
        "outputId": "9109e69f-e316-49dc-a5a0-d93dbaf2b175"
      },
      "id": "9qUfYf0wPnvt",
      "execution_count": 103,
      "outputs": [
        {
          "output_type": "stream",
          "name": "stdout",
          "text": [
            "enter first number 12\n",
            "enter second number 24\n",
            "HCF is  12\n"
          ]
        }
      ]
    }
  ],
  "metadata": {
    "kernelspec": {
      "display_name": "Python 3 (ipykernel)",
      "language": "python",
      "name": "python3"
    },
    "language_info": {
      "codemirror_mode": {
        "name": "ipython",
        "version": 3
      },
      "file_extension": ".py",
      "mimetype": "text/x-python",
      "name": "python",
      "nbconvert_exporter": "python",
      "pygments_lexer": "ipython3",
      "version": "3.9.12"
    },
    "colab": {
      "provenance": []
    }
  },
  "nbformat": 4,
  "nbformat_minor": 5
}
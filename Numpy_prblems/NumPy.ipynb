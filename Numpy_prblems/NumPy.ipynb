{
  "nbformat": 4,
  "nbformat_minor": 0,
  "metadata": {
    "colab": {
      "provenance": []
    },
    "kernelspec": {
      "name": "python3",
      "display_name": "Python 3"
    },
    "language_info": {
      "name": "python"
    }
  },
  "cells": [
    {
      "cell_type": "markdown",
      "source": [
        "Write a Numpy program to get the Numpy version and show the Numpy build configuration"
      ],
      "metadata": {
        "id": "ARScdgJ3uAch"
      }
    },
    {
      "cell_type": "code",
      "execution_count": 1,
      "metadata": {
        "id": "ieC6FRYObRdN"
      },
      "outputs": [],
      "source": [
        "import numpy as np"
      ]
    },
    {
      "cell_type": "code",
      "source": [
        "print(\"NumPy Version:\", np.__version__)"
      ],
      "metadata": {
        "colab": {
          "base_uri": "https://localhost:8080/"
        },
        "id": "q423Qtu1bw0G",
        "outputId": "6505efbb-214f-49b4-b695-c3232629bf1e"
      },
      "execution_count": 2,
      "outputs": [
        {
          "output_type": "stream",
          "name": "stdout",
          "text": [
            "NumPy Version: 2.0.2\n"
          ]
        }
      ]
    },
    {
      "cell_type": "code",
      "source": [
        "print(\"NumPy Build Configuration:\")\n",
        "np.show_config()"
      ],
      "metadata": {
        "colab": {
          "base_uri": "https://localhost:8080/"
        },
        "collapsed": true,
        "id": "Jph6v18hcC_0",
        "outputId": "03295c7a-8898-45ad-a9b6-007de61aecf4"
      },
      "execution_count": 3,
      "outputs": [
        {
          "output_type": "stream",
          "name": "stdout",
          "text": [
            "\n",
            "NumPy Build Configuration:\n",
            "Build Dependencies:\n",
            "  blas:\n",
            "    detection method: pkgconfig\n",
            "    found: true\n",
            "    include directory: /opt/_internal/cpython-3.11.8/lib/python3.11/site-packages/scipy_openblas64/include\n",
            "    lib directory: /opt/_internal/cpython-3.11.8/lib/python3.11/site-packages/scipy_openblas64/lib\n",
            "    name: scipy-openblas\n",
            "    openblas configuration: OpenBLAS 0.3.27  USE64BITINT DYNAMIC_ARCH NO_AFFINITY\n",
            "      Zen MAX_THREADS=64\n",
            "    pc file directory: /project/.openblas\n",
            "    version: 0.3.27\n",
            "  lapack:\n",
            "    detection method: pkgconfig\n",
            "    found: true\n",
            "    include directory: /opt/_internal/cpython-3.11.8/lib/python3.11/site-packages/scipy_openblas64/include\n",
            "    lib directory: /opt/_internal/cpython-3.11.8/lib/python3.11/site-packages/scipy_openblas64/lib\n",
            "    name: scipy-openblas\n",
            "    openblas configuration: OpenBLAS 0.3.27  USE64BITINT DYNAMIC_ARCH NO_AFFINITY\n",
            "      Zen MAX_THREADS=64\n",
            "    pc file directory: /project/.openblas\n",
            "    version: 0.3.27\n",
            "Compilers:\n",
            "  c:\n",
            "    commands: cc\n",
            "    linker: ld.bfd\n",
            "    name: gcc\n",
            "    version: 10.2.1\n",
            "  c++:\n",
            "    commands: c++\n",
            "    linker: ld.bfd\n",
            "    name: gcc\n",
            "    version: 10.2.1\n",
            "  cython:\n",
            "    commands: cython\n",
            "    linker: cython\n",
            "    name: cython\n",
            "    version: 3.0.11\n",
            "Machine Information:\n",
            "  build:\n",
            "    cpu: x86_64\n",
            "    endian: little\n",
            "    family: x86_64\n",
            "    system: linux\n",
            "  host:\n",
            "    cpu: x86_64\n",
            "    endian: little\n",
            "    family: x86_64\n",
            "    system: linux\n",
            "Python Information:\n",
            "  path: /tmp/build-env-zm_4loqi/bin/python\n",
            "  version: '3.11'\n",
            "SIMD Extensions:\n",
            "  baseline:\n",
            "  - SSE\n",
            "  - SSE2\n",
            "  - SSE3\n",
            "  found:\n",
            "  - SSSE3\n",
            "  - SSE41\n",
            "  - POPCNT\n",
            "  - SSE42\n",
            "  - AVX\n",
            "  - F16C\n",
            "  - FMA3\n",
            "  - AVX2\n",
            "  not found:\n",
            "  - AVX512F\n",
            "  - AVX512CD\n",
            "  - AVX512_KNL\n",
            "  - AVX512_KNM\n",
            "  - AVX512_SKX\n",
            "  - AVX512_CLX\n",
            "  - AVX512_CNL\n",
            "  - AVX512_ICL\n",
            "\n"
          ]
        }
      ]
    },
    {
      "cell_type": "markdown",
      "source": [
        "Write a NumPy program to get help with the add function."
      ],
      "metadata": {
        "id": "lOMtU5gVuH6D"
      }
    },
    {
      "cell_type": "code",
      "source": [
        "help(np.add) #this is the documentation about add function (How does it work? What does it take? What is the return?)\n"
      ],
      "metadata": {
        "colab": {
          "base_uri": "https://localhost:8080/"
        },
        "collapsed": true,
        "id": "olP90dexcHCa",
        "outputId": "de5033d0-fcb3-44b1-c24e-2253c9f6b238"
      },
      "execution_count": 4,
      "outputs": [
        {
          "output_type": "stream",
          "name": "stdout",
          "text": [
            "Help on ufunc:\n",
            "\n",
            "add = <ufunc 'add'>\n",
            "    add(x1, x2, /, out=None, *, where=True, casting='same_kind', order='K', dtype=None, subok=True[, signature])\n",
            "    \n",
            "    Add arguments element-wise.\n",
            "    \n",
            "    Parameters\n",
            "    ----------\n",
            "    x1, x2 : array_like\n",
            "        The arrays to be added.\n",
            "        If ``x1.shape != x2.shape``, they must be broadcastable to a common\n",
            "        shape (which becomes the shape of the output).\n",
            "    out : ndarray, None, or tuple of ndarray and None, optional\n",
            "        A location into which the result is stored. If provided, it must have\n",
            "        a shape that the inputs broadcast to. If not provided or None,\n",
            "        a freshly-allocated array is returned. A tuple (possible only as a\n",
            "        keyword argument) must have length equal to the number of outputs.\n",
            "    where : array_like, optional\n",
            "        This condition is broadcast over the input. At locations where the\n",
            "        condition is True, the `out` array will be set to the ufunc result.\n",
            "        Elsewhere, the `out` array will retain its original value.\n",
            "        Note that if an uninitialized `out` array is created via the default\n",
            "        ``out=None``, locations within it where the condition is False will\n",
            "        remain uninitialized.\n",
            "    **kwargs\n",
            "        For other keyword-only arguments, see the\n",
            "        :ref:`ufunc docs <ufuncs.kwargs>`.\n",
            "    \n",
            "    Returns\n",
            "    -------\n",
            "    add : ndarray or scalar\n",
            "        The sum of `x1` and `x2`, element-wise.\n",
            "        This is a scalar if both `x1` and `x2` are scalars.\n",
            "    \n",
            "    Notes\n",
            "    -----\n",
            "    Equivalent to `x1` + `x2` in terms of array broadcasting.\n",
            "    \n",
            "    Examples\n",
            "    --------\n",
            "    >>> np.add(1.0, 4.0)\n",
            "    5.0\n",
            "    >>> x1 = np.arange(9.0).reshape((3, 3))\n",
            "    >>> x2 = np.arange(3.0)\n",
            "    >>> np.add(x1, x2)\n",
            "    array([[  0.,   2.,   4.],\n",
            "           [  3.,   5.,   7.],\n",
            "           [  6.,   8.,  10.]])\n",
            "    \n",
            "    The ``+`` operator can be used as a shorthand for ``np.add`` on ndarrays.\n",
            "    \n",
            "    >>> x1 = np.arange(9.0).reshape((3, 3))\n",
            "    >>> x2 = np.arange(3.0)\n",
            "    >>> x1 + x2\n",
            "    array([[ 0.,  2.,  4.],\n",
            "           [ 3.,  5.,  7.],\n",
            "           [ 6.,  8., 10.]])\n",
            "\n"
          ]
        }
      ]
    },
    {
      "cell_type": "markdown",
      "source": [
        "Write a NumPy program to test whether none of the elements of a given array are zero."
      ],
      "metadata": {
        "id": "8cpdol5uuNEV"
      }
    },
    {
      "cell_type": "code",
      "source": [
        "x = np.array([1, 4, 3, 5])\n",
        "print(\"There is No zero in the array ?\")\n",
        "print(np.all(x)) # It shows if there is No zero in the array or not by retern true or false."
      ],
      "metadata": {
        "colab": {
          "base_uri": "https://localhost:8080/"
        },
        "id": "fU01PzcPcytQ",
        "outputId": "c76d1c0c-f010-42c6-9cdf-352d489b207f"
      },
      "execution_count": 7,
      "outputs": [
        {
          "output_type": "stream",
          "name": "stdout",
          "text": [
            "There is No zero in the array ?\n",
            "True\n"
          ]
        }
      ]
    },
    {
      "cell_type": "code",
      "source": [
        "x = np.array([1, 4, 0, 5])\n",
        "print(\"There is No zero in the array ?\")\n",
        "print(np.all(x)) # It shows if there is No zero in the array or not by retern true or false."
      ],
      "metadata": {
        "colab": {
          "base_uri": "https://localhost:8080/"
        },
        "id": "j9B_jSPzef1z",
        "outputId": "c0e80bd4-b862-4c1c-e50d-a73857add3fa"
      },
      "execution_count": 8,
      "outputs": [
        {
          "output_type": "stream",
          "name": "stdout",
          "text": [
            "There is No zero in the array ?\n",
            "False\n"
          ]
        }
      ]
    },
    {
      "cell_type": "markdown",
      "source": [
        "Write a NumPy program to test if any of the elements of a given array are non-zero."
      ],
      "metadata": {
        "id": "mITaGfQfumho"
      }
    },
    {
      "cell_type": "code",
      "source": [
        "x = np.array([0, 4, 0, 0])\n",
        "print(\"Are all the numbers in the array not zero ?\")\n",
        "print(np.any(x)) # It shows if all the elemnt on array are non-zero or not by retern true or false."
      ],
      "metadata": {
        "colab": {
          "base_uri": "https://localhost:8080/"
        },
        "id": "TMWFx2oTfO-g",
        "outputId": "95123bdc-a4c1-46ca-ac68-e220c4c851e6"
      },
      "execution_count": 10,
      "outputs": [
        {
          "output_type": "stream",
          "name": "stdout",
          "text": [
            "Are all the numbers in the array not zero ?\n",
            "True\n"
          ]
        }
      ]
    },
    {
      "cell_type": "code",
      "source": [
        "x = np.array([0, 0, 0, 0])\n",
        "print(\"Are all the numbers in the array not zero ?\")\n",
        "print(np.any(x)) # It shows if all the elemnt on array are non-zero or not by retern true or false."
      ],
      "metadata": {
        "colab": {
          "base_uri": "https://localhost:8080/"
        },
        "id": "VDzdjoXPgSnG",
        "outputId": "fa47a7ee-db5e-4f90-e563-94acddddd8cd"
      },
      "execution_count": 11,
      "outputs": [
        {
          "output_type": "stream",
          "name": "stdout",
          "text": [
            "Are all the numbers in the array not zero ?\n",
            "False\n"
          ]
        }
      ]
    },
    {
      "cell_type": "markdown",
      "source": [
        "Write a NumPy program to test a given array element-wise for finiteness (not infinity or not a number)."
      ],
      "metadata": {
        "id": "r8CGdwRPupH5"
      }
    },
    {
      "cell_type": "code",
      "source": [
        "x = np.array([1, 4, 3,np.nan, np.inf, -np.inf ])\n",
        "print(\"retern true if it finite number esle return false\")\n",
        "print(np.isfinite(x))\n"
      ],
      "metadata": {
        "colab": {
          "base_uri": "https://localhost:8080/"
        },
        "id": "yXKup4mcgbRn",
        "outputId": "e276e318-fc9b-428a-9004-746b1c91af9d"
      },
      "execution_count": 23,
      "outputs": [
        {
          "output_type": "stream",
          "name": "stdout",
          "text": [
            "retern true if it finite number esle return false\n",
            "[ True  True  True False False False]\n"
          ]
        }
      ]
    },
    {
      "cell_type": "markdown",
      "source": [
        "Write a NumPy program to test elements-wise for positive or negative infinity."
      ],
      "metadata": {
        "id": "GofljBB0u1Oa"
      }
    },
    {
      "cell_type": "code",
      "source": [
        "x = np.array([1, 4, -3,np.nan, np.inf, -np.inf ])\n",
        "print(\"retern true if it infinite positive number esle return false\")\n",
        "print(np.isposinf(x))"
      ],
      "metadata": {
        "colab": {
          "base_uri": "https://localhost:8080/"
        },
        "id": "umDnkm9ig1H_",
        "outputId": "add7c2e5-27cc-4327-c378-39a7bdc5349a"
      },
      "execution_count": 24,
      "outputs": [
        {
          "output_type": "stream",
          "name": "stdout",
          "text": [
            "retern true if it infinite positive number esle return false\n",
            "[False False False False  True False]\n"
          ]
        }
      ]
    },
    {
      "cell_type": "code",
      "source": [
        "x = np.array([1, 4, -3,np.nan, np.inf, -np.inf ])\n",
        "print(\"retern true if it infinite negative number esle return false\")\n",
        "print(np.isneginf(x))"
      ],
      "metadata": {
        "colab": {
          "base_uri": "https://localhost:8080/"
        },
        "id": "Xt2WO1LBjgcY",
        "outputId": "93f3849b-842c-4358-b11e-02680c232632"
      },
      "execution_count": 25,
      "outputs": [
        {
          "output_type": "stream",
          "name": "stdout",
          "text": [
            "retern true if it infinite negative number esle return false\n",
            "[False False False False False  True]\n"
          ]
        }
      ]
    },
    {
      "cell_type": "markdown",
      "source": [
        "Write a NumPy program to test element-wise for NaN of a given array."
      ],
      "metadata": {
        "id": "9uJohUeUu6_4"
      }
    },
    {
      "cell_type": "code",
      "source": [
        "x = np.array([1, 4, -3,np.nan, np.inf, -np.inf ])\n",
        "print(\"if it not a number retern true else return false\")\n",
        "print(np.isnan(x))"
      ],
      "metadata": {
        "colab": {
          "base_uri": "https://localhost:8080/"
        },
        "id": "5yrDW-irjoHS",
        "outputId": "9aa04311-6461-4f22-d41e-1e3cace59627"
      },
      "execution_count": 26,
      "outputs": [
        {
          "output_type": "stream",
          "name": "stdout",
          "text": [
            "if it not a number retern true else return false\n",
            "[False False False  True False False]\n"
          ]
        }
      ]
    },
    {
      "cell_type": "markdown",
      "source": [
        "Write a NumPy program to test element-wise for complex numbers, real numbers in a given array. Also test if a given number is of a scalar type or not."
      ],
      "metadata": {
        "id": "TqMS1VSmu98v"
      }
    },
    {
      "cell_type": "code",
      "source": [
        "x = np.array([1, 4, -3, 2+1j])\n",
        "print(\"retern true if it complex number esle return false\")\n",
        "print(np.iscomplex(x))\n",
        "print(\"retern true if it real number esle return false\")\n",
        "print(np.isreal(x))\n",
        "print(\"Checking if it's type is scaler \")\n",
        "print(np.isscalar(1.2)) # Check if the value is a single number (not a list or array)\n",
        "print(\"Checking if it's type is scaler \")\n",
        "print(np.isscalar([1.2])) # Check if the value is a single number (not a list or array)"
      ],
      "metadata": {
        "colab": {
          "base_uri": "https://localhost:8080/"
        },
        "id": "_CXKEjKzkJ1k",
        "outputId": "e5e647af-6833-460c-d9cc-7245a2ef922f"
      },
      "execution_count": 33,
      "outputs": [
        {
          "output_type": "stream",
          "name": "stdout",
          "text": [
            "retern true if it complex number esle return false\n",
            "[False False False  True]\n",
            "retern true if it real number esle return false\n",
            "[ True  True  True False]\n",
            "Checking if it's type is scaler \n",
            "True\n",
            "Checking if it's type is scaler \n",
            "False\n"
          ]
        }
      ]
    },
    {
      "cell_type": "markdown",
      "source": [
        "Write a NumPy program to test whether two arrays are element-wise equal within a tolerance."
      ],
      "metadata": {
        "id": "r2oWFJW1vBhW"
      }
    },
    {
      "cell_type": "code",
      "source": [
        "a = np.array([1.0, 2.00001, 3.0])\n",
        "b = np.array([1.0, 2.00002, 3.00001])\n",
        "\n",
        "# Check if the elements are equal within a tolerance\n",
        "result = np.allclose(a, b, rtol=1e-05, atol=1e-08)\n",
        "\n",
        "print(\"Arrays are element-wise equal within tolerance:\", result) # Check if all elements in both arrays are almost equal (allows small differences)\n"
      ],
      "metadata": {
        "colab": {
          "base_uri": "https://localhost:8080/"
        },
        "id": "3CUK6FBflI7E",
        "outputId": "0a12688e-7e01-463e-9413-f6f1db50d789"
      },
      "execution_count": 34,
      "outputs": [
        {
          "output_type": "stream",
          "name": "stdout",
          "text": [
            "Arrays are element-wise equal within tolerance: True\n"
          ]
        }
      ]
    },
    {
      "cell_type": "markdown",
      "source": [
        "Write a NumPy program to create an element-wise comparison (greater, greater_equal, less and less_equal) of two given arrays."
      ],
      "metadata": {
        "id": "8_tcobCjvF0P"
      }
    },
    {
      "cell_type": "code",
      "source": [
        "x = np.array([1, 3])\n",
        "y = np.array([2, 3])\n",
        "# Check if elements in x are greater than corresponding elements in y\n",
        "print(\"Comparison - greater\")\n",
        "print(np.greater(x, y))  # [False False] → 1 > 2 (False), 3 > 3 (False)\n",
        "\n",
        "# Check if elements in x are greater than or equal to elements in y\n",
        "print(\"Comparison - greater_equal\")\n",
        "print(np.greater_equal(x, y))  # [False True] → 1 >= 2 (False), 3 >= 3 (True)\n",
        "\n",
        "# Check if elements in x are less than corresponding elements in y\n",
        "print(\"Comparison - less\")\n",
        "print(np.less(x, y))  # [True False] → 1 < 2 (True), 3 < 3 (False)"
      ],
      "metadata": {
        "colab": {
          "base_uri": "https://localhost:8080/"
        },
        "id": "gr_WIv8Tn0WA",
        "outputId": "c9680404-d170-4677-eafa-202fc5a27673"
      },
      "execution_count": 37,
      "outputs": [
        {
          "output_type": "stream",
          "name": "stdout",
          "text": [
            "Comparison - greater\n",
            "[False False]\n",
            "Comparison - greater_equal\n",
            "[False  True]\n",
            "Comparison - less\n",
            "[ True False]\n"
          ]
        }
      ]
    },
    {
      "cell_type": "markdown",
      "source": [
        "Write a NumPy program to create an element-wise comparison (equal, equal within a tolerance) of two given arrays."
      ],
      "metadata": {
        "id": "g7Cc1MVrvMZJ"
      }
    },
    {
      "cell_type": "code",
      "source": [
        "a = np.array([1, 2.00001, 3])\n",
        "b = np.array([1, 2.00002, 3.00001])\n",
        "\n",
        "# Element-wise exact comparison\n",
        "print(\"Element-wise exact comparison:\")\n",
        "print(np.equal(a, b))  # Will return False where there's any small difference\n",
        "\n",
        "print(\"\\nElement-wise comparison within tolerance:\")\n",
        "print(np.isclose(a, b, rtol=1e-05, atol=1e-08))  # Returns True if close enough\n"
      ],
      "metadata": {
        "colab": {
          "base_uri": "https://localhost:8080/"
        },
        "id": "1tnUeiskob_B",
        "outputId": "62e334e6-9573-4b2b-d8c2-994a651b1ea4"
      },
      "execution_count": 38,
      "outputs": [
        {
          "output_type": "stream",
          "name": "stdout",
          "text": [
            "Element-wise exact comparison:\n",
            "[ True False False]\n",
            "\n",
            "Element-wise comparison within tolerance:\n",
            "[ True  True  True]\n"
          ]
        }
      ]
    },
    {
      "cell_type": "markdown",
      "source": [
        "Write a NumPy program to create an array with the values 1, 7, 13, 105 and determine the size of the memory occupied by the array."
      ],
      "metadata": {
        "id": "atf262SgvPWQ"
      }
    },
    {
      "cell_type": "code",
      "source": [
        "X = np.array([1, 7, 13, 105])\n",
        "print(\"Size of the memory occupied by the said array:\")\n",
        "print(\"%d bytes\" % (X.size * X.itemsize)) # Memory size = number of elements (X.size) × size of each element in bytes (X.itemsize)"
      ],
      "metadata": {
        "colab": {
          "base_uri": "https://localhost:8080/"
        },
        "id": "-GMgtqITpsol",
        "outputId": "6d2ca8ab-b9ae-42f8-fa1a-eee1bd5ccffe"
      },
      "execution_count": 39,
      "outputs": [
        {
          "output_type": "stream",
          "name": "stdout",
          "text": [
            "Size of the memory occupied by the said array:\n",
            "32 bytes\n"
          ]
        }
      ]
    },
    {
      "cell_type": "markdown",
      "source": [
        "Write a NumPy program to create an array of 10 zeros, 10 ones, and 10 fives"
      ],
      "metadata": {
        "id": "BoZ18cTKvVTj"
      }
    },
    {
      "cell_type": "code",
      "source": [
        "# Create an array of 10 zeros\n",
        "array = np.zeros(10)\n",
        "print(\"An array of 10 zeros:\")\n",
        "print(array)\n",
        "\n",
        "# Create an array of 10 ones\n",
        "array = np.ones(10)\n",
        "print(\"An array of 10 ones:\")\n",
        "print(array)\n",
        "\n",
        "# Create an array of 10 fives by multiplying ones by 5\n",
        "array = np.ones(10) * 5\n",
        "print(\"An array of 10 fives:\")\n",
        "print(array)"
      ],
      "metadata": {
        "colab": {
          "base_uri": "https://localhost:8080/"
        },
        "id": "BbZXDWfHqI3T",
        "outputId": "bb245a72-75fd-432c-fc8d-91256862134c"
      },
      "execution_count": 42,
      "outputs": [
        {
          "output_type": "stream",
          "name": "stdout",
          "text": [
            "An array of 10 zeros:\n",
            "[0. 0. 0. 0. 0. 0. 0. 0. 0. 0.]\n",
            "An array of 10 ones:\n",
            "[1. 1. 1. 1. 1. 1. 1. 1. 1. 1.]\n",
            "An array of 10 fives:\n",
            "[5. 5. 5. 5. 5. 5. 5. 5. 5. 5.]\n"
          ]
        }
      ]
    },
    {
      "cell_type": "markdown",
      "source": [
        "Write a NumPy program to create an array of integers from 30 to 70."
      ],
      "metadata": {
        "id": "7l7NWLY2vZGx"
      }
    },
    {
      "cell_type": "code",
      "source": [
        "# Create an array of integers starting from 30 up to (and including) 70\n",
        "# Note: np.arange(30, 71) generates numbers from 30 to 70 because the stop value (71) is excluded\n",
        "array = np.arange(30, 71)\n",
        "print(\"Array of the integers from 30 to 70\")\n",
        "\n",
        "# Printing the array of integers from 30 to 70\n",
        "print(array)"
      ],
      "metadata": {
        "colab": {
          "base_uri": "https://localhost:8080/"
        },
        "id": "EY_bBoSgqzW_",
        "outputId": "9ce63c77-917e-4838-ea79-347f62256584"
      },
      "execution_count": 44,
      "outputs": [
        {
          "output_type": "stream",
          "name": "stdout",
          "text": [
            "Array of the integers from 30 to 70\n",
            "[30 31 32 33 34 35 36 37 38 39 40 41 42 43 44 45 46 47 48 49 50 51 52 53\n",
            " 54 55 56 57 58 59 60 61 62 63 64 65 66 67 68 69 70]\n"
          ]
        }
      ]
    },
    {
      "cell_type": "markdown",
      "source": [
        "Write a NumPy program to create an array of all even integers from 30 to 70."
      ],
      "metadata": {
        "id": "4nqSZYH5vbmB"
      }
    },
    {
      "cell_type": "code",
      "source": [
        "# Create an array of integers from 30 to 70 with a step of 2(only even numbers)\n",
        "# np.arange(start, stop, step) → generates numbers from start to (stop - 1), increasing by step\n",
        "array = np.arange( 30 , 71 , 2 )\n",
        "print(\"Array of the integers from 30 to 70\")\n",
        "\n",
        "# Printing the array of integers from 30 to 70\n",
        "print(array)"
      ],
      "metadata": {
        "colab": {
          "base_uri": "https://localhost:8080/"
        },
        "id": "5HZTBbqkrg4R",
        "outputId": "c0ec3cee-297b-4659-dc62-ae213037e7b9"
      },
      "execution_count": 46,
      "outputs": [
        {
          "output_type": "stream",
          "name": "stdout",
          "text": [
            "Array of the integers from 30 to 70\n",
            "[30 32 34 36 38 40 42 44 46 48 50 52 54 56 58 60 62 64 66 68 70]\n"
          ]
        }
      ]
    },
    {
      "cell_type": "markdown",
      "source": [
        "Write a NumPy program to create a 3x3 identity matrix."
      ],
      "metadata": {
        "id": "SKdJL14Evee_"
      }
    },
    {
      "cell_type": "code",
      "source": [
        "# Creating a 3x3 identity matrix\n",
        "array_2D = np.identity(3)\n",
        "print('3x3 matrix:')\n",
        "print(array_2D)"
      ],
      "metadata": {
        "colab": {
          "base_uri": "https://localhost:8080/"
        },
        "id": "Rx_u8mr3sFNb",
        "outputId": "eca846e3-8623-463f-cafb-4ca65bfab501"
      },
      "execution_count": 47,
      "outputs": [
        {
          "output_type": "stream",
          "name": "stdout",
          "text": [
            "3x3 matrix:\n",
            "[[1. 0. 0.]\n",
            " [0. 1. 0.]\n",
            " [0. 0. 1.]]\n"
          ]
        }
      ]
    },
    {
      "cell_type": "markdown",
      "source": [
        "Write a NumPy program to generate a random number between 0 and 1."
      ],
      "metadata": {
        "id": "HJDQYQcvvhyn"
      }
    },
    {
      "cell_type": "code",
      "source": [
        "random_number = np.random.rand()# Generate a random float number between 0 and 1\n",
        "print(\"Random number between 0 and 1:\")\n",
        "print(random_number)"
      ],
      "metadata": {
        "colab": {
          "base_uri": "https://localhost:8080/"
        },
        "id": "yfML9jdlsmeB",
        "outputId": "d62a117c-20ea-4b4b-8769-33a7deca7139"
      },
      "execution_count": 48,
      "outputs": [
        {
          "output_type": "stream",
          "name": "stdout",
          "text": [
            "Random number between 0 and 1:\n",
            "0.5812421859818095\n"
          ]
        }
      ]
    },
    {
      "cell_type": "markdown",
      "source": [
        "Write a NumPy program to generate an array of 15 random numbers from a standard normal distribution."
      ],
      "metadata": {
        "id": "LPtfiml2vlnj"
      }
    },
    {
      "cell_type": "code",
      "source": [
        "# Generate an array of 15 random numbers from a standard normal distribution\n",
        "random_array = np.random.randn(15)\n",
        "print(\"Array of 15 random numbers from a standard normal distribution:\")\n",
        "print(random_array)\n"
      ],
      "metadata": {
        "colab": {
          "base_uri": "https://localhost:8080/"
        },
        "id": "28vO7FcHs99c",
        "outputId": "beb3a41f-58c1-4bec-a8e4-879b73a94e0c"
      },
      "execution_count": 49,
      "outputs": [
        {
          "output_type": "stream",
          "name": "stdout",
          "text": [
            "Array of 15 random numbers from a standard normal distribution:\n",
            "[-2.20588463 -1.49262753  1.45567271  1.02658288 -0.30958696  0.87109281\n",
            " -0.77394676  0.12621164 -0.4172879  -0.26003318  1.22189001 -0.1533731\n",
            " -0.10169152  1.22345331  0.76143348]\n"
          ]
        }
      ]
    },
    {
      "cell_type": "markdown",
      "source": [
        "Write a NumPy program to create a vector with values ​​ranging from 15 to 55 and print all values ​​except the first and last"
      ],
      "metadata": {
        "id": "LYSDpNn2t4TC"
      }
    },
    {
      "cell_type": "code",
      "source": [
        "x = np.arange(15, 55)\n",
        "# Printing a message indicating all values  except the first and last elements using slicing [1:-1]\n",
        "print(\"All values except the first and last of the said vector:\")\n",
        "print(x[1:-1])"
      ],
      "metadata": {
        "colab": {
          "base_uri": "https://localhost:8080/"
        },
        "id": "stdpk2yqtU54",
        "outputId": "73c4b1e6-a635-40f7-be5e-c7c820965a72"
      },
      "execution_count": 50,
      "outputs": [
        {
          "output_type": "stream",
          "name": "stdout",
          "text": [
            "All values except the first and last of the said vector:\n",
            "[16 17 18 19 20 21 22 23 24 25 26 27 28 29 30 31 32 33 34 35 36 37 38 39\n",
            " 40 41 42 43 44 45 46 47 48 49 50 51 52 53]\n"
          ]
        }
      ]
    },
    {
      "cell_type": "markdown",
      "source": [
        "Write a NumPy program to create a 3X4 array and iterate over it."
      ],
      "metadata": {
        "id": "bTH_HzVWvnfZ"
      }
    },
    {
      "cell_type": "code",
      "source": [
        "a = np.arange(10, 22).reshape((3, 4))\n",
        "print(\"Original array:\")\n",
        "print(a)\n",
        "\n",
        "# Printing a message indicating each element of the array using np.nditer() to iterate through the elements\n",
        "print(\"Each element of the array is:\")\n",
        "for x in np.nditer(a):\n",
        "    print(x, end=\" \")"
      ],
      "metadata": {
        "colab": {
          "base_uri": "https://localhost:8080/"
        },
        "id": "NUsdzpkjtzPw",
        "outputId": "cf110866-b463-47b1-d5ab-08c34302ee1a"
      },
      "execution_count": 51,
      "outputs": [
        {
          "output_type": "stream",
          "name": "stdout",
          "text": [
            "Original array:\n",
            "[[10 11 12 13]\n",
            " [14 15 16 17]\n",
            " [18 19 20 21]]\n",
            "Each element of the array is:\n",
            "10 11 12 13 14 15 16 17 18 19 20 21 "
          ]
        }
      ]
    },
    {
      "cell_type": "markdown",
      "source": [
        "Write a NumPy program to create a vector of length 10 with values ​​evenly distributed between 5 and 50."
      ],
      "metadata": {
        "id": "seebKoxjwa0-"
      }
    },
    {
      "cell_type": "code",
      "source": [
        "# Creating an array 'v' with length 5, evenly distributed values between 10 and 49 using np.linspace()\n",
        "v = np.linspace(10, 49, 5)\n",
        "\n",
        "print(\"Length 10 with values evenly distributed between 5 and 50:\")\n",
        "print(v)"
      ],
      "metadata": {
        "colab": {
          "base_uri": "https://localhost:8080/"
        },
        "id": "msSwSRglv7o-",
        "outputId": "ae18e12e-daed-4568-e6bf-144ca10b0b11"
      },
      "execution_count": 52,
      "outputs": [
        {
          "output_type": "stream",
          "name": "stdout",
          "text": [
            "Length 10 with values evenly distributed between 5 and 50:\n",
            "[10.   19.75 29.5  39.25 49.  ]\n"
          ]
        }
      ]
    },
    {
      "cell_type": "markdown",
      "source": [
        "Write a NumPy program to create a vector with values from 0 to 20 and change the sign of the numbers in the range from 9 to 15."
      ],
      "metadata": {
        "id": "-ltk3Q46wpz1"
      }
    },
    {
      "cell_type": "code",
      "source": [
        "# Create a vector with values from 0 to 20\n",
        "vector = np.arange(21)\n",
        "\n",
        "print(\"Original vector:\")\n",
        "print(vector)\n",
        "\n",
        "# Change the sign of elements between 9 and 15 (inclusive)\n",
        "vector[(vector >= 9) & (vector <= 15)] *= -1\n",
        "\n",
        "print(\"\\nVector after changing the sign of numbers from 9 to 15:\")\n",
        "print(vector)"
      ],
      "metadata": {
        "colab": {
          "base_uri": "https://localhost:8080/"
        },
        "id": "DYkxiSBawtif",
        "outputId": "1211f247-2211-4563-a66f-c6a3c2385033"
      },
      "execution_count": 53,
      "outputs": [
        {
          "output_type": "stream",
          "name": "stdout",
          "text": [
            "Original vector:\n",
            "[ 0  1  2  3  4  5  6  7  8  9 10 11 12 13 14 15 16 17 18 19 20]\n",
            "\n",
            "Vector after changing the sign of numbers from 9 to 15:\n",
            "[  0   1   2   3   4   5   6   7   8  -9 -10 -11 -12 -13 -14 -15  16  17\n",
            "  18  19  20]\n"
          ]
        }
      ]
    },
    {
      "cell_type": "markdown",
      "source": [
        "Write a NumPy program to create a vector of length 5 filled with arbitrary integers from 0 to 10."
      ],
      "metadata": {
        "id": "X0S8ZYm8xb_-"
      }
    },
    {
      "cell_type": "code",
      "source": [
        "# Create a vector of length 5 with random integers from 0 to 10\n",
        "vector = np.random.randint(0, 11, size=5)\n",
        "\n",
        "print(\"Vector of 5 random integers from 0 to 10:\")\n",
        "print(vector)"
      ],
      "metadata": {
        "colab": {
          "base_uri": "https://localhost:8080/"
        },
        "id": "qm_M9KdBw8uR",
        "outputId": "14e3a5a3-f5a5-4ddb-d6f3-d28791d61289"
      },
      "execution_count": 54,
      "outputs": [
        {
          "output_type": "stream",
          "name": "stdout",
          "text": [
            "Vector of 5 random integers from 0 to 10:\n",
            "[3 1 9 6 5]\n"
          ]
        }
      ]
    },
    {
      "cell_type": "markdown",
      "source": [
        "Write a NumPy program to create a 3x4 matrix filled with values from 10 to 21.\n"
      ],
      "metadata": {
        "id": "5-aguAXdxlVc"
      }
    },
    {
      "cell_type": "code",
      "source": [
        "array = np.arange(10, 22)\n",
        "\n",
        "# Reshape it into a 3x4 matrix\n",
        "matrix = array.reshape(3, 4)\n",
        "\n",
        "print(\"3x4 matrix with values from 10 to 21:\")\n",
        "print(matrix)"
      ],
      "metadata": {
        "colab": {
          "base_uri": "https://localhost:8080/"
        },
        "id": "MF9fj7tLxYpd",
        "outputId": "bcc423d3-14d8-45d5-af03-29cf1aafa08d"
      },
      "execution_count": 55,
      "outputs": [
        {
          "output_type": "stream",
          "name": "stdout",
          "text": [
            "3x4 matrix with values from 10 to 21:\n",
            "[[10 11 12 13]\n",
            " [14 15 16 17]\n",
            " [18 19 20 21]]\n"
          ]
        }
      ]
    },
    {
      "cell_type": "markdown",
      "source": [
        "Write a NumPy program to find the number of rows and columns in a given matrix."
      ],
      "metadata": {
        "id": "xGnapsq9FAMd"
      }
    },
    {
      "cell_type": "code",
      "source": [
        "matrix = np.array([\n",
        "    [1, 2, 3],\n",
        "    [4, 5, 6],\n",
        "    [7, 8, 9],\n",
        "    [10, 11, 12]\n",
        "])\n",
        "\n",
        "# Get the shape of the matrix\n",
        "rows, columns = matrix.shape\n",
        "\n",
        "print(\"Number of rows:\", rows)\n",
        "print(\"Number of columns:\", columns)"
      ],
      "metadata": {
        "colab": {
          "base_uri": "https://localhost:8080/"
        },
        "id": "zmOlGWQnxxkJ",
        "outputId": "56e86a12-f477-4a0f-c4d7-140c8c75a939"
      },
      "execution_count": 56,
      "outputs": [
        {
          "output_type": "stream",
          "name": "stdout",
          "text": [
            "Number of rows: 4\n",
            "Number of columns: 3\n"
          ]
        }
      ]
    },
    {
      "cell_type": "markdown",
      "source": [
        "Write a NumPy program to create a 10x10 matrix, in which the elements on the borders will be equal to 1, and inside 0."
      ],
      "metadata": {
        "id": "NGEi6JJ9FhnS"
      }
    },
    {
      "cell_type": "code",
      "source": [
        "matrix = np.zeros((10, 10), dtype=int)\n",
        "\n",
        "# Set the border elements to 1\n",
        "matrix[0, :] = 1         # Top row\n",
        "matrix[-1, :] = 1        # Bottom row\n",
        "matrix[:, 0] = 1         # Left column\n",
        "matrix[:, -1] = 1        # Right column\n",
        "\n",
        "print(\"10x10 matrix with 1s on the border and 0s inside:\")\n",
        "print(matrix)"
      ],
      "metadata": {
        "colab": {
          "base_uri": "https://localhost:8080/"
        },
        "id": "USIgWVUxFgbU",
        "outputId": "57e7e3f3-621f-4bc9-b6a3-ff750af799f6"
      },
      "execution_count": 58,
      "outputs": [
        {
          "output_type": "stream",
          "name": "stdout",
          "text": [
            "10x10 matrix with 1s on the border and 0s inside:\n",
            "[[1 1 1 1 1 1 1 1 1 1]\n",
            " [1 0 0 0 0 0 0 0 0 1]\n",
            " [1 0 0 0 0 0 0 0 0 1]\n",
            " [1 0 0 0 0 0 0 0 0 1]\n",
            " [1 0 0 0 0 0 0 0 0 1]\n",
            " [1 0 0 0 0 0 0 0 0 1]\n",
            " [1 0 0 0 0 0 0 0 0 1]\n",
            " [1 0 0 0 0 0 0 0 0 1]\n",
            " [1 0 0 0 0 0 0 0 0 1]\n",
            " [1 1 1 1 1 1 1 1 1 1]]\n"
          ]
        }
      ]
    },
    {
      "cell_type": "markdown",
      "source": [
        "Sure! Here's a NumPy program that creates a 5×5 zero matrix and sets the main diagonal elements to 1, 2, 3, 4, 5:"
      ],
      "metadata": {
        "id": "MRdoPIT5FqZf"
      }
    },
    {
      "cell_type": "code",
      "source": [
        "matrix = np.zeros((5, 5), dtype=int)\n",
        "\n",
        "# Set the main diagonal\n",
        "np.fill_diagonal(matrix, [1, 2, 3, 4, 5])\n",
        "\n",
        "print(\"5x5 matrix with diagonal [1, 2, 3, 4, 5]:\")\n",
        "print(matrix)"
      ],
      "metadata": {
        "colab": {
          "base_uri": "https://localhost:8080/"
        },
        "id": "-UZ1r8iGFoW3",
        "outputId": "614ea6cc-4348-4f6c-8b16-841fe642da31"
      },
      "execution_count": 59,
      "outputs": [
        {
          "output_type": "stream",
          "name": "stdout",
          "text": [
            "5x5 matrix with diagonal [1, 2, 3, 4, 5]:\n",
            "[[1 0 0 0 0]\n",
            " [0 2 0 0 0]\n",
            " [0 0 3 0 0]\n",
            " [0 0 0 4 0]\n",
            " [0 0 0 0 5]]\n"
          ]
        }
      ]
    },
    {
      "cell_type": "markdown",
      "source": [
        "Write a NumPy program to create a 4x4 matrix in which 0 and 1 are staggered, with zeros on the main diagonal."
      ],
      "metadata": {
        "id": "EimskbxYF6GN"
      }
    },
    {
      "cell_type": "code",
      "source": [
        "matrix = np.fromfunction(lambda i, j: (i + j) % 2, (4, 4), dtype=int)\n",
        "\n",
        "# Set the main diagonal to 0\n",
        "np.fill_diagonal(matrix, 0)\n",
        "\n",
        "print(\"4x4 staggered matrix with 0s on the main diagonal:\")\n",
        "print(matrix)"
      ],
      "metadata": {
        "colab": {
          "base_uri": "https://localhost:8080/"
        },
        "id": "xEOuejB-F5LR",
        "outputId": "9344df2a-4e8a-4dbb-a790-e1c15c646e5f"
      },
      "execution_count": 60,
      "outputs": [
        {
          "output_type": "stream",
          "name": "stdout",
          "text": [
            "4x4 staggered matrix with 0s on the main diagonal:\n",
            "[[0 1 0 1]\n",
            " [1 0 1 0]\n",
            " [0 1 0 1]\n",
            " [1 0 1 0]]\n"
          ]
        }
      ]
    },
    {
      "cell_type": "markdown",
      "source": [
        "Write a NumPy program to create a 3x3x3 array filled with arbitrary values."
      ],
      "metadata": {
        "id": "Xt3vU6VyGGZF"
      }
    },
    {
      "cell_type": "code",
      "source": [
        "array = np.random.rand(3, 3, 3)\n",
        "\n",
        "print(\"3x3x3 array with arbitrary values:\")\n",
        "print(array)\n"
      ],
      "metadata": {
        "colab": {
          "base_uri": "https://localhost:8080/"
        },
        "id": "OBCxb6-KGCUH",
        "outputId": "c2e8be10-542b-4e2d-d1bf-755eaaddfac9"
      },
      "execution_count": 61,
      "outputs": [
        {
          "output_type": "stream",
          "name": "stdout",
          "text": [
            "3x3x3 array with arbitrary values:\n",
            "[[[0.01892173 0.62257762 0.27342594]\n",
            "  [0.29961214 0.24020565 0.47034099]\n",
            "  [0.43615222 0.28028567 0.00439689]]\n",
            "\n",
            " [[0.06196146 0.54943822 0.754005  ]\n",
            "  [0.1804785  0.05791075 0.76281596]\n",
            "  [0.98200325 0.21070941 0.6974644 ]]\n",
            "\n",
            " [[0.7763909  0.6878023  0.90149225]\n",
            "  [0.661863   0.38939415 0.68922065]\n",
            "  [0.85726698 0.06340094 0.72964567]]]\n"
          ]
        }
      ]
    },
    {
      "cell_type": "markdown",
      "source": [
        "Write a NumPy program to compute the sum of all elements, the sum of each column and the sum of each row in a given array."
      ],
      "metadata": {
        "id": "7GxaKI66GXjL"
      }
    },
    {
      "cell_type": "code",
      "source": [
        "array = np.array([\n",
        "    [1, 2, 3],\n",
        "    [4, 5, 6],\n",
        "    [7, 8, 9]\n",
        "])\n",
        "\n",
        "# Sum of all elements\n",
        "total_sum = np.sum(array)\n",
        "\n",
        "# Sum of each column (axis=0)\n",
        "column_sum = np.sum(array, axis=0)\n",
        "\n",
        "# Sum of each row (axis=1)\n",
        "row_sum = np.sum(array, axis=1)\n",
        "\n",
        "\n",
        "print(\"Original Array:\")\n",
        "print(array)\n",
        "\n",
        "print(\"\\nSum of all elements:\", total_sum)\n",
        "print(\"Sum of each column:\", column_sum)\n",
        "print(\"Sum of each row:\", row_sum)"
      ],
      "metadata": {
        "colab": {
          "base_uri": "https://localhost:8080/"
        },
        "id": "Jerx9rGWGQmz",
        "outputId": "faf2b81a-e05c-40fb-d344-f2870ba11738"
      },
      "execution_count": 62,
      "outputs": [
        {
          "output_type": "stream",
          "name": "stdout",
          "text": [
            "Original Array:\n",
            "[[1 2 3]\n",
            " [4 5 6]\n",
            " [7 8 9]]\n",
            "\n",
            "Sum of all elements: 45\n",
            "Sum of each column: [12 15 18]\n",
            "Sum of each row: [ 6 15 24]\n"
          ]
        }
      ]
    },
    {
      "cell_type": "markdown",
      "source": [
        "Write a NumPy program to compute the inner product of two given vectors"
      ],
      "metadata": {
        "id": "_JAYQLveGhZK"
      }
    },
    {
      "cell_type": "code",
      "source": [
        "vector1 = np.array([1, 2, 3])\n",
        "vector2 = np.array([4, 5, 6])\n",
        "\n",
        "# Compute the inner (dot) product\n",
        "inner_product = np.dot(vector1, vector2)\n",
        "\n",
        "\n",
        "print(\"Vector 1:\", vector1)\n",
        "print(\"Vector 2:\", vector2)\n",
        "print(\"Inner product of the two vectors:\", inner_product)"
      ],
      "metadata": {
        "colab": {
          "base_uri": "https://localhost:8080/"
        },
        "id": "T3fnoGTjGf5P",
        "outputId": "54bb9291-a379-4720-b2ec-1671866a5edc"
      },
      "execution_count": 63,
      "outputs": [
        {
          "output_type": "stream",
          "name": "stdout",
          "text": [
            "Vector 1: [1 2 3]\n",
            "Vector 2: [4 5 6]\n",
            "Inner product of the two vectors: 32\n"
          ]
        }
      ]
    },
    {
      "cell_type": "markdown",
      "source": [
        "Write a NumPy program to add a vector to each row of a given matrix."
      ],
      "metadata": {
        "id": "W08_yB3HGs_v"
      }
    },
    {
      "cell_type": "code",
      "source": [
        "matrix = np.array([\n",
        "    [1, 2, 3],\n",
        "    [4, 5, 6],\n",
        "    [7, 8, 9]\n",
        "])\n",
        "\n",
        "# Define a vector to add to each row\n",
        "vector = np.array([10, 20, 30])\n",
        "\n",
        "# Add the vector to each row of the matrix\n",
        "result = matrix + vector\n",
        "\n",
        "\n",
        "print(\"Original matrix:\")\n",
        "print(matrix)\n",
        "\n",
        "print(\"\\nVector to add:\")\n",
        "print(vector)\n",
        "\n",
        "print(\"\\nResult after adding the vector to each row:\")\n",
        "print(result)"
      ],
      "metadata": {
        "colab": {
          "base_uri": "https://localhost:8080/"
        },
        "id": "lMMvY_NaGr0r",
        "outputId": "73527eec-43cc-4400-cdb8-81c72389d1e1"
      },
      "execution_count": 64,
      "outputs": [
        {
          "output_type": "stream",
          "name": "stdout",
          "text": [
            "Original matrix:\n",
            "[[1 2 3]\n",
            " [4 5 6]\n",
            " [7 8 9]]\n",
            "\n",
            "Vector to add:\n",
            "[10 20 30]\n",
            "\n",
            "Result after adding the vector to each row:\n",
            "[[11 22 33]\n",
            " [14 25 36]\n",
            " [17 28 39]]\n"
          ]
        }
      ]
    },
    {
      "cell_type": "markdown",
      "source": [
        "Write a NumPy program to save a given array to a binary file ."
      ],
      "metadata": {
        "id": "A6Ql8gybHCVg"
      }
    },
    {
      "cell_type": "code",
      "source": [
        "array = np.array([1, 2, 3, 4, 5])\n",
        "\n",
        "# Save the array to a binary file with .npy extension\n",
        "np.save('my_array.npy', array)\n",
        "\n",
        "print(\"Array saved to 'my_array.npy' successfully.\")"
      ],
      "metadata": {
        "colab": {
          "base_uri": "https://localhost:8080/"
        },
        "id": "q__xJq3UG92v",
        "outputId": "421a2272-59dd-47c4-c40e-052d45a2de20"
      },
      "execution_count": 67,
      "outputs": [
        {
          "output_type": "stream",
          "name": "stdout",
          "text": [
            "Array saved to 'my_array.npy' successfully.\n"
          ]
        }
      ]
    },
    {
      "cell_type": "markdown",
      "source": [
        "Write a NumPy program to save a given array to a binary file."
      ],
      "metadata": {
        "id": "rXN_zyasHMb3"
      }
    },
    {
      "cell_type": "code",
      "source": [
        "array = np.array([10, 20, 30, 40, 50])\n",
        "\n",
        "# Save the array to a binary .npy file\n",
        "np.save('saved_array.npy', array)\n",
        "\n",
        "print(\"Array saved to 'saved_array.npy' successfully.\")\n"
      ],
      "metadata": {
        "colab": {
          "base_uri": "https://localhost:8080/"
        },
        "id": "D3NGdBhxHGX5",
        "outputId": "9a43ccfa-370a-4640-c0d7-12202e49b08f"
      },
      "execution_count": 69,
      "outputs": [
        {
          "output_type": "stream",
          "name": "stdout",
          "text": [
            "Array saved to 'saved_array.npy' successfully.\n"
          ]
        }
      ]
    },
    {
      "cell_type": "markdown",
      "source": [
        "Write a NumPy program to save a given array to a text file and load it."
      ],
      "metadata": {
        "id": "vWD4X5kIHUp2"
      }
    },
    {
      "cell_type": "code",
      "source": [
        "array = np.array([1.5, 2.5, 3.5, 4.5, 5.5])\n",
        "\n",
        "# Save the array to a text file\n",
        "np.savetxt('array.txt', array)\n",
        "\n",
        "print(\"Array saved to 'array.txt' successfully.\")\n",
        "\n",
        "# Load the array back from the text file\n",
        "loaded_array = np.loadtxt('array.txt')\n",
        "\n",
        "print(\"Array loaded from 'array.txt':\")\n",
        "print(loaded_array)"
      ],
      "metadata": {
        "colab": {
          "base_uri": "https://localhost:8080/"
        },
        "id": "k8DCAstPHUSD",
        "outputId": "18cfb5de-608f-4354-957e-b9e2ee806068"
      },
      "execution_count": 70,
      "outputs": [
        {
          "output_type": "stream",
          "name": "stdout",
          "text": [
            "Array saved to 'array.txt' successfully.\n",
            "Array loaded from 'array.txt':\n",
            "[1.5 2.5 3.5 4.5 5.5]\n"
          ]
        }
      ]
    },
    {
      "cell_type": "markdown",
      "source": [
        "Write a NumPy program to convert a given array into bytes, and load it as an array.\n",
        "\n"
      ],
      "metadata": {
        "id": "USX930-1Hg1a"
      }
    },
    {
      "cell_type": "code",
      "source": [
        "original_array = np.array([10, 20, 30, 40, 50], dtype=np.int32)\n",
        "\n",
        "# Convert the array to bytes\n",
        "array_bytes = original_array.tobytes()\n",
        "\n",
        "print(\"Array converted to bytes:\")\n",
        "print(array_bytes)\n",
        "\n",
        "# Load the array back from bytes\n",
        "restored_array = np.frombuffer(array_bytes, dtype=np.int32)\n",
        "\n",
        "print(\"\\nArray restored from bytes:\")\n",
        "print(restored_array)"
      ],
      "metadata": {
        "colab": {
          "base_uri": "https://localhost:8080/"
        },
        "id": "FNq_Gff7Hf2N",
        "outputId": "219430d2-d3ec-415b-ee25-be24896bbb8f"
      },
      "execution_count": 71,
      "outputs": [
        {
          "output_type": "stream",
          "name": "stdout",
          "text": [
            "Array converted to bytes:\n",
            "b'\\n\\x00\\x00\\x00\\x14\\x00\\x00\\x00\\x1e\\x00\\x00\\x00(\\x00\\x00\\x002\\x00\\x00\\x00'\n",
            "\n",
            "Array restored from bytes:\n",
            "[10 20 30 40 50]\n"
          ]
        }
      ]
    },
    {
      "cell_type": "markdown",
      "source": [
        "Write a NumPy program to convert a given list into an array, then again convert it into a list. Check initial list and final list are equal or not."
      ],
      "metadata": {
        "id": "CVDgO3vHHydY"
      }
    },
    {
      "cell_type": "code",
      "source": [
        "\n",
        "original_list = [1, 2, 3, 4, 5]\n",
        "# Convert list to NumPy array\n",
        "array = np.array(original_list)\n",
        "\n",
        "# Convert array back to list\n",
        "final_list = array.tolist()\n",
        "\n",
        "# Check if both lists are equal\n",
        "are_equal = original_list == final_list\n",
        "\n",
        "\n",
        "print(\"Original list:\", original_list)\n",
        "print(\"Final list after conversions:\", final_list)\n",
        "print(\"Are both lists equal?\", are_equal)"
      ],
      "metadata": {
        "colab": {
          "base_uri": "https://localhost:8080/"
        },
        "id": "Kzfh6G1VHqo_",
        "outputId": "700ca677-ce4d-4549-c063-e0ea895163f2"
      },
      "execution_count": 72,
      "outputs": [
        {
          "output_type": "stream",
          "name": "stdout",
          "text": [
            "Original list: [1, 2, 3, 4, 5]\n",
            "Final list after conversions: [1, 2, 3, 4, 5]\n",
            "Are both lists equal? True\n"
          ]
        }
      ]
    },
    {
      "cell_type": "code",
      "source": [],
      "metadata": {
        "id": "N2LIrrPKH8uL"
      },
      "execution_count": null,
      "outputs": []
    }
  ]
}
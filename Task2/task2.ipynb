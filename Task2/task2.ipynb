{
  "nbformat": 4,
  "nbformat_minor": 0,
  "metadata": {
    "colab": {
      "provenance": []
    },
    "kernelspec": {
      "name": "python3",
      "display_name": "Python 3"
    },
    "language_info": {
      "name": "python"
    }
  },
  "cells": [
    {
      "cell_type": "markdown",
      "source": [
        "\n",
        "# **WAP to enter a number from user and print its absolute value.**"
      ],
      "metadata": {
        "id": "MnWAiH2o0zSa"
      }
    },
    {
      "cell_type": "code",
      "source": [
        "x=int(input(\"enter a number\"))\n",
        "if x<0:\n",
        "  print(-x)\n",
        "else:\n",
        "  print(x)"
      ],
      "metadata": {
        "id": "l3oLMLbk02Pj",
        "colab": {
          "base_uri": "https://localhost:8080/"
        },
        "outputId": "f6283aaf-7bec-43d4-e09f-5e360137088a"
      },
      "execution_count": null,
      "outputs": [
        {
          "output_type": "stream",
          "name": "stdout",
          "text": [
            "enter a number-1\n",
            "1\n"
          ]
        }
      ]
    },
    {
      "cell_type": "markdown",
      "source": [
        "# **WAP to enter a year from user and check if it is leap year or not.**"
      ],
      "metadata": {
        "id": "pOnjNwNx03Tr"
      }
    },
    {
      "cell_type": "code",
      "source": [
        "year=int(input(\"enter the year \"))\n",
        "if year % 400 == 0:\n",
        "  print(year ,\"is leap Leap\")\n",
        "else:\n",
        "  if year % 4 == 0 and year % 100 != 0:\n",
        "    print(year ,\"is leap Leap\")\n",
        "  else:\n",
        "    print(year , \"is Not Leap\")\n"
      ],
      "metadata": {
        "id": "4PEtUTm51H6x",
        "colab": {
          "base_uri": "https://localhost:8080/"
        },
        "outputId": "aefa422d-bacc-4886-94ec-c711e5d788d2"
      },
      "execution_count": 3,
      "outputs": [
        {
          "output_type": "stream",
          "name": "stdout",
          "text": [
            "enter the year 2024\n",
            "2024 is leap Leap\n"
          ]
        }
      ]
    },
    {
      "cell_type": "markdown",
      "source": [
        "# **WAP to enter the age of 3 person and print oldest and yougest among them.**"
      ],
      "metadata": {
        "id": "sn-NADUn1VGn"
      }
    },
    {
      "cell_type": "code",
      "source": [
        "first=int(input(\"enter first age  \"))\n",
        "second=int(input(\"enter second age  \"))\n",
        "third=int(input(\"enter third age  \"))\n",
        "if first>second and first>third:\n",
        "  print(\"first is oldest\",\"(\",first,\")\")\n",
        "elif second>first and second>third:\n",
        "  print(\"second is oldest\",\"(\",second,\")\")\n",
        "else:\n",
        "  print(\"third is oldest\",\"(\",third,\")\")\n",
        "if first<second and first<third:\n",
        "    print(\"first is youngest\",\"(\",first,\")\")\n",
        "elif second<first and second<third:\n",
        "    print(\"second is youngest\",\"(\",second,\")\")\n",
        "else:\n",
        "    print(\"third is youngest\",\"(\",third,\")\")"
      ],
      "metadata": {
        "id": "uNGWS1AT1cYP",
        "colab": {
          "base_uri": "https://localhost:8080/"
        },
        "outputId": "ccb0bfbb-76ea-4a80-bee1-1be160c7a9a3"
      },
      "execution_count": 15,
      "outputs": [
        {
          "output_type": "stream",
          "name": "stdout",
          "text": [
            "enter first age  23\n",
            "enter second age  34\n",
            "enter third age  33\n",
            "second is oldest ( 34 )\n",
            "first is youngest ( 23 )\n"
          ]
        }
      ]
    },
    {
      "cell_type": "markdown",
      "source": [
        "# **Write a program that asks the user to enter a series of numbers. The program should ask for numbers until the user enters a negative number Once the user enters a negative number, the program should stop and print.\n",
        "\n",
        "---\n",
        "\n",
        "\n",
        "# **Example**\n",
        "# **Enter a number: 5**\n",
        "# **Enter a number: 8**\n",
        "# **Enter a number: 12**\n",
        "# **Enter a number: -2**\n",
        "# **The sum of the positive numbers is 25.**"
      ],
      "metadata": {
        "id": "XFRRNGVj1dEw"
      }
    },
    {
      "cell_type": "code",
      "source": [
        "sum=0\n",
        "x=1\n",
        "while x > 0:\n",
        "    x=int(input(\"enter a number \"))\n",
        "    if x>0:\n",
        "        sum=sum+x\n",
        "    else:\n",
        "       print(\"The sum of the positive numbers is\",sum)\n",
        "       break"
      ],
      "metadata": {
        "id": "ijp9SzHu2A3p",
        "colab": {
          "base_uri": "https://localhost:8080/"
        },
        "outputId": "5f34bfe4-5585-41da-ddd2-e78920b8eacd"
      },
      "execution_count": 21,
      "outputs": [
        {
          "output_type": "stream",
          "name": "stdout",
          "text": [
            "enter a number 43\n",
            "enter a number 21\n",
            "enter a number 4\n",
            "enter a number 6\n",
            "enter a number -1\n",
            "The sum of the positive numbers is 74\n"
          ]
        }
      ]
    },
    {
      "cell_type": "markdown",
      "source": [
        "# **Write a program that asks the user to enter their name and age. The program should check if the user's age is greater than or equal to 18. If it is, the program should print a message saying they are eligible to vote. Otherwise, the program should print a message saying they are not eligible to vote due to being underage.**"
      ],
      "metadata": {
        "id": "oODCHUj62DxA"
      }
    },
    {
      "cell_type": "code",
      "source": [
        "name=str(input(\"enter your name \"))\n",
        "age=int(input(\"enter your age \"))\n",
        "if age >=18:\n",
        "  print(\"you are eligible to vote\")\n",
        "else:\n",
        "  print(\"you are not eligible to vote due to being underage\")\n"
      ],
      "metadata": {
        "id": "Svls1cLA2JVA",
        "colab": {
          "base_uri": "https://localhost:8080/"
        },
        "outputId": "e1a541a0-d4ae-491d-bd36-cc8070cf226b"
      },
      "execution_count": 4,
      "outputs": [
        {
          "output_type": "stream",
          "name": "stdout",
          "text": [
            "enter your name taha\n",
            "enter your age 22\n",
            "you are eligible to vote\n"
          ]
        }
      ]
    },
    {
      "cell_type": "markdown",
      "source": [
        "# **Write a Python Program to Find the Factorial of a Number**"
      ],
      "metadata": {
        "id": "2y5o5SqL3nvL"
      }
    },
    {
      "cell_type": "code",
      "source": [
        "x=int(input(\"enter a number \"))\n",
        "fact=1\n",
        "i=1\n",
        "while i<=x:\n",
        "  fact=fact*i\n",
        "  i=i+1\n",
        "print(\"factorial of\",x,\"is\",fact)"
      ],
      "metadata": {
        "id": "Q_v3ns1D3tgy",
        "colab": {
          "base_uri": "https://localhost:8080/"
        },
        "outputId": "3bdd4121-7c7d-4ef3-ad8b-da3a777854c5"
      },
      "execution_count": 8,
      "outputs": [
        {
          "output_type": "stream",
          "name": "stdout",
          "text": [
            "enter a number 7\n",
            "factorial of 7 is 5040\n"
          ]
        }
      ]
    }
  ]
}
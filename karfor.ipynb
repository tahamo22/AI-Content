{
 "cells": [
  {
   "cell_type": "code",
   "execution_count": 2,
   "id": "a76becc6-435f-4b0e-ab85-1aee06fe4346",
   "metadata": {},
   "outputs": [
    {
     "name": "stdout",
     "output_type": "stream",
     "text": [
      "\n",
      "     active environment : scraping\n",
      "    active env location : C:\\Users\\taha mohamed\\.anaconda\\conda\\envs\\scraping\n",
      "            shell level : 1\n",
      "       user config file : C:\\Users\\taha mohamed\\.condarc\n",
      " populated config files : C:\\Users\\taha mohamed\\.anaconda\\conda\\.condarc\n",
      "                          C:\\Users\\taha mohamed\\.condarc\n",
      "          conda version : 24.9.2\n",
      "    conda-build version : 24.9.0\n",
      "         python version : 3.12.7.final.0\n",
      "                 solver : libmamba (default)\n",
      "       virtual packages : __archspec=1=skylake\n",
      "                          __conda=24.9.2=0\n",
      "                          __cuda=11.1=0\n",
      "                          __win=0=0\n",
      "       base environment : C:\\Users\\taha mohamed\\.anaconda\\conda  (writable)\n",
      "      conda av data dir : C:\\Users\\taha mohamed\\.anaconda\\conda\\etc\\conda\n",
      "  conda av metadata url : None\n",
      "           channel URLs : https://repo.anaconda.com/pkgs/main/win-64\n",
      "                          https://repo.anaconda.com/pkgs/main/noarch\n",
      "                          https://repo.anaconda.com/pkgs/r/win-64\n",
      "                          https://repo.anaconda.com/pkgs/r/noarch\n",
      "                          https://repo.anaconda.com/pkgs/msys2/win-64\n",
      "                          https://repo.anaconda.com/pkgs/msys2/noarch\n",
      "          package cache : C:\\Users\\taha mohamed\\.anaconda\\conda\\pkgs\n",
      "       envs directories : C:\\Users\\taha mohamed\\.anaconda\\conda\n",
      "                          C:\\Users\\taha mohamed\\.anaconda\\conda\\envs\n",
      "                          C:\\Users\\taha mohamed\\.conda\\envs\n",
      "                          C:\\Users\\taha mohamed\\AppData\\Local\\conda\\conda\\envs\n",
      "               platform : win-64\n",
      "             user-agent : conda/24.9.2 requests/2.32.3 CPython/3.12.7 Windows/11 Windows/10.0.26100 solver/libmamba conda-libmamba-solver/24.9.0 libmambapy/1.5.8 aau/0.4.4 c/. s/. e/.\n",
      "          administrator : False\n",
      "             netrc file : None\n",
      "           offline mode : False\n",
      "\n",
      "\n"
     ]
    }
   ],
   "source": [
    "!conda info"
   ]
  },
  {
   "cell_type": "code",
   "execution_count": 1,
   "id": "1b7496cc-60a3-494a-ac66-5d29cb2d3df3",
   "metadata": {},
   "outputs": [],
   "source": [
    "import requests\n"
   ]
  },
  {
   "cell_type": "code",
   "execution_count": 2,
   "id": "3e0d00f1-0eb3-41a4-863b-e9f295e7ac0e",
   "metadata": {},
   "outputs": [],
   "source": [
    "url = \"https://www.carrefouregypt.com/mafegy/ar/fresh-food/n/c/clp_FEGY1600000\""
   ]
  },
  {
   "cell_type": "code",
   "execution_count": 52,
   "id": "767159af-8591-430d-8116-271d5260f957",
   "metadata": {},
   "outputs": [
    {
     "name": "stdout",
     "output_type": "stream",
     "text": [
      "فاكهه و خضار و أعشاب اون لاين بافضل سعر | كارفور مصر\n"
     ]
    }
   ],
   "source": [
    "from selenium import webdriver\n",
    "from selenium.webdriver.edge.service import Service\n",
    "from selenium.webdriver.edge.options import Options\n",
    "from bs4 import BeautifulSoup\n",
    "import time\n",
    "\n",
    "# اختياري: لتخطي التحذيرات أو فتح بدون واجهة رسومية\n",
    "options = Options()\n",
    "options.add_argument(\"--start-maximized\")\n",
    "# options.add_argument(\"--headless\")  # اختياري: لتشغيل بدون نافذة\n",
    "\n",
    "# حدد مكان WebDriver إذا لم يكن في PATH\n",
    "service = Service(executable_path=r\"C:\\Users\\taha mohamed\\.anaconda\\conda\\webdriver\\msedgedriver.exe\")\n",
    "\n",
    "\n",
    "driver = webdriver.Edge(service=service, options=options)\n",
    "\n",
    "# افتح صفحة كارفور\n",
    "url = \"https://www.carrefouregypt.com/mafegy/ar/c/FEGY1660000?currentPage=3&filter=&pageSize=60&sortBy=relevance\"\n",
    "driver.get(url)\n",
    "\n",
    "# انتظر التحميل (يفضل استخدام WebDriverWait في الحالات المتقدمة)\n",
    "time.sleep(5)\n",
    "\n",
    "\n",
    "\n",
    "# اطبع عنوان الصفحة كمثال\n",
    "print(driver.title)\n",
    "\n",
    "# أغلق المتصفح بعد الانتهاء\n",
    "\n"
   ]
  },
  {
   "cell_type": "code",
   "execution_count": 16,
   "id": "90317a62-11ae-4e2c-8654-d1b213f6e0f2",
   "metadata": {},
   "outputs": [
    {
     "name": "stdout",
     "output_type": "stream",
     "text": [
      "خيار\n",
      "طماطم بلدي\n",
      "تفاح أحمر صغير\n",
      "بطاطس للقلي\n",
      "بصل أبيض\n",
      "كانتلوب\n",
      "ليمون بلدي\n",
      "توت أزرق - 125 جرام\n",
      "برتقال بلدي للعصير\n",
      "بصل أحمر\n",
      "تفاح أحمر\n",
      "فلفل أصفر\n",
      "فلفل رومي بلدي\n",
      "كوسة\n",
      "فلفل أحمر\n",
      "بطاطس للطبخ\n",
      "تفاح من رويال جالا\n",
      "ليمون أضاليا\n",
      "باذنجان كبير\n",
      "جزر\n",
      "بطاطا\n",
      "تفاح اصفر - وسط\n",
      "فلفل أخضر حار\n",
      "خوخ\n",
      "موز مستورد\n",
      "بطيخ\n",
      "افوكادو مستورد\n",
      "يوسفي موركت\n",
      "فلفل أخضر\n",
      "بقدونس، 50 جرام\n",
      "كزبرة - 50جم\n",
      "بنجر أحمر\n"
     ]
    }
   ],
   "source": [
    "website = driver.page_source\n",
    "soup = BeautifulSoup(website , \"html.parser\")\n",
    "\n",
    "for title in soup.find_all(\"div\", class_=\"css-tuzc44\"):\n",
    "    print(title.get_text(strip=True))"
   ]
  },
  {
   "cell_type": "code",
   "execution_count": 53,
   "id": "173a9727-8287-47ed-bb81-f1a72ac88811",
   "metadata": {
    "scrolled": true
   },
   "outputs": [
    {
     "name": "stdout",
     "output_type": "stream",
     "text": [
      "1. خيار\n",
      "2. طماطم بلدي\n",
      "3. تفاح أحمر صغير\n",
      "4. بطاطس للقلي\n",
      "5. بصل أبيض\n",
      "6. كانتلوب\n",
      "7. ليمون بلدي\n",
      "8. توت أزرق - 125 جرام\n",
      "9. برتقال بلدي للعصير\n",
      "10. بصل أحمر\n",
      "11. تفاح أحمر\n",
      "12. فلفل أصفر\n",
      "13. فلفل رومي بلدي\n",
      "14. كوسة\n",
      "15. فلفل أحمر\n",
      "16. بطاطس للطبخ\n",
      "17. تفاح من رويال جالا\n",
      "18. ليمون أضاليا\n",
      "19. باذنجان كبير\n",
      "20. جزر\n",
      "21. بطاطا\n",
      "22. تفاح اصفر - وسط\n",
      "23. فلفل أخضر حار\n",
      "24. خوخ\n",
      "25. موز مستورد\n",
      "26. بطيخ\n",
      "27. افوكادو مستورد\n",
      "28. يوسفي موركت\n",
      "29. فلفل أخضر\n",
      "30. بقدونس، 50 جرام\n",
      "31. كزبرة - 50جم\n",
      "32. بنجر أحمر\n",
      "33. كمثري جنوب أفريقيا\n",
      "34. لينا تمر مجدول - 1 كيلو\n",
      "35. أبو عوف لايف جرين بلح مجدول - 1كجم\n",
      "36. مافا برتقال للعصر - 3 كجم\n",
      "37. لينا تمر مجدول - فاخر - ميني - 1 كيلو\n",
      "38. تبارك باذنجان مقور - 250 جرام\n",
      "39. مافا برتقال للعصر - 5 كجم\n",
      "40. مافا طماطم فاخرة - 750 جرام\n"
     ]
    }
   ],
   "source": [
    "from selenium import webdriver\n",
    "from selenium.webdriver.common.by import By\n",
    "from selenium.webdriver.edge.service import Service\n",
    "from selenium.webdriver.edge.options import Options\n",
    "from selenium.webdriver.support.ui import WebDriverWait\n",
    "from selenium.webdriver.support import expected_conditions as EC\n",
    "import time\n",
    "\n",
    "# إعداد المتصفح\n",
    "options = Options()\n",
    "options.add_argument(\"--start-maximized\")\n",
    "\n",
    "service = Service(executable_path=r\"C:\\Users\\taha mohamed\\.anaconda\\conda\\webdriver\\msedgedriver.exe\")\n",
    "driver = webdriver.Edge(service=service, options=options)\n",
    "\n",
    "# افتح الموقع\n",
    "driver.get(\"https://www.carrefouregypt.com/mafegy/ar/c/FEGY1660000?currentPage=3&filter=&pageSize=60&sortBy=relevance\")  # <-- ضع رابط الموقع الفعلي\n",
    "\n",
    "# انتظر تحميل العناصر\n",
    "WebDriverWait(driver, 20).until(\n",
    "    EC.presence_of_all_elements_located((By.CLASS_NAME, \"css-tuzc44\"))\n",
    ")\n",
    "\n",
    "# انزل لتحت لو في تحميل ديناميكي\n",
    "last_height = driver.execute_script(\"return document.body.scrollHeight\")\n",
    "while True:\n",
    "    driver.execute_script(\"window.scrollTo(0, document.body.scrollHeight);\")\n",
    "    time.sleep(2)\n",
    "    new_height = driver.execute_script(\"return document.body.scrollHeight\")\n",
    "    if new_height == last_height:\n",
    "        break\n",
    "    last_height = new_height\n",
    "\n",
    "# بعد ما الصفحة كلها اتحملت، اسحب البيانات\n",
    "titles = driver.find_elements(By.CLASS_NAME, \"css-tuzc44\")\n",
    "for i, title in enumerate(titles, 1):\n",
    "    print(f\"{i}. {title.text}\")\n",
    "\n",
    "\n"
   ]
  },
  {
   "cell_type": "code",
   "execution_count": 55,
   "id": "ddecb2da-b3ff-44cf-b11d-da49533929ef",
   "metadata": {
    "scrolled": true
   },
   "outputs": [
    {
     "name": "stdout",
     "output_type": "stream",
     "text": [
      "10\n",
      ".78\n",
      "EGP\n",
      "8\n",
      ".80\n",
      "EGP\n",
      "44\n",
      ".98\n",
      "EGP\n",
      "8\n",
      ".80\n",
      "EGP\n",
      "7\n",
      ".98\n",
      "EGP\n",
      "20\n",
      ".21\n",
      "EGP\n",
      "52\n",
      ".48\n",
      "EGP\n",
      "73\n",
      ".95\n",
      "EGP\n",
      "17\n",
      ".48\n",
      "EGP\n",
      "8\n",
      ".80\n",
      "EGP\n",
      "52\n",
      ".48\n",
      "EGP\n",
      "38\n",
      ".70\n",
      "EGP\n",
      "17\n",
      ".63\n",
      "EGP\n",
      "12\n",
      ".48\n",
      "EGP\n",
      "36\n",
      ".75\n",
      "EGP\n",
      "7\n",
      ".48\n",
      "EGP\n",
      "54\n",
      ".98\n",
      "EGP\n",
      "39\n",
      ".98\n",
      "EGP\n",
      "10\n",
      ".48\n",
      "EGP\n",
      "6\n",
      ".60\n",
      "EGP\n",
      "17\n",
      ".48\n",
      "EGP\n",
      "49\n",
      ".98\n",
      "EGP\n",
      "9\n",
      ".99\n",
      "EGP\n",
      "34\n",
      ".98\n",
      "EGP\n",
      "59\n",
      ".98\n",
      "EGP\n",
      "199\n",
      ".50\n",
      "EGP\n",
      "89\n",
      ".98\n",
      "EGP\n",
      "22\n",
      ".48\n",
      "EGP\n",
      "13\n",
      ".24\n",
      "EGP\n",
      "2\n",
      ".95\n",
      "EGP\n",
      "2\n",
      ".95\n",
      "EGP\n",
      "17\n",
      ".98\n",
      "EGP\n",
      "89\n",
      ".98\n",
      "EGP\n",
      "364\n",
      ".95\n",
      "EGP\n",
      "299\n",
      ".95\n",
      "EGP\n",
      "147\n",
      ".95\n",
      "EGP\n",
      "569\n",
      ".95\n",
      "EGP\n",
      "37\n",
      ".95\n",
      "EGP\n",
      "215\n",
      ".95\n",
      "EGP\n",
      "34\n",
      ".95\n",
      "EGP\n"
     ]
    }
   ],
   "source": [
    "prices = driver.find_elements(By.CLASS_NAME, \"css-17fvam3\")\n",
    "for price in prices:\n",
    "    print(price.text)"
   ]
  },
  {
   "cell_type": "code",
   "execution_count": 56,
   "id": "2c7cde9e-a072-4662-b18e-9d536695f289",
   "metadata": {},
   "outputs": [
    {
     "name": "stdout",
     "output_type": "stream",
     "text": [
      "https://cdn.mafrservices.com/sys-master-root/he3/h84/35139575906334/32594_main.jpg?im=Resize=400\n",
      "https://cdn.mafrservices.com/sys-master-root/h4e/hd0/35139576037406/32631_main.jpg?im=Resize=400\n",
      "https://cdn.mafrservices.com/sys-master-root/h33/hcd/12499873890334/395527_main.jpg?im=Resize=400\n",
      "https://cdn.mafrservices.com/sys-master-root/hb2/h51/35139573841950/157967_main.jpg?im=Resize=400\n",
      "https://cdn.mafrservices.com/sys-master-root/h08/h5d/14257452646430/32763_main.jpg?im=Resize=400\n",
      "https://cdn.mafrservices.com/sys-master-root/h47/h71/35139575382046/32551_main.jpg?im=Resize=400\n",
      "https://cdn.mafrservices.com/sys-master-root/hfa/h1b/35139574988830/32483_main.jpg?im=Resize=400\n",
      "https://cdn.mafrservices.com/sys-master-root/h02/h6b/26751778848798/232375_main.jpg?im=Resize=400\n",
      "https://cdn.mafrservices.com/sys-master-root/h08/h91/26417213571102/408653_main.jpg?im=Resize=400\n",
      "https://cdn.mafrservices.com/sys-master-root/h7c/heb/35139576823838/32762_main.jpg?im=Resize=400\n",
      "https://cdn.mafrservices.com/sys-master-root/h59/hc5/35139577085982/369185_main.jpg?im=Resize=400\n",
      "https://cdn.mafrservices.com/sys-master-root/h48/hc2/35139577151518/32613_main.jpg?im=Resize=400\n",
      "https://cdn.mafrservices.com/sys-master-root/h6d/he5/35139576692766/32652_main.jpg?im=Resize=400\n",
      "https://cdn.mafrservices.com/sys-master-root/had/he1/35139576561694/32609_main.jpg?im=Resize=400\n",
      "https://cdn.mafrservices.com/sys-master-root/h3b/hef/35139576954910/32615_main.jpg?im=Resize=400\n",
      "https://cdn.mafrservices.com/sys-master-root/h07/hc6/35139577020446/32750_main.jpg?im=Resize=400\n",
      "https://cdn.mafrservices.com/sys-master-root/h95/haa/35139577839646/398651_main.jpg?im=Resize=400\n",
      "https://cdn.mafrservices.com/sys-master-root/hae/h0a/35139574464542/32485_main.jpg?im=Resize=400\n",
      "https://cdn.mafrservices.com/sys-master-root/h1c/h83/62465476722718/32606_main.jpg?im=Resize=400\n",
      "https://cdn.mafrservices.com/sys-master-root/h14/he5/61634588475422/32634_main.jpg?im=Resize=400\n",
      "https://cdn.mafrservices.com/sys-master-root/h7a/hb8/35139577413662/32882_main.jpg?im=Resize=400\n",
      "https://cdn.mafrservices.com/sys-master-root/h56/h44/13215861112862/398517_main.jpg?im=Resize=400\n",
      "https://cdn.mafrservices.com/sys-master-root/he5/h81/35139575840798/32621_main.jpg?im=Resize=400\n",
      "https://cdn.mafrservices.com/sys-master-root/ha6/h4f/10187580112926/32506_main.jpg?im=Resize=400\n",
      "https://cdn.mafrservices.com/sys-master-root/hed/h73/35139575414814/32567_main.jpg?im=Resize=400\n",
      "https://cdn.mafrservices.com/sys-master-root/ha7/h84/14462507450398/32553_main.png?im=Resize=400\n",
      "https://cdn.mafrservices.com/sys-master-root/hc7/hd6/35139576201246/32590_main.jpg?im=Resize=400\n",
      "https://cdn.mafrservices.com/sys-master-root/hca/h65/10197373288478/32497_main.jpg?im=Resize=400\n",
      "https://cdn.mafrservices.com/sys-master-root/hd3/heb/35139576856606/32614_main.jpg?im=Resize=400\n",
      "https://cdn.mafrservices.com/sys-master-root/h67/h61/10067335184414/430465_main.jpg?im=Resize=400\n",
      "https://cdn.mafrservices.com/sys-master-root/ha5/h8e/9342420484126/430466_main.jpg?im=Resize=400\n",
      "https://cdn.mafrservices.com/sys-master-root/hf7/hcf/35139576004638/32591_main.jpg?im=Resize=400\n",
      "https://cdn.mafrservices.com/sys-master-root/h87/h6d/35139575250974/292807_main.jpg?im=Resize=400\n",
      "https://cdn.mafrservices.com/sys-master-root/ha3/h04/47962972979230/575205_main.jpg?im=Resize=400\n",
      "https://cdn.mafrservices.com/sys-master-root/h32/ha7/49705416818718/468022_main.jpg?im=Resize=400\n",
      "https://cdn.mafrservices.com/sys-master-root/h16/h64/15632952229918/565954_main.jpg?im=Resize=400\n",
      "https://cdn.mafrservices.com/sys-master-root/h43/h06/47962972618782/575201_main.jpg?im=Resize=400\n",
      "https://cdn.mafrservices.com/sys-master-root/hf6/h15/62485532803102/131526_main.jpg?im=Resize=400\n",
      "https://cdn.mafrservices.com/sys-master-root/h0e/hf5/35069887152158/579883_main.jpg?im=Resize=400\n",
      "https://cdn.mafrservices.com/sys-master-root/h6e/h3d/15474435096606/565966_main.jpg?im=Resize=400\n"
     ]
    }
   ],
   "source": [
    "images = driver.find_elements(By.CLASS_NAME, \"css-rqp131\")\n",
    "for img in images:\n",
    "    print(img.get_attribute(\"src\"))\n"
   ]
  },
  {
   "cell_type": "code",
   "execution_count": 57,
   "id": "b6f27ec4-bccc-484a-9784-5b6e6bdbd86a",
   "metadata": {},
   "outputs": [],
   "source": [
    "import csv \n"
   ]
  },
  {
   "cell_type": "code",
   "execution_count": 58,
   "id": "d9e136f3-c1a9-4f66-b88b-9db6b9567c64",
   "metadata": {},
   "outputs": [],
   "source": [
    "csvfile = open(\"karfor.csv\", \"w\", encoding= \"utf-8\")\n",
    "writer = csv.writer(csvfile)"
   ]
  },
  {
   "cell_type": "code",
   "execution_count": 59,
   "id": "20db6d46-d1c2-4dff-be01-22ca271d5908",
   "metadata": {},
   "outputs": [
    {
     "data": {
      "text/plain": [
       "23"
      ]
     },
     "execution_count": 59,
     "metadata": {},
     "output_type": "execute_result"
    }
   ],
   "source": [
    "writer.writerow([\"product\", \" price\", \" image\"])"
   ]
  },
  {
   "cell_type": "code",
   "execution_count": 60,
   "id": "f11bc96c-0080-4201-b9a5-a9545f32ca1e",
   "metadata": {},
   "outputs": [],
   "source": [
    "csvfile.close()"
   ]
  },
  {
   "cell_type": "code",
   "execution_count": 68,
   "id": "9bfc684b-dbf9-4acf-b028-c867f00652cd",
   "metadata": {},
   "outputs": [],
   "source": [
    "with open(\"carrefour_products.csv\", mode=\"w\", newline=\"\", encoding=\"utf-8\") as csvfile:\n",
    "    writer = csv.writer(csvfile)\n",
    "    writer.writerow([\"product\", \"price\", \"image\"])\n",
    "\n",
    "    # لازم اللوب يكون هنا جوه الـ with\n",
    "    for title, price, img in zip(titles, prices, images):\n",
    "        product_name = title.text.strip()\n",
    "        price_text = price.text.strip()\n",
    "        image_url = img.get_attribute(\"src\")\n",
    "        writer.writerow([product_name, price_text, image_url])\n"
   ]
  },
  {
   "cell_type": "code",
   "execution_count": 67,
   "id": "f8b60800-3e1b-4b44-ac07-6e12c6bf7b8e",
   "metadata": {},
   "outputs": [],
   "source": [
    "csvfile.close()"
   ]
  },
  {
   "cell_type": "code",
   "execution_count": null,
   "id": "c6ab89f9-987f-4db9-b810-226276e82b6b",
   "metadata": {},
   "outputs": [],
   "source": []
  }
 ],
 "metadata": {
  "kernelspec": {
   "display_name": "Python 3 (ipykernel)",
   "language": "python",
   "name": "python3"
  },
  "language_info": {
   "codemirror_mode": {
    "name": "ipython",
    "version": 3
   },
   "file_extension": ".py",
   "mimetype": "text/x-python",
   "name": "python",
   "nbconvert_exporter": "python",
   "pygments_lexer": "ipython3",
   "version": "3.10.16"
  }
 },
 "nbformat": 4,
 "nbformat_minor": 5
}
